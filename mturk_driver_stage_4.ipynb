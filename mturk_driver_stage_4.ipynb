{
 "cells": [
  {
   "cell_type": "markdown",
   "metadata": {
    "heading_collapsed": true
   },
   "source": [
    "# Table of Contents\n",
    "* [Setup](#Setup)\n",
    "\t* [estimate cost](#estimate-cost)\n",
    "\t* [load dataset](#load-dataset)\n",
    "* [Submitting HITs](#Submitting-HITs)\n",
    "* [Retrieve results](#Retrieve-results)\n",
    "* [Interact with workers](#Interact-with-workers)\n",
    "* [Accepting and deleting HITs... careful with these](#Accepting-and-deleting-HITs...-careful-with-these)\n"
   ]
  },
  {
   "cell_type": "code",
   "execution_count": 15,
   "metadata": {
    "hidden": true,
    "run_control": {
     "frozen": false,
     "read_only": false
    }
   },
   "outputs": [],
   "source": [
    "%%capture\n",
    "from __future__ import division\n",
    "import numpy as np\n",
    "import pandas as pd\n",
    "import scipy.stats as st\n",
    "import itertools\n",
    "import math \n",
    "from collections import Counter, defaultdict\n",
    "%load_ext autoreload\n",
    "%autoreload 2\n",
    "\n",
    "\n",
    "import matplotlib as mpl\n",
    "mpl.use(\"Agg\")\n",
    "import matplotlib.pylab as plt\n",
    "%matplotlib inline\n",
    "%load_ext base16_mplrc\n",
    "%base16_mplrc dark solarized\n",
    "plt.rcParams['grid.linewidth'] = 0\n",
    "plt.rcParams['figure.figsize'] = (16.0, 10.0)\n",
    "\n",
    "\n",
    "import re\n",
    "import pickle\n",
    "import boto\n",
    "from copy import deepcopy\n",
    "import json\n",
    "import os\n",
    "import jinja2\n",
    "import random\n",
    "from tqdm import tqdm\n",
    "\n",
    "from IPython.core.display import HTML\n",
    "\n",
    "from boto.mturk.qualification import PercentAssignmentsApprovedRequirement, Qualifications, Requirement\n",
    "\n",
    "from keysTkingdom import mturk_ai2\n",
    "from keysTkingdom import aws_tokes\n",
    "from keysTkingdom import mturk_aristo\n",
    "\n",
    "\n",
    "from amt_utils.mturk import MTurk\n",
    "from amt_utils.mturk import pickle_this, unpickle_this"
   ]
  },
  {
   "cell_type": "markdown",
   "metadata": {},
   "source": [
    "# Setup - Stage 4"
   ]
  },
  {
   "cell_type": "code",
   "execution_count": 38,
   "metadata": {
    "run_control": {
     "frozen": false,
     "read_only": false
    }
   },
   "outputs": [],
   "source": [
    "dataset = unpickle_this('./pickled_data/flinstones_v0p3_sample_100.pkl')"
   ]
  },
  {
   "cell_type": "code",
   "execution_count": 87,
   "metadata": {},
   "outputs": [],
   "source": [
    "dataset = unpickle_this('obj_data.pkl')"
   ]
  },
  {
   "cell_type": "code",
   "execution_count": 17,
   "metadata": {
    "run_control": {
     "frozen": false,
     "read_only": false
    }
   },
   "outputs": [],
   "source": [
    "single_sent_vids = unpickle_this('./pickled_data/single_sent_vids.pkl')\n",
    "two_sent_vids = unpickle_this('./pickled_data/two_sent_vids.pkl')\n",
    "three_sent_vids = unpickle_this('./pickled_data/three_sent_vids.pkl')"
   ]
  },
  {
   "cell_type": "code",
   "execution_count": 18,
   "metadata": {
    "run_control": {
     "frozen": false,
     "read_only": false
    }
   },
   "outputs": [],
   "source": [
    "current_batch = {vid.gid(): vid.description() for vid in three_sent_vids}"
   ]
  },
  {
   "cell_type": "code",
   "execution_count": 19,
   "metadata": {
    "code_folding": [],
    "run_control": {
     "frozen": false,
     "read_only": false
    }
   },
   "outputs": [],
   "source": [
    "from amt_utils.flintstones import prepare_stage_4a_hit\n",
    "from amt_utils.flintstones import prepare_stage_4b_hit\n",
    "from amt_utils.flintstones import write_task_page\n",
    "from amt_utils.flintstones import generate_simpler_task_page\n",
    "\n",
    "from amt_utils.mturk import expected_cost"
   ]
  },
  {
   "cell_type": "code",
   "execution_count": 396,
   "metadata": {
    "code_folding": [],
    "run_control": {
     "frozen": false,
     "read_only": false
    }
   },
   "outputs": [
    {
     "data": {
      "text/plain": [
       "$652.80"
      ]
     },
     "execution_count": 396,
     "metadata": {},
     "output_type": "execute_result"
    }
   ],
   "source": [
    "turk_account = mturk_ai2\n",
    "rw_host='mechanicalturk.amazonaws.com'\n",
    "amt_con = MTurk(turk_account.access_key, turk_account.access_secret_key, host=rw_host)\n",
    "# amt_con = MTurk(turk_account.access_key, turk_account.access_secret_key)\n",
    "amt_con.get_account_balance()"
   ]
  },
  {
   "cell_type": "code",
   "execution_count": 39,
   "metadata": {
    "run_control": {
     "frozen": false,
     "read_only": false
    }
   },
   "outputs": [],
   "source": [
    "s3_base_path = 'https://s3-us-west-2.amazonaws.com/ai2-vision-animation-gan/annotation_data/still_frames/'"
   ]
  },
  {
   "cell_type": "code",
   "execution_count": 343,
   "metadata": {},
   "outputs": [],
   "source": [
    "s4a_go_vids = unpickle_this('../../build_dataset/s4a_rem_batch_2.pkl')"
   ]
  },
  {
   "cell_type": "code",
   "execution_count": 344,
   "metadata": {},
   "outputs": [
    {
     "data": {
      "text/plain": [
       "3042"
      ]
     },
     "execution_count": 344,
     "metadata": {},
     "output_type": "execute_result"
    }
   ],
   "source": [
    "len(s4a_go_vids)"
   ]
  },
  {
   "cell_type": "code",
   "execution_count": 250,
   "metadata": {},
   "outputs": [],
   "source": [
    "vids_with_parts_ids = unpickle_this('ids_to_target.pkl')"
   ]
  },
  {
   "cell_type": "code",
   "execution_count": 253,
   "metadata": {},
   "outputs": [],
   "source": [
    "videos_w_parts = [vid for vid in videos_w_objs if vid.gid() in vids_with_parts_ids]\n",
    "videos_wo_parts = [vid for vid in videos_w_objs if vid.gid() not in vids_with_parts_ids]"
   ]
  },
  {
   "cell_type": "code",
   "execution_count": 296,
   "metadata": {},
   "outputs": [],
   "source": [
    "vids_test_new_inst = videos_w_parts[60:] + videos_wo_parts[40:]"
   ]
  },
  {
   "cell_type": "code",
   "execution_count": 297,
   "metadata": {},
   "outputs": [
    {
     "data": {
      "text/plain": [
       "4406"
      ]
     },
     "execution_count": 297,
     "metadata": {},
     "output_type": "execute_result"
    }
   ],
   "source": [
    "len(vids_test_new_inst)"
   ]
  },
  {
   "cell_type": "code",
   "execution_count": 319,
   "metadata": {},
   "outputs": [
    {
     "data": {
      "text/plain": [
       "4124"
      ]
     },
     "execution_count": 319,
     "metadata": {},
     "output_type": "execute_result"
    }
   ],
   "source": [
    "(len(videos_wo_parts))"
   ]
  },
  {
   "cell_type": "code",
   "execution_count": 398,
   "metadata": {},
   "outputs": [],
   "source": [
    "s3b_additional_go_vids = unpickle_this('../../build_dataset/additional_3b_batch_1.pkl')"
   ]
  },
  {
   "cell_type": "code",
   "execution_count": 399,
   "metadata": {},
   "outputs": [],
   "source": [
    "current_batch = {vid.gid(): vid.description() for vid in s3b_additional_go_vids}"
   ]
  },
  {
   "cell_type": "code",
   "execution_count": 400,
   "metadata": {},
   "outputs": [
    {
     "data": {
      "text/plain": [
       "1809"
      ]
     },
     "execution_count": 400,
     "metadata": {},
     "output_type": "execute_result"
    }
   ],
   "source": [
    "len(current_batch)"
   ]
  },
  {
   "cell_type": "markdown",
   "metadata": {
    "heading_collapsed": true
   },
   "source": [
    "# Submitting HITs- task a"
   ]
  },
  {
   "cell_type": "code",
   "execution_count": 406,
   "metadata": {
    "code_folding": [],
    "hidden": true,
    "run_control": {
     "frozen": false,
     "read_only": false
    }
   },
   "outputs": [],
   "source": [
    "static_params = {\n",
    "    'title': \"Mark objects mentioned in sentences\",\n",
    "    'description': \"You will be presented with 1-3 sentences describing a scene. The task is to mark words in these sentences that refer to objects by clicking on them.\",\n",
    "    'keywords': ['animation', 'sentence annotation'],\n",
    "    'frame_height': 1000,\n",
    "    'amount': 0.02,\n",
    "    'duration': 3600 * 1,\n",
    "    'lifetime': 3600 * 24 * 2,\n",
    "    'max_assignments': 3,\n",
    "    'locales': ['US', 'CA', 'AU', 'NZ', 'GB']\n",
    "}"
   ]
  },
  {
   "cell_type": "code",
   "execution_count": null,
   "metadata": {
    "hidden": true,
    "run_control": {
     "frozen": false,
     "read_only": false
    }
   },
   "outputs": [],
   "source": [
    "build_hit_group = [prepare_stage_4a_hit(img_id, descr, static_params) for img_id, descr in tqdm(current_batch.items())]"
   ]
  },
  {
   "cell_type": "code",
   "execution_count": 410,
   "metadata": {
    "hidden": true,
    "run_control": {
     "frozen": false,
     "read_only": false
    }
   },
   "outputs": [],
   "source": [
    "write_task_page(build_hit_group[50]['html'])"
   ]
  },
  {
   "cell_type": "code",
   "execution_count": 409,
   "metadata": {
    "hidden": true,
    "run_control": {
     "frozen": false,
     "read_only": false
    }
   },
   "outputs": [
    {
     "data": {
      "text/plain": [
       "108.54"
      ]
     },
     "execution_count": 409,
     "metadata": {},
     "output_type": "execute_result"
    }
   ],
   "source": [
    "expected_cost(build_hit_group, static_params, amt_con)"
   ]
  },
  {
   "cell_type": "markdown",
   "metadata": {
    "hidden": true
   },
   "source": [
    "**Procedure**\n",
    "\n",
    "1. assure interface template is working\n",
    "\n",
    "2. build and load ds skeleton for the sample to be submitted\n",
    "\n",
    "3. make sure to sync images to s3\n",
    "\n",
    "4. double check static params and host\n",
    "\n",
    "5. build and submit"
   ]
  },
  {
   "cell_type": "code",
   "execution_count": 411,
   "metadata": {
    "hidden": true,
    "run_control": {
     "frozen": false,
     "read_only": false
    },
    "scrolled": true
   },
   "outputs": [
    {
     "name": "stderr",
     "output_type": "stream",
     "text": [
      "100%|██████████| 1809/1809 [06:09<00:00,  4.90it/s]\n"
     ]
    }
   ],
   "source": [
    "hit_group = [amt_con.create_html_hit(single_hit) for single_hit in tqdm(build_hit_group)]"
   ]
  },
  {
   "cell_type": "markdown",
   "metadata": {
    "heading_collapsed": true
   },
   "source": [
    "# Submit HITS- task b"
   ]
  },
  {
   "cell_type": "code",
   "execution_count": 384,
   "metadata": {
    "hidden": true
   },
   "outputs": [],
   "source": [
    "static_params = {\n",
    "    'title': \"Locate objects in an animation frame\",\n",
    "    'description': 'Draw a bounding box for a particular object in a image.',\n",
    "    'keywords': ['animation', 'image', 'bounding box','bounding boxes', 'image annotation'],\n",
    "    'frame_height': 1000,\n",
    "    'amount': 0.03,\n",
    "    'duration': 3600 * 1,\n",
    "    'lifetime': 3600 * 24 * 2,\n",
    "    'max_assignments': 3,\n",
    "    'locales': ['US', 'CA', 'AU', 'NZ', 'GB']\n",
    "}"
   ]
  },
  {
   "cell_type": "code",
   "execution_count": 390,
   "metadata": {
    "hidden": true
   },
   "outputs": [
    {
     "name": "stderr",
     "output_type": "stream",
     "text": [
      "100%|██████████| 3042/3042 [00:14<00:00, 216.62it/s]\n"
     ]
    }
   ],
   "source": [
    "build_hit_group = []\n",
    "for vid in tqdm(s4a_go_vids):\n",
    "    build_hit_group.extend(prepare_stage_4b_hit(vid, static_params))"
   ]
  },
  {
   "cell_type": "code",
   "execution_count": 391,
   "metadata": {
    "hidden": true
   },
   "outputs": [],
   "source": [
    "write_task_page(random.choice(build_hit_group)['html'])"
   ]
  },
  {
   "cell_type": "code",
   "execution_count": 392,
   "metadata": {
    "hidden": true
   },
   "outputs": [
    {
     "data": {
      "text/plain": [
       "445.77"
      ]
     },
     "execution_count": 392,
     "metadata": {},
     "output_type": "execute_result"
    }
   ],
   "source": [
    "expected_cost(build_hit_group, static_params, amt_con)"
   ]
  },
  {
   "cell_type": "code",
   "execution_count": 393,
   "metadata": {
    "hidden": true
   },
   "outputs": [
    {
     "data": {
      "text/plain": [
       "4953"
      ]
     },
     "execution_count": 393,
     "metadata": {},
     "output_type": "execute_result"
    }
   ],
   "source": [
    "len(build_hit_group)"
   ]
  },
  {
   "cell_type": "code",
   "execution_count": null,
   "metadata": {
    "hidden": true
   },
   "outputs": [],
   "source": []
  },
  {
   "cell_type": "code",
   "execution_count": 395,
   "metadata": {
    "hidden": true
   },
   "outputs": [
    {
     "name": "stderr",
     "output_type": "stream",
     "text": [
      "100%|██████████| 4953/4953 [17:00<00:00,  3.74it/s]\n"
     ]
    }
   ],
   "source": [
    "# hit_group = [amt_con.create_html_hit(single_hit) for single_hit in tqdm(build_hit_group)]"
   ]
  },
  {
   "cell_type": "code",
   "execution_count": null,
   "metadata": {
    "hidden": true
   },
   "outputs": [],
   "source": []
  },
  {
   "cell_type": "code",
   "execution_count": null,
   "metadata": {
    "hidden": true
   },
   "outputs": [],
   "source": []
  },
  {
   "cell_type": "code",
   "execution_count": null,
   "metadata": {
    "hidden": true
   },
   "outputs": [],
   "source": []
  },
  {
   "cell_type": "code",
   "execution_count": null,
   "metadata": {
    "hidden": true
   },
   "outputs": [],
   "source": []
  },
  {
   "cell_type": "code",
   "execution_count": null,
   "metadata": {
    "hidden": true
   },
   "outputs": [],
   "source": []
  },
  {
   "cell_type": "code",
   "execution_count": null,
   "metadata": {
    "hidden": true
   },
   "outputs": [],
   "source": []
  },
  {
   "cell_type": "markdown",
   "metadata": {},
   "source": [
    "# Retrieve results"
   ]
  },
  {
   "cell_type": "code",
   "execution_count": 192,
   "metadata": {
    "run_control": {
     "frozen": false,
     "read_only": false
    }
   },
   "outputs": [],
   "source": [
    "from amt_utils.flintstones import get_assignments\n",
    "from amt_utils.flintstones import filter_hits_by_date\n",
    "from amt_utils.flintstones import filter_hits_by_completion\n",
    "from amt_utils.flintstones import filter_hits_by_status\n",
    "from amt_utils.flintstones import get_completed_hits\n",
    "from amt_utils.flintstones import get_assignments\n",
    "from amt_utils.mturk import pickle_this"
   ]
  },
  {
   "cell_type": "code",
   "execution_count": 193,
   "metadata": {
    "run_control": {
     "frozen": false,
     "read_only": false
    }
   },
   "outputs": [],
   "source": [
    "import datetime\n",
    "import dateutil.parser as dt_parse"
   ]
  },
  {
   "cell_type": "code",
   "execution_count": 412,
   "metadata": {
    "run_control": {
     "frozen": false,
     "read_only": false
    }
   },
   "outputs": [
    {
     "name": "stdout",
     "output_type": "stream",
     "text": [
      "CPU times: user 8.98 s, sys: 1.48 s, total: 10.5 s\n",
      "Wall time: 6min 6s\n"
     ]
    }
   ],
   "source": [
    "%%time\n",
    "all_hits = amt_con.get_all_hits()"
   ]
  },
  {
   "cell_type": "code",
   "execution_count": 314,
   "metadata": {
    "run_control": {
     "frozen": false,
     "read_only": false
    }
   },
   "outputs": [],
   "source": [
    "start_date = (2017, 10, 2)\n",
    "end_date = (2017, 10, 5)\n",
    "recent_hits = filter_hits_by_date(all_hits, start_date, end_date)\n",
    "# recent_hits = filter_hits_by_status(recent_hits)"
   ]
  },
  {
   "cell_type": "code",
   "execution_count": 315,
   "metadata": {
    "run_control": {
     "frozen": false,
     "read_only": false
    }
   },
   "outputs": [
    {
     "data": {
      "text/plain": [
       "2201"
      ]
     },
     "execution_count": 315,
     "metadata": {},
     "output_type": "execute_result"
    }
   ],
   "source": [
    "len(recent_hits)"
   ]
  },
  {
   "cell_type": "code",
   "execution_count": 549,
   "metadata": {
    "collapsed": true,
    "run_control": {
     "frozen": false,
     "read_only": false
    }
   },
   "outputs": [],
   "source": [
    "# prod_results_1_4 = recent_hits"
   ]
  },
  {
   "cell_type": "code",
   "execution_count": 78,
   "metadata": {
    "run_control": {
     "frozen": false,
     "read_only": false
    }
   },
   "outputs": [
    {
     "name": "stderr",
     "output_type": "stream",
     "text": [
      "100%|██████████| 8364/8364 [17:39<00:00,  8.59it/s] \n"
     ]
    }
   ],
   "source": [
    "# first_prod_batch = get_assignments(amt_con.connection, tqdm(recent_hits))"
   ]
  },
  {
   "cell_type": "code",
   "execution_count": null,
   "metadata": {
    "collapsed": true,
    "run_control": {
     "frozen": false,
     "read_only": false
    }
   },
   "outputs": [],
   "source": []
  },
  {
   "cell_type": "code",
   "execution_count": 350,
   "metadata": {
    "run_control": {
     "frozen": false,
     "read_only": false
    }
   },
   "outputs": [
    {
     "data": {
      "text/plain": [
       "100"
      ]
     },
     "execution_count": 350,
     "metadata": {},
     "output_type": "execute_result"
    }
   ],
   "source": [
    "len(first_test_batch)"
   ]
  },
  {
   "cell_type": "code",
   "execution_count": 79,
   "metadata": {
    "run_control": {
     "frozen": false,
     "read_only": false
    }
   },
   "outputs": [],
   "source": [
    "pickle_this(first_prod_batch, 'first_prod_batch.pkl')"
   ]
  },
  {
   "cell_type": "code",
   "execution_count": null,
   "metadata": {
    "collapsed": true,
    "run_control": {
     "frozen": false,
     "read_only": false
    }
   },
   "outputs": [],
   "source": []
  },
  {
   "cell_type": "code",
   "execution_count": null,
   "metadata": {
    "collapsed": true,
    "run_control": {
     "frozen": false,
     "read_only": false
    }
   },
   "outputs": [],
   "source": [
    "len(all_hits)"
   ]
  },
  {
   "cell_type": "code",
   "execution_count": null,
   "metadata": {
    "collapsed": true,
    "run_control": {
     "frozen": false,
     "read_only": false
    }
   },
   "outputs": [],
   "source": [
    "th1 = all_hits[0]"
   ]
  },
  {
   "cell_type": "code",
   "execution_count": null,
   "metadata": {
    "collapsed": true,
    "run_control": {
     "frozen": false,
     "read_only": false
    }
   },
   "outputs": [],
   "source": [
    "th1.Title"
   ]
  },
  {
   "cell_type": "code",
   "execution_count": null,
   "metadata": {
    "collapsed": true,
    "run_control": {
     "frozen": false,
     "read_only": false
    }
   },
   "outputs": [],
   "source": [
    "subtask_hits = "
   ]
  },
  {
   "cell_type": "code",
   "execution_count": null,
   "metadata": {
    "collapsed": true,
    "run_control": {
     "frozen": false,
     "read_only": false
    },
    "scrolled": true
   },
   "outputs": [],
   "source": [
    "len(recent_hits)"
   ]
  },
  {
   "cell_type": "code",
   "execution_count": 544,
   "metadata": {
    "collapsed": true,
    "run_control": {
     "frozen": false,
     "read_only": false
    }
   },
   "outputs": [],
   "source": [
    "creation_times = pd.Series([dt_parse.parse(hit.CreationTime) for hit in recent_hits])"
   ]
  },
  {
   "cell_type": "code",
   "execution_count": 548,
   "metadata": {
    "run_control": {
     "frozen": false,
     "read_only": false
    }
   },
   "outputs": [
    {
     "data": {
      "image/png": "[encoded data removed]",
      "text/plain": [
       "<matplotlib.figure.Figure at 0x10a7740d0>"
      ]
     },
     "metadata": {},
     "output_type": "display_data"
    }
   ],
   "source": [
    "_ = creation_times.hist(bins = 1)"
   ]
  },
  {
   "cell_type": "code",
   "execution_count": 554,
   "metadata": {
    "run_control": {
     "frozen": false,
     "read_only": false
    }
   },
   "outputs": [
    {
     "data": {
      "text/plain": [
       "1632"
      ]
     },
     "execution_count": 554,
     "metadata": {},
     "output_type": "execute_result"
    }
   ],
   "source": [
    "len(recent_hits)"
   ]
  },
  {
   "cell_type": "code",
   "execution_count": 316,
   "metadata": {
    "run_control": {
     "frozen": false,
     "read_only": false
    }
   },
   "outputs": [
    {
     "name": "stderr",
     "output_type": "stream",
     "text": [
      "100%|██████████| 2201/2201 [04:20<00:00,  9.20it/s]\n"
     ]
    }
   ],
   "source": [
    "results = get_assignments(amt_con.connection, tqdm(recent_hits))"
   ]
  },
  {
   "cell_type": "code",
   "execution_count": 277,
   "metadata": {
    "run_control": {
     "frozen": false,
     "read_only": false
    }
   },
   "outputs": [
    {
     "data": {
      "text/plain": [
       "5"
      ]
     },
     "execution_count": 277,
     "metadata": {},
     "output_type": "execute_result"
    }
   ],
   "source": [
    "len(results)"
   ]
  },
  {
   "cell_type": "code",
   "execution_count": 278,
   "metadata": {
    "run_control": {
     "frozen": false,
     "read_only": false
    }
   },
   "outputs": [
    {
     "data": {
      "text/plain": [
       "[[], [], [], [<boto.mturk.connection.Assignment at 0x11f16f9d0>], []]"
      ]
     },
     "execution_count": 278,
     "metadata": {},
     "output_type": "execute_result"
    }
   ],
   "source": [
    "results.values()"
   ]
  },
  {
   "cell_type": "code",
   "execution_count": 312,
   "metadata": {},
   "outputs": [
    {
     "data": {
      "text/plain": [
       "2201"
      ]
     },
     "execution_count": 312,
     "metadata": {},
     "output_type": "execute_result"
    }
   ],
   "source": [
    "len(results)"
   ]
  },
  {
   "cell_type": "code",
   "execution_count": 279,
   "metadata": {
    "run_control": {
     "frozen": false,
     "read_only": false
    }
   },
   "outputs": [
    {
     "data": {
      "text/plain": [
       "<boto.mturk.connection.Assignment at 0x11f16f9d0>"
      ]
     },
     "execution_count": 279,
     "metadata": {},
     "output_type": "execute_result"
    }
   ],
   "source": [
    "tr = list(results.values())[3][0]"
   ]
  },
  {
   "cell_type": "code",
   "execution_count": 317,
   "metadata": {},
   "outputs": [],
   "source": [
    "pickle_this(results, 'full_batch_2_update.pkl')"
   ]
  },
  {
   "cell_type": "code",
   "execution_count": 295,
   "metadata": {
    "run_control": {
     "frozen": false,
     "read_only": false
    }
   },
   "outputs": [],
   "source": [
    "# pickle_this(results, 'test4b_2.pkl')"
   ]
  },
  {
   "cell_type": "code",
   "execution_count": 552,
   "metadata": {
    "collapsed": true,
    "run_control": {
     "frozen": false,
     "read_only": false
    }
   },
   "outputs": [],
   "source": [
    "batch_8 = unpickle_this('./pickeled_results/turker_batch_8.pkl')"
   ]
  },
  {
   "cell_type": "code",
   "execution_count": 553,
   "metadata": {
    "run_control": {
     "frozen": false,
     "read_only": false
    }
   },
   "outputs": [
    {
     "data": {
      "text/plain": [
       "1632"
      ]
     },
     "execution_count": 553,
     "metadata": {},
     "output_type": "execute_result"
    }
   ],
   "source": [
    "len(batch_8)"
   ]
  },
  {
   "cell_type": "code",
   "execution_count": null,
   "metadata": {},
   "outputs": [],
   "source": []
  },
  {
   "cell_type": "code",
   "execution_count": null,
   "metadata": {},
   "outputs": [],
   "source": []
  },
  {
   "cell_type": "code",
   "execution_count": null,
   "metadata": {},
   "outputs": [],
   "source": []
  },
  {
   "cell_type": "code",
   "execution_count": null,
   "metadata": {},
   "outputs": [],
   "source": []
  },
  {
   "cell_type": "markdown",
   "metadata": {
    "heading_collapsed": true
   },
   "source": [
    "# all hit cleanup"
   ]
  },
  {
   "cell_type": "code",
   "execution_count": 8,
   "metadata": {
    "collapsed": true,
    "hidden": true,
    "run_control": {
     "frozen": false,
     "read_only": false
    }
   },
   "outputs": [],
   "source": [
    "all_thus_far = unpickle_this('latest_result_all_8_31.pkl')"
   ]
  },
  {
   "cell_type": "code",
   "execution_count": 34,
   "metadata": {
    "collapsed": true,
    "hidden": true,
    "run_control": {
     "frozen": false,
     "read_only": false
    }
   },
   "outputs": [],
   "source": [
    "all_hits = unpickle_this('stage_3_full_hits_8_31.pkl')"
   ]
  },
  {
   "cell_type": "code",
   "execution_count": 41,
   "metadata": {
    "hidden": true,
    "run_control": {
     "frozen": false,
     "read_only": false
    }
   },
   "outputs": [
    {
     "data": {
      "text/plain": [
       "[<boto.mturk.connection.HIT at 0x13af39d50>]"
      ]
     },
     "execution_count": 41,
     "metadata": {},
     "output_type": "execute_result"
    }
   ],
   "source": [
    "all_hits[0]"
   ]
  },
  {
   "cell_type": "code",
   "execution_count": 35,
   "metadata": {
    "hidden": true,
    "run_control": {
     "frozen": false,
     "read_only": false
    }
   },
   "outputs": [
    {
     "data": {
      "text/plain": [
       "64326"
      ]
     },
     "execution_count": 35,
     "metadata": {},
     "output_type": "execute_result"
    }
   ],
   "source": [
    "len(all_hits)"
   ]
  },
  {
   "cell_type": "code",
   "execution_count": 9,
   "metadata": {
    "hidden": true,
    "run_control": {
     "frozen": false,
     "read_only": false
    }
   },
   "outputs": [
    {
     "data": {
      "text/plain": [
       "64326"
      ]
     },
     "execution_count": 9,
     "metadata": {},
     "output_type": "execute_result"
    }
   ],
   "source": [
    "len(all_thus_far)"
   ]
  },
  {
   "cell_type": "code",
   "execution_count": 11,
   "metadata": {
    "collapsed": true,
    "hidden": true,
    "run_control": {
     "frozen": false,
     "read_only": false
    }
   },
   "outputs": [],
   "source": [
    "all_asgmts = [item for sublist in all_thus_far for item in sublist]"
   ]
  },
  {
   "cell_type": "code",
   "execution_count": 12,
   "metadata": {
    "hidden": true,
    "run_control": {
     "frozen": false,
     "read_only": false
    }
   },
   "outputs": [
    {
     "data": {
      "text/plain": [
       "192045"
      ]
     },
     "execution_count": 12,
     "metadata": {},
     "output_type": "execute_result"
    }
   ],
   "source": [
    "len(all_asgmts)"
   ]
  },
  {
   "cell_type": "code",
   "execution_count": 13,
   "metadata": {
    "collapsed": true,
    "hidden": true,
    "run_control": {
     "frozen": false,
     "read_only": false
    }
   },
   "outputs": [],
   "source": [
    "ta1 = all_asgmts[0]"
   ]
  },
  {
   "cell_type": "code",
   "execution_count": 17,
   "metadata": {
    "collapsed": true,
    "hidden": true,
    "run_control": {
     "frozen": false,
     "read_only": false
    }
   },
   "outputs": [],
   "source": [
    "statuses = pd.Series([asgmt.AssignmentStatus for asgmt in all_asgmts])"
   ]
  },
  {
   "cell_type": "code",
   "execution_count": null,
   "metadata": {
    "collapsed": true,
    "hidden": true,
    "run_control": {
     "frozen": false,
     "read_only": false
    }
   },
   "outputs": [],
   "source": [
    "statuses = pd.Series([asgmt.AssignmentStatus for asgmt in all_asgmts])"
   ]
  },
  {
   "cell_type": "code",
   "execution_count": 42,
   "metadata": {
    "hidden": true,
    "run_control": {
     "frozen": false,
     "read_only": false
    }
   },
   "outputs": [
    {
     "data": {
      "text/plain": [
       "1    64326\n",
       "dtype: int64"
      ]
     },
     "execution_count": 42,
     "metadata": {},
     "output_type": "execute_result"
    }
   ],
   "source": [
    "pd.Series([len(hit) for hit in all_hits]).value_counts()"
   ]
  },
  {
   "cell_type": "code",
   "execution_count": 18,
   "metadata": {
    "hidden": true,
    "run_control": {
     "frozen": false,
     "read_only": false
    }
   },
   "outputs": [
    {
     "data": {
      "text/plain": [
       "Approved     188099\n",
       "Rejected       2173\n",
       "Submitted      1773\n",
       "dtype: int64"
      ]
     },
     "execution_count": 18,
     "metadata": {},
     "output_type": "execute_result"
    }
   ],
   "source": [
    "statuses.value_counts()"
   ]
  },
  {
   "cell_type": "code",
   "execution_count": 19,
   "metadata": {
    "collapsed": true,
    "hidden": true,
    "run_control": {
     "frozen": false,
     "read_only": false
    }
   },
   "outputs": [],
   "source": [
    "pending_asgmts = [asgmt for asgmt in all_asgmts if asgmt.AssignmentStatus == 'Submitted']"
   ]
  },
  {
   "cell_type": "code",
   "execution_count": 20,
   "metadata": {
    "hidden": true,
    "run_control": {
     "frozen": false,
     "read_only": false
    }
   },
   "outputs": [
    {
     "data": {
      "text/plain": [
       "1773"
      ]
     },
     "execution_count": 20,
     "metadata": {},
     "output_type": "execute_result"
    }
   ],
   "source": [
    "len(pending_asgmts)"
   ]
  },
  {
   "cell_type": "code",
   "execution_count": 21,
   "metadata": {
    "hidden": true,
    "run_control": {
     "frozen": false,
     "read_only": false
    }
   },
   "outputs": [
    {
     "data": {
      "text/plain": [
       "u'2017-07-13T06:54:11Z'"
      ]
     },
     "execution_count": 21,
     "metadata": {},
     "output_type": "execute_result"
    }
   ],
   "source": [
    "ta1.AcceptTime"
   ]
  },
  {
   "cell_type": "code",
   "execution_count": 26,
   "metadata": {
    "collapsed": true,
    "hidden": true,
    "run_control": {
     "frozen": false,
     "marked": true,
     "read_only": false
    }
   },
   "outputs": [],
   "source": [
    "accept_times = pd.Series([dt_parse.parse(asgmt.AcceptTime) for asgmt in pending_asgmts])"
   ]
  },
  {
   "cell_type": "code",
   "execution_count": 28,
   "metadata": {
    "hidden": true,
    "run_control": {
     "frozen": false,
     "read_only": false
    }
   },
   "outputs": [
    {
     "data": {
      "image/png": "[encoded data removed]",
      "text/plain": [
       "<matplotlib.figure.Figure at 0x13a7f7a90>"
      ]
     },
     "metadata": {},
     "output_type": "display_data"
    }
   ],
   "source": [
    "_ = accept_times.hist(bins = 40)"
   ]
  },
  {
   "cell_type": "code",
   "execution_count": null,
   "metadata": {
    "collapsed": true,
    "hidden": true,
    "run_control": {
     "frozen": false,
     "read_only": false
    }
   },
   "outputs": [],
   "source": []
  },
  {
   "cell_type": "code",
   "execution_count": null,
   "metadata": {
    "collapsed": true,
    "hidden": true,
    "run_control": {
     "frozen": false,
     "read_only": false
    }
   },
   "outputs": [],
   "source": []
  },
  {
   "cell_type": "code",
   "execution_count": null,
   "metadata": {
    "collapsed": true,
    "hidden": true,
    "run_control": {
     "frozen": false,
     "read_only": false
    }
   },
   "outputs": [],
   "source": []
  },
  {
   "cell_type": "code",
   "execution_count": null,
   "metadata": {
    "collapsed": true,
    "hidden": true,
    "run_control": {
     "frozen": false,
     "read_only": false
    }
   },
   "outputs": [],
   "source": []
  },
  {
   "cell_type": "markdown",
   "metadata": {
    "heading_collapsed": true,
    "hidden": true
   },
   "source": [
    "## check results"
   ]
  },
  {
   "cell_type": "code",
   "execution_count": 506,
   "metadata": {
    "collapsed": true,
    "hidden": true,
    "run_control": {
     "frozen": false,
     "read_only": false
    }
   },
   "outputs": [],
   "source": [
    "main_characters =  {\"fred\",\n",
    "             \"barney\",\n",
    "              \"wilma\",\n",
    "              \"betty\",\n",
    "              \"pebbles\",\n",
    "              \"bamm bamm\",\n",
    "              \"dino\",\n",
    "              \"mr slate\",\n",
    "              \"baby puss\",\n",
    "              \"hoppy\",\n",
    "              \"empty frame\",\n",
    "              \"no characters\"}\n",
    "\n",
    "def create_result(assmt):\n",
    "    result = json.loads(assmt.answers[0][0].fields[0])\n",
    "    result['h_id'] = assmt.HITId\n",
    "    result['worker_id'] = assmt.WorkerId\n",
    "    return result\n",
    "\n",
    "\n",
    "def all_main(char_set, main_chars=main_characters):\n",
    "    return not bool(char_set.difference(main_chars))"
   ]
  },
  {
   "cell_type": "code",
   "execution_count": 513,
   "metadata": {
    "collapsed": true,
    "hidden": true,
    "run_control": {
     "frozen": false,
     "read_only": false
    }
   },
   "outputs": [],
   "source": [
    "assignments =[]\n",
    "for assignment_triple in list(results.values()):\n",
    "    assignments.extend(assignment_triple)\n",
    "\n",
    "assignment_results = [create_result(ar) for ar in assignments]\n",
    "characters_present = [{'h_id': anno['h_id'], 'w_id': anno['worker_id'], 'still_id': anno['stillID'], 'characters': set([ch['label'] for ch in json.loads(anno['characterBoxes'])])} for anno in assignment_results]"
   ]
  },
  {
   "cell_type": "code",
   "execution_count": 514,
   "metadata": {
    "hidden": true,
    "run_control": {
     "frozen": false,
     "read_only": false
    }
   },
   "outputs": [
    {
     "data": {
      "text/plain": [
       "[{'characters': {u'judge'},\n",
       "  'h_id': u'31S7M7DAGHQCUSQF0AU15OEW4LOLTV',\n",
       "  'still_id': u's_06_e_04_shot_014628_014702_40.png',\n",
       "  'w_id': u'AO235WMFCB1D9'},\n",
       " {'characters': {u'hoppy'},\n",
       "  'h_id': u'3FI30CQHVLJUFLTRDKXEGBQD8LQ6BD',\n",
       "  'still_id': u's_05_e_22_shot_037596_037670_40.png',\n",
       "  'w_id': u'AO235WMFCB1D9'},\n",
       " {'characters': {u'wilma'},\n",
       "  'h_id': u'35XW21VSVHEBFSD0BAPBVJIA22ALS6',\n",
       "  'still_id': u's_02_e_29_shot_005091_005165_40.png',\n",
       "  'w_id': u'AO235WMFCB1D9'},\n",
       " {'characters': {u'fred', u'wilma'},\n",
       "  'h_id': u'3W3RSPVVGTRRU5540FKBAK0YNZVLUM',\n",
       "  'still_id': u's_04_e_16_shot_018813_018887_40.png',\n",
       "  'w_id': u'AO235WMFCB1D9'},\n",
       " {'characters': {u'barney', u'door', u'fred'},\n",
       "  'h_id': u'3HUR21WDDVP3B86YOZKOOZ1YQY6YXD',\n",
       "  'still_id': u's_01_e_24_shot_033229_033303_40.png',\n",
       "  'w_id': u'AO235WMFCB1D9'},\n",
       " {'characters': {u'hat'},\n",
       "  'h_id': u'3SMIWMMK62575ZH34TRDJVHEL8PUWI',\n",
       "  'still_id': u's_02_e_08_shot_019539_019613_40.png',\n",
       "  'w_id': u'AO235WMFCB1D9'},\n",
       " {'characters': {u'barney', u'roof'},\n",
       "  'h_id': u'39WSF6KUV3LIBUBFN7LYYJIPWG6OEP',\n",
       "  'still_id': u's_02_e_11_shot_019591_019665_40.png',\n",
       "  'w_id': u'AO235WMFCB1D9'}]"
      ]
     },
     "execution_count": 514,
     "metadata": {},
     "output_type": "execute_result"
    }
   ],
   "source": [
    "characters_present"
   ]
  },
  {
   "cell_type": "markdown",
   "metadata": {
    "heading_collapsed": true
   },
   "source": [
    "# Interact with workers"
   ]
  },
  {
   "cell_type": "markdown",
   "metadata": {
    "heading_collapsed": true,
    "hidden": true
   },
   "source": [
    "## reject assignments and ban workers"
   ]
  },
  {
   "cell_type": "code",
   "execution_count": 37,
   "metadata": {
    "collapsed": true,
    "hidden": true,
    "run_control": {
     "frozen": false,
     "read_only": false
    }
   },
   "outputs": [],
   "source": [
    "def ban_bad_workers(mturk_connection, worker_ids):\n",
    "    for worker in worker_ids:\n",
    "        reason_for_block = \"\"\"\n",
    "        Your HITs contained many frames with characters, but they were marked 'empty frame'\n",
    "        \"\"\"\n",
    "        print('blocking ' + str(worker))\n",
    "        mturk_connection.block_worker(worker, reason_for_block)"
   ]
  },
  {
   "cell_type": "code",
   "execution_count": 38,
   "metadata": {
    "collapsed": true,
    "hidden": true,
    "run_control": {
     "frozen": false,
     "read_only": false
    }
   },
   "outputs": [],
   "source": [
    "workers_to_ban = unpickle_this('workers_to_ban_prod_1_4.pkl')"
   ]
  },
  {
   "cell_type": "code",
   "execution_count": 39,
   "metadata": {
    "hidden": true,
    "run_control": {
     "frozen": false,
     "read_only": false
    }
   },
   "outputs": [
    {
     "data": {
      "text/plain": [
       "{u'A13ISH3PAGHO0A',\n",
       " u'A15DOG6AXQ7LGY',\n",
       " u'A1CF1W8CP0DHB0',\n",
       " u'A1IOMFFEKCWOIT',\n",
       " u'A1QP6651C4Q8NS',\n",
       " u'A1RULXRXR2XF6M',\n",
       " u'A273GB71FE8RIV',\n",
       " u'A2CXEAMWU2SFV3',\n",
       " u'A2L97S8Z5FZK5N',\n",
       " u'A2NJTYYY37DNO',\n",
       " u'A2PU4YNWITAQVL',\n",
       " u'A2X7BE2FSPUKCK',\n",
       " u'A3R6KO03P9QLNO',\n",
       " u'A3UPV16IECELHV',\n",
       " u'A9ALF1SODWQE5'}"
      ]
     },
     "execution_count": 39,
     "metadata": {},
     "output_type": "execute_result"
    }
   ],
   "source": [
    "workers_to_ban"
   ]
  },
  {
   "cell_type": "code",
   "execution_count": 40,
   "metadata": {
    "hidden": true,
    "run_control": {
     "frozen": false,
     "read_only": false
    }
   },
   "outputs": [
    {
     "name": "stdout",
     "output_type": "stream",
     "text": [
      "blocking A2PU4YNWITAQVL\n",
      "blocking A273GB71FE8RIV\n",
      "blocking A3R6KO03P9QLNO\n",
      "blocking A2X7BE2FSPUKCK\n",
      "blocking A1QP6651C4Q8NS\n",
      "blocking A2CXEAMWU2SFV3\n",
      "blocking A2NJTYYY37DNO\n",
      "blocking A1CF1W8CP0DHB0\n",
      "blocking A3UPV16IECELHV\n",
      "blocking A2L97S8Z5FZK5N\n",
      "blocking A1IOMFFEKCWOIT\n",
      "blocking A15DOG6AXQ7LGY\n",
      "blocking A9ALF1SODWQE5\n",
      "blocking A1RULXRXR2XF6M\n",
      "blocking A13ISH3PAGHO0A\n"
     ]
    }
   ],
   "source": [
    "ban_bad_workers(amt_con.connection, list(workers_to_ban))"
   ]
  },
  {
   "cell_type": "code",
   "execution_count": 46,
   "metadata": {
    "collapsed": true,
    "hidden": true,
    "run_control": {
     "frozen": false,
     "read_only": false
    }
   },
   "outputs": [],
   "source": [
    "to_reject = unpickle_this('assignments_to_reject_prod_1_4.pkl')"
   ]
  },
  {
   "cell_type": "code",
   "execution_count": 48,
   "metadata": {
    "hidden": true,
    "run_control": {
     "frozen": false,
     "read_only": false
    }
   },
   "outputs": [
    {
     "data": {
      "text/plain": [
       "378.16"
      ]
     },
     "execution_count": 48,
     "metadata": {},
     "output_type": "execute_result"
    }
   ],
   "source": [
    "len(to_reject) * 0.04"
   ]
  },
  {
   "cell_type": "code",
   "execution_count": 43,
   "metadata": {
    "collapsed": true,
    "hidden": true,
    "run_control": {
     "frozen": false,
     "read_only": false
    }
   },
   "outputs": [],
   "source": [
    "def reject_assignments(mturk_connection, assignments_to_reject):\n",
    "    feedback_message = \"\"\"\n",
    "    Your HITs contained many frames with characters, but they were marked 'empty frame'\n",
    "    \"\"\"\n",
    "    reject_count = len(assignments_to_reject)\n",
    "    for assignment_id in tqdm(assignments_to_reject):\n",
    "        try:\n",
    "            mturk_connection.reject_assignment(assignment_id, feedback_message)\n",
    "        except boto.mturk.connection.MTurkRequestError:\n",
    "            print('assignment ' + str(assignment_id) + ' already accepted or rejected')\n",
    "\n",
    "    return reject_count"
   ]
  },
  {
   "cell_type": "code",
   "execution_count": 45,
   "metadata": {
    "collapsed": true,
    "hidden": true,
    "run_control": {
     "frozen": false,
     "read_only": false
    }
   },
   "outputs": [],
   "source": [
    "# reject_assignments(amt_con.connection, list(to_reject))"
   ]
  },
  {
   "cell_type": "code",
   "execution_count": null,
   "metadata": {
    "collapsed": true,
    "hidden": true,
    "run_control": {
     "frozen": false,
     "read_only": false
    }
   },
   "outputs": [],
   "source": []
  },
  {
   "cell_type": "code",
   "execution_count": null,
   "metadata": {
    "collapsed": true,
    "hidden": true,
    "run_control": {
     "frozen": false,
     "read_only": false
    }
   },
   "outputs": [],
   "source": []
  },
  {
   "cell_type": "markdown",
   "metadata": {
    "heading_collapsed": true,
    "hidden": true
   },
   "source": [
    "## pay bonuses"
   ]
  },
  {
   "cell_type": "code",
   "execution_count": null,
   "metadata": {
    "collapsed": true,
    "hidden": true,
    "run_control": {
     "frozen": false,
     "read_only": false
    }
   },
   "outputs": [],
   "source": [
    "subject = \"More  HITs are available\"\n",
    "message = \"\"\"\n",
    "Hello, \n",
    "\n",
    "\"\"\""
   ]
  },
  {
   "cell_type": "code",
   "execution_count": null,
   "metadata": {
    "collapsed": true,
    "hidden": true,
    "run_control": {
     "frozen": false,
     "read_only": false
    }
   },
   "outputs": [],
   "source": [
    "# _ = mturk.notify_workers(good_workers[:20], subject, message)"
   ]
  },
  {
   "cell_type": "code",
   "execution_count": 455,
   "metadata": {
    "collapsed": true,
    "hidden": true,
    "run_control": {
     "frozen": false,
     "read_only": false
    }
   },
   "outputs": [],
   "source": [
    "bonuses = unpickle_this('bonuses_to_pay_3.pkl')"
   ]
  },
  {
   "cell_type": "code",
   "execution_count": 458,
   "metadata": {
    "collapsed": true,
    "hidden": true,
    "run_control": {
     "frozen": false,
     "read_only": false
    }
   },
   "outputs": [],
   "source": [
    "def pay_bonuses(bonuses_to_pay):\n",
    "    total_payed = 0\n",
    "    bonus_reason_template = 'For Flinstones character labels written.'\n",
    "    for aid, vals in tqdm(bonuses_to_pay.items()):\n",
    "        n_chars = vals['count']\n",
    "        wid = vals['worker_id']\n",
    "        bonus_ammount = boto.mturk.price.Price(0.01 * n_chars)\n",
    "        total_payed += bonus_ammount.amount\n",
    "        bonus_reason = bonus_reason_template\n",
    "        amt_con.connection.grant_bonus(wid, aid, bonus_ammount, bonus_reason)\n",
    "    return total_payed"
   ]
  },
  {
   "cell_type": "code",
   "execution_count": 460,
   "metadata": {
    "collapsed": true,
    "hidden": true,
    "run_control": {
     "frozen": false,
     "read_only": false
    },
    "scrolled": true
   },
   "outputs": [],
   "source": [
    "# pay_bonuses(bonuses)"
   ]
  },
  {
   "cell_type": "code",
   "execution_count": null,
   "metadata": {
    "collapsed": true,
    "hidden": true,
    "run_control": {
     "frozen": false,
     "read_only": false
    }
   },
   "outputs": [],
   "source": []
  },
  {
   "cell_type": "code",
   "execution_count": null,
   "metadata": {
    "collapsed": true,
    "hidden": true,
    "run_control": {
     "frozen": false,
     "read_only": false
    }
   },
   "outputs": [],
   "source": []
  },
  {
   "cell_type": "markdown",
   "metadata": {
    "heading_collapsed": true
   },
   "source": [
    "# Accepting and deleting HITs"
   ]
  },
  {
   "cell_type": "markdown",
   "metadata": {
    "hidden": true
   },
   "source": [
    "Uncomment only when ready to accept or delete hits"
   ]
  },
  {
   "cell_type": "markdown",
   "metadata": {
    "hidden": true
   },
   "source": [
    "reject assignments carefully"
   ]
  },
  {
   "cell_type": "code",
   "execution_count": 8,
   "metadata": {
    "collapsed": true,
    "hidden": true,
    "run_control": {
     "frozen": false,
     "read_only": false
    }
   },
   "outputs": [],
   "source": [
    "accept_results = unpickle_this('pickeled_results/prod_batch_1_4.pkl')"
   ]
  },
  {
   "cell_type": "code",
   "execution_count": 9,
   "metadata": {
    "hidden": true,
    "run_control": {
     "frozen": false,
     "read_only": false
    }
   },
   "outputs": [
    {
     "data": {
      "text/plain": [
       "20000"
      ]
     },
     "execution_count": 9,
     "metadata": {},
     "output_type": "execute_result"
    }
   ],
   "source": [
    "len(accept_results)"
   ]
  },
  {
   "cell_type": "code",
   "execution_count": 80,
   "metadata": {
    "hidden": true,
    "run_control": {
     "frozen": false,
     "read_only": false
    }
   },
   "outputs": [
    {
     "data": {
      "text/plain": [
       "25067"
      ]
     },
     "execution_count": 80,
     "metadata": {},
     "output_type": "execute_result"
    }
   ],
   "source": [
    "assignments =[]\n",
    "for assignment_triple in list(first_prod_batch.values()):\n",
    "    assignments.extend(assignment_triple)\n",
    "\n",
    "len(assignments)"
   ]
  },
  {
   "cell_type": "code",
   "execution_count": 82,
   "metadata": {
    "hidden": true
   },
   "outputs": [],
   "source": [
    "latest_assignments =[]\n",
    "for assignment_triple in list(first_prod_batch.values()):\n",
    "    latest_assignments.extend(assignment_triple)\n",
    "\n",
    "len(latest_assignments)\n",
    "\n",
    "ta1 = latest_assignments[0]\n",
    "\n",
    "assignments_statuses = [asgmt.AssignmentStatus for asgmt in latest_assignments]"
   ]
  },
  {
   "cell_type": "code",
   "execution_count": 84,
   "metadata": {
    "hidden": true
   },
   "outputs": [
    {
     "data": {
      "text/plain": [
       "Submitted    25067\n",
       "dtype: int64"
      ]
     },
     "execution_count": 84,
     "metadata": {},
     "output_type": "execute_result"
    }
   ],
   "source": [
    "pd.Series(assignments_statuses).value_counts()"
   ]
  },
  {
   "cell_type": "code",
   "execution_count": 35,
   "metadata": {
    "collapsed": true,
    "hidden": true,
    "run_control": {
     "frozen": false,
     "read_only": false
    }
   },
   "outputs": [],
   "source": [
    "to_reject = unpickle_this('./assignments_to_reject_prod_1_4.pkl')"
   ]
  },
  {
   "cell_type": "code",
   "execution_count": 36,
   "metadata": {
    "hidden": true,
    "run_control": {
     "frozen": false,
     "read_only": false
    },
    "scrolled": true
   },
   "outputs": [
    {
     "data": {
      "text/plain": [
       "9454"
      ]
     },
     "execution_count": 36,
     "metadata": {},
     "output_type": "execute_result"
    }
   ],
   "source": [
    "len(to_reject)"
   ]
  },
  {
   "cell_type": "code",
   "execution_count": 12,
   "metadata": {
    "collapsed": true,
    "hidden": true,
    "run_control": {
     "frozen": false,
     "read_only": false
    }
   },
   "outputs": [],
   "source": [
    "assignments_to_accept = [asgmt for asgmt in assignments if asgmt.AssignmentId not in to_reject]"
   ]
  },
  {
   "cell_type": "code",
   "execution_count": 13,
   "metadata": {
    "hidden": true,
    "run_control": {
     "frozen": false,
     "read_only": false
    }
   },
   "outputs": [
    {
     "data": {
      "text/plain": [
       "59836"
      ]
     },
     "execution_count": 13,
     "metadata": {},
     "output_type": "execute_result"
    }
   ],
   "source": [
    "len(assignments_to_accept)"
   ]
  },
  {
   "cell_type": "code",
   "execution_count": 85,
   "metadata": {
    "hidden": true,
    "run_control": {
     "frozen": false,
     "read_only": false
    }
   },
   "outputs": [
    {
     "name": "stderr",
     "output_type": "stream",
     "text": [
      "100%|██████████| 25067/25067 [1:18:49<00:00,  4.68it/s]\n"
     ]
    }
   ],
   "source": [
    "e_count = 0\n",
    "for assignment in tqdm(latest_assignments):\n",
    "    try:\n",
    "        amt_con.approve_assignment(assignment)\n",
    "    except boto.mturk.connection.MTurkRequestError as e:\n",
    "        e_count += 1"
   ]
  },
  {
   "cell_type": "code",
   "execution_count": 33,
   "metadata": {
    "hidden": true,
    "run_control": {
     "frozen": false,
     "read_only": false
    }
   },
   "outputs": [
    {
     "data": {
      "text/plain": [
       "0"
      ]
     },
     "execution_count": 33,
     "metadata": {},
     "output_type": "execute_result"
    }
   ],
   "source": [
    "e_count"
   ]
  },
  {
   "cell_type": "code",
   "execution_count": null,
   "metadata": {
    "collapsed": true,
    "hidden": true,
    "run_control": {
     "frozen": false,
     "read_only": false
    }
   },
   "outputs": [],
   "source": [
    "print(e_count)"
   ]
  },
  {
   "cell_type": "code",
   "execution_count": null,
   "metadata": {
    "collapsed": true,
    "hidden": true,
    "run_control": {
     "frozen": false,
     "read_only": false
    }
   },
   "outputs": [],
   "source": [
    "# _ = [amt_con.disable_hit(hit) for hit in hits_today]"
   ]
  },
  {
   "cell_type": "code",
   "execution_count": null,
   "metadata": {
    "collapsed": true,
    "hidden": true,
    "run_control": {
     "frozen": false,
     "read_only": false
    },
    "scrolled": false
   },
   "outputs": [],
   "source": [
    "# number_rejected_assignments, number_rejected_workers = amt_util.reject_assignments(mturk, workers_to_ban, combined_consensus_with_workerid_df)\n",
    "# print 'rejecting ' + str(number_rejected_assignments) + ' assignments' + ' from ' + str(number_rejected_workers) + ' workers'"
   ]
  },
  {
   "cell_type": "code",
   "execution_count": 187,
   "metadata": {
    "hidden": true,
    "run_control": {
     "frozen": false,
     "read_only": false
    }
   },
   "outputs": [
    {
     "data": {
      "text/plain": [
       "$10,000.00"
      ]
     },
     "execution_count": 187,
     "metadata": {},
     "output_type": "execute_result"
    }
   ],
   "source": [
    "amt_con.get_account_balance()"
   ]
  },
  {
   "cell_type": "code",
   "execution_count": 273,
   "metadata": {
    "hidden": true,
    "run_control": {
     "frozen": false,
     "read_only": false
    }
   },
   "outputs": [],
   "source": [
    "amt_con.delete_all_hits()"
   ]
  },
  {
   "cell_type": "code",
   "execution_count": 178,
   "metadata": {
    "hidden": true,
    "run_control": {
     "frozen": false,
     "read_only": false
    }
   },
   "outputs": [],
   "source": [
    "# _ = [amt_con.disable_hit(hit) for hit in tqdm(all_hits)]"
   ]
  },
  {
   "cell_type": "code",
   "execution_count": 43,
   "metadata": {
    "hidden": true,
    "run_control": {
     "frozen": false,
     "read_only": false
    }
   },
   "outputs": [
    {
     "name": "stderr",
     "output_type": "stream",
     "text": [
      "100%|██████████| 64326/64326 [2:07:16<00:00,  6.91it/s]  \n"
     ]
    }
   ],
   "source": [
    "e_count = 0\n",
    "for hitid in tqdm(all_hits):\n",
    "    try:\n",
    "        amt_con.disable_hit(hitid[0])\n",
    "    except boto.mturk.connection.MTurkRequestError as e:\n",
    "        e_count += 1"
   ]
  },
  {
   "cell_type": "code",
   "execution_count": null,
   "metadata": {
    "collapsed": true,
    "hidden": true,
    "run_control": {
     "frozen": false,
     "read_only": false
    }
   },
   "outputs": [],
   "source": []
  }
 ],
 "metadata": {
  "kernelspec": {
   "display_name": "Python 2",
   "language": "python",
   "name": "python2"
  },
  "language_info": {
   "codemirror_mode": {
    "name": "ipython",
    "version": 2
   },
   "file_extension": ".py",
   "mimetype": "text/x-python",
   "name": "python",
   "nbconvert_exporter": "python",
   "pygments_lexer": "ipython2",
   "version": "2.7.14"
  }
 },
 "nbformat": 4,
 "nbformat_minor": 1
}
