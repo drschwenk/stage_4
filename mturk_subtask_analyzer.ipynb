{
 "cells": [
  {
   "cell_type": "markdown",
   "metadata": {
    "heading_collapsed": true
   },
   "source": [
    "# Table of Contents\n",
    "* [load data](#load-data)\n",
    "* [process data](#process-data)\n",
    "\t* [bonuses](#bonuses)\n",
    "\t* [frame build](#frame-build)\n",
    "\t* [analysis](#analysis)\n",
    "\t* [building frames](#building-frames)\n",
    "* [bounding box clustering](#bounding-box-clustering)\n",
    "* [bonus cost estimate](#bonus-cost-estimate)\n",
    "* [HTML Review](#HTML-Review)\n",
    "* [hide](#hide)\n"
   ]
  },
  {
   "cell_type": "code",
   "execution_count": 3,
   "metadata": {
    "hidden": true,
    "run_control": {
     "frozen": false,
     "read_only": false
    }
   },
   "outputs": [],
   "source": [
    "%%capture\n",
    "from __future__ import division\n",
    "import numpy as np\n",
    "import pandas as pd\n",
    "import scipy.stats as st\n",
    "import itertools\n",
    "import math\n",
    "from collections import Counter, defaultdict\n",
    "%load_ext autoreload\n",
    "%autoreload 2\n",
    "\n",
    "import matplotlib as mpl\n",
    "mpl.use(\"Agg\")\n",
    "import matplotlib.pylab as plt\n",
    "#%matplotlib notebook\n",
    "%matplotlib inline\n",
    "%load_ext base16_mplrc\n",
    "%base16_mplrc light default\n",
    "plt.rcParams['figure.figsize'] = (16.0, 10.0)\n",
    "\n",
    "import re\n",
    "import pickle\n",
    "import boto\n",
    "from copy import deepcopy\n",
    "import json\n",
    "import os\n",
    "import random\n",
    "import jinja2\n",
    "from tqdm import tqdm\n",
    "from IPython.core.display import HTML\n",
    "\n",
    "import PIL.Image as Image\n",
    "import requests\n",
    "\n",
    "from boto.mturk.qualification import PercentAssignmentsApprovedRequirement, Qualifications, Requirement\n",
    "\n",
    "from keysTkingdom import mturk_ai2\n",
    "from keysTkingdom import aws_tokes\n",
    "from keysTkingdom import mturk_aristo\n",
    "\n",
    "from amt_utils.mturk import pickle_this, unpickle_this\n",
    "\n",
    "import os\n",
    "import jinja2\n",
    "import argparse\n",
    "from jinja2 import Environment, FileSystemLoader\n",
    "\n",
    "j2env = jinja2.Environment()\n",
    "\n",
    "from amt_utils.bboxes import cluster_from_nms\n",
    "from amt_utils.bboxes import draw_animation_seq\n",
    "from amt_utils.bboxes import cluster_from_annos\n",
    "from amt_utils.bboxes import create_subtask_data\n",
    "from amt_utils.bboxes import draw_image_and_labels\n",
    "from amt_utils.bboxes import cluster_and_label\n",
    "from amt_utils.bboxes import cluster_and_label_stage_1b\n",
    "from amt_utils.bboxes import cluster_from_nms_stage1_b\n",
    "\n",
    "import warnings\n",
    "warnings.filterwarnings('ignore')"
   ]
  },
  {
   "cell_type": "code",
   "execution_count": null,
   "metadata": {
    "hidden": true
   },
   "outputs": [],
   "source": []
  },
  {
   "cell_type": "code",
   "execution_count": null,
   "metadata": {
    "hidden": true
   },
   "outputs": [],
   "source": []
  },
  {
   "cell_type": "markdown",
   "metadata": {},
   "source": [
    "# Stage 4b"
   ]
  },
  {
   "cell_type": "code",
   "execution_count": 7,
   "metadata": {
    "run_control": {
     "frozen": false,
     "read_only": false
    }
   },
   "outputs": [],
   "source": [
    "test_batch_2 = unpickle_this('test_batch_4b_2.pkl')\n",
    "test_batch_2 = unpickle_this('test4b_2.pkl')"
   ]
  },
  {
   "cell_type": "code",
   "execution_count": 563,
   "metadata": {},
   "outputs": [],
   "source": [
    "new_4b_assignemnts = unpickle_this('additional_batch_1_4b_update_10_8.pkl')"
   ]
  },
  {
   "cell_type": "code",
   "execution_count": 280,
   "metadata": {
    "run_control": {
     "frozen": false,
     "read_only": false
    }
   },
   "outputs": [],
   "source": [
    "full_batch_2 = unpickle_this('full_batch_2_update.pkl')"
   ]
  },
  {
   "cell_type": "code",
   "execution_count": 282,
   "metadata": {
    "run_control": {
     "frozen": false,
     "read_only": false
    }
   },
   "outputs": [],
   "source": [
    "test_batch_2_results =[]\n",
    "for assignment_triple in full_batch_2.values():\n",
    "    if len(assignment_triple) > 2:\n",
    "        test_batch_2_results.extend(assignment_triple)"
   ]
  },
  {
   "cell_type": "markdown",
   "metadata": {},
   "source": [
    "# process data"
   ]
  },
  {
   "cell_type": "code",
   "execution_count": 283,
   "metadata": {
    "code_folding": [],
    "run_control": {
     "frozen": false,
     "read_only": false
    }
   },
   "outputs": [],
   "source": [
    "def create_result(assmt):\n",
    "    result = json.loads(assmt.answers[0][0].fields[0])\n",
    "    result['h_id'] = assmt.HITId\n",
    "    result['a_id'] = assmt.AssignmentId \n",
    "    result['worker_id'] = assmt.WorkerId\n",
    "    return result"
   ]
  },
  {
   "cell_type": "code",
   "execution_count": 284,
   "metadata": {
    "run_control": {
     "frozen": false,
     "read_only": false
    }
   },
   "outputs": [],
   "source": [
    "test_2_results = [create_result(ar) for ar in test_batch_2_results]\n",
    "objects_present = [{'h_id': anno['h_id'], 'w_id': anno['worker_id'], 'still_id': anno['stillID'], 'objects': set([ch['label'] for ch in json.loads(anno['characterBoxes'])])} for anno in test_2_results]"
   ]
  },
  {
   "cell_type": "code",
   "execution_count": 105,
   "metadata": {
    "run_control": {
     "frozen": false,
     "read_only": false
    }
   },
   "outputs": [],
   "source": [
    "s4b_df = pd.DataFrame(objects_present)\n",
    "s4b_df['aid'] = s4b_df['still_id'].apply(lambda x: x.rsplit('_', 1)[0])"
   ]
  },
  {
   "cell_type": "code",
   "execution_count": 106,
   "metadata": {
    "run_control": {
     "frozen": false,
     "read_only": false
    }
   },
   "outputs": [],
   "source": [
    "assignment_results = test_2_results\n",
    "annotations_by_frame = defaultdict(list)\n",
    "for anno in sorted(assignment_results, key=lambda x: x['stillID']):\n",
    "    animation_id = anno['stillID']\n",
    "    annotations_by_frame[animation_id].append(anno)"
   ]
  },
  {
   "cell_type": "code",
   "execution_count": 110,
   "metadata": {
    "run_control": {
     "frozen": false,
     "read_only": false
    }
   },
   "outputs": [
    {
     "data": {
      "text/plain": [
       "1176"
      ]
     },
     "execution_count": 110,
     "metadata": {},
     "output_type": "execute_result"
    }
   ],
   "source": [
    "len(annotations_by_frame)"
   ]
  },
  {
   "cell_type": "markdown",
   "metadata": {
    "heading_collapsed": true
   },
   "source": [
    "# analysis"
   ]
  },
  {
   "cell_type": "code",
   "execution_count": 949,
   "metadata": {
    "collapsed": true,
    "hidden": true,
    "run_control": {
     "frozen": false,
     "read_only": false
    }
   },
   "outputs": [],
   "source": [
    "bbox_df = pd.DataFrame(characters_boxes)"
   ]
  },
  {
   "cell_type": "code",
   "execution_count": 950,
   "metadata": {
    "collapsed": true,
    "hidden": true,
    "run_control": {
     "frozen": false,
     "read_only": false
    }
   },
   "outputs": [],
   "source": [
    "bbox_df['bbox'] = bbox_df['raw_bbox'].apply(lambda z: characterbox_to_box(next(iter(sorted(z, key= lambda x: x['left']) or []), {\"left\":0,\"top\":0,\"width\":0,\"height\":0})))"
   ]
  },
  {
   "cell_type": "code",
   "execution_count": 33,
   "metadata": {
    "hidden": true,
    "run_control": {
     "frozen": false,
     "read_only": false
    }
   },
   "outputs": [],
   "source": [
    "def choose_frame(bbox):\n",
    "    if bbox[0] < 640:\n",
    "        return '_10.png'\n",
    "    else:        \n",
    "        return '_70.png'"
   ]
  },
  {
   "cell_type": "code",
   "execution_count": 112,
   "metadata": {
    "hidden": true,
    "run_control": {
     "frozen": false,
     "read_only": false
    }
   },
   "outputs": [
    {
     "ename": "NameError",
     "evalue": "name 'bbox_df' is not defined",
     "output_type": "error",
     "traceback": [
      "\u001b[0;31m---------------------------------------------------------------------------\u001b[0m",
      "\u001b[0;31mNameError\u001b[0m                                 Traceback (most recent call last)",
      "\u001b[0;32m<ipython-input-112-ec11f7641427>\u001b[0m in \u001b[0;36m<module>\u001b[0;34m()\u001b[0m\n\u001b[0;32m----> 1\u001b[0;31m \u001b[0mbbox_df\u001b[0m\u001b[0;34m[\u001b[0m\u001b[0;34m'frame_n'\u001b[0m\u001b[0;34m]\u001b[0m \u001b[0;34m=\u001b[0m \u001b[0mbbox_df\u001b[0m\u001b[0;34m[\u001b[0m\u001b[0;34m'bbox'\u001b[0m\u001b[0;34m]\u001b[0m\u001b[0;34m.\u001b[0m\u001b[0mapply\u001b[0m\u001b[0;34m(\u001b[0m\u001b[0;32mlambda\u001b[0m \u001b[0mx\u001b[0m\u001b[0;34m:\u001b[0m \u001b[0mchoose_frame\u001b[0m\u001b[0;34m(\u001b[0m\u001b[0mx\u001b[0m\u001b[0;34m)\u001b[0m\u001b[0;34m)\u001b[0m\u001b[0;34m\u001b[0m\u001b[0m\n\u001b[0m",
      "\u001b[0;31mNameError\u001b[0m: name 'bbox_df' is not defined"
     ]
    }
   ],
   "source": [
    "bbox_df['frame_n'] = bbox_df['bbox'].apply(lambda x: choose_frame(x))"
   ]
  },
  {
   "cell_type": "code",
   "execution_count": 31,
   "metadata": {
    "hidden": true,
    "run_control": {
     "frozen": false,
     "read_only": false
    }
   },
   "outputs": [],
   "source": [
    "def assign_con_box(row):\n",
    "    first_frame = row['frame_n'] == '_10.png'\n",
    "    aid = row['still_id'][:-10]\n",
    "    if aid in subtask_consensus_boxes:\n",
    "        con_box_choices = subtask_consensus_boxes[aid]\n",
    "    else:\n",
    "        return([0, 0, 0, 0])\n",
    "    for box in con_box_choices:\n",
    "        if box['label'] in row['characters']:\n",
    "            if box['box'][0] < 640 and first_frame:\n",
    "                return box['box'].tolist()\n",
    "            if box['box'][0] > 640 and not first_frame:\n",
    "                return box['box'].tolist()\n",
    "    return([1, 0, 0, 0])"
   ]
  },
  {
   "cell_type": "code",
   "execution_count": 954,
   "metadata": {
    "collapsed": true,
    "hidden": true,
    "run_control": {
     "frozen": false,
     "read_only": false
    },
    "scrolled": true
   },
   "outputs": [],
   "source": [
    "# subtask_consensus_boxes['s_02_e_21_shot_020348_020422']"
   ]
  },
  {
   "cell_type": "code",
   "execution_count": 955,
   "metadata": {
    "hidden": true,
    "run_control": {
     "frozen": false,
     "read_only": false
    }
   },
   "outputs": [
    {
     "data": {
      "text/plain": [
       "0    [293, 90, 431, 480]\n",
       "dtype: object"
      ]
     },
     "execution_count": 955,
     "metadata": {},
     "output_type": "execute_result"
    }
   ],
   "source": [
    " bbox_df.head(1).apply(assign_con_box, axis=1)"
   ]
  },
  {
   "cell_type": "code",
   "execution_count": 956,
   "metadata": {
    "collapsed": true,
    "hidden": true,
    "run_control": {
     "frozen": false,
     "read_only": false
    }
   },
   "outputs": [],
   "source": [
    "bbox_df['con_box'] = bbox_df.apply(assign_con_box, axis=1)"
   ]
  },
  {
   "cell_type": "code",
   "execution_count": null,
   "metadata": {
    "collapsed": true,
    "hidden": true,
    "run_control": {
     "frozen": false,
     "read_only": false
    }
   },
   "outputs": [],
   "source": []
  },
  {
   "cell_type": "code",
   "execution_count": 139,
   "metadata": {
    "collapsed": true,
    "hidden": true,
    "run_control": {
     "frozen": false,
     "read_only": false
    }
   },
   "outputs": [],
   "source": [
    "subtask_by_frame = defaultdict(list)\n",
    "for anno in sorted(subtask_results, key=lambda x: x['stillID']):\n",
    "    animation_id = anno['stillID'].rsplit('_', 1)[0]\n",
    "    subtask_by_frame[animation_id].append(anno)"
   ]
  },
  {
   "cell_type": "code",
   "execution_count": 75,
   "metadata": {
    "collapsed": true,
    "hidden": true,
    "run_control": {
     "frozen": false,
     "read_only": false
    }
   },
   "outputs": [],
   "source": [
    "rev_dir = 'review_results'\n",
    "img_dir = 'review_frames'"
   ]
  },
  {
   "cell_type": "code",
   "execution_count": 76,
   "metadata": {
    "collapsed": true,
    "hidden": true,
    "run_control": {
     "frozen": false,
     "read_only": false
    }
   },
   "outputs": [],
   "source": [
    "char_change = defaultdict(list)\n",
    "for aid, annos in list(subtask_by_frame.items()):\n",
    "    disapear_count = 0\n",
    "    for anno in annos:\n",
    "        la = json.loads(anno['characterBoxes'])\n",
    "        if len(la) !=2:\n",
    "            disapear_count += 1\n",
    "    if disapear_count == 3:\n",
    "        char_change[aid].append(la)"
   ]
  },
  {
   "cell_type": "code",
   "execution_count": 77,
   "metadata": {
    "hidden": true,
    "run_control": {
     "frozen": false,
     "read_only": false
    }
   },
   "outputs": [
    {
     "data": {
      "text/plain": [
       "('s_01_e_01_shot_014223_014297',\n",
       " [[{'height': 371,\n",
       "    'label': 's_01_e_01_shot_014223_014297_char_0_taskb.png',\n",
       "    'left': 672,\n",
       "    'top': 101,\n",
       "    'width': 244}]])"
      ]
     },
     "execution_count": 77,
     "metadata": {},
     "output_type": "execute_result"
    }
   ],
   "source": [
    "list(char_change.items())[0]"
   ]
  },
  {
   "cell_type": "code",
   "execution_count": 47,
   "metadata": {
    "hidden": true,
    "run_control": {
     "frozen": false,
     "read_only": false
    }
   },
   "outputs": [
    {
     "data": {
      "text/plain": [
       "0.059387897303960976"
      ]
     },
     "execution_count": 47,
     "metadata": {},
     "output_type": "execute_result"
    }
   ],
   "source": [
    "1108/ len(subtask_by_frame)"
   ]
  },
  {
   "cell_type": "code",
   "execution_count": 44,
   "metadata": {
    "hidden": true,
    "run_control": {
     "frozen": false,
     "read_only": false
    }
   },
   "outputs": [
    {
     "data": {
      "text/plain": [
       "1108"
      ]
     },
     "execution_count": 44,
     "metadata": {},
     "output_type": "execute_result"
    }
   ],
   "source": [
    "len(char_change)"
   ]
  },
  {
   "cell_type": "code",
   "execution_count": 126,
   "metadata": {
    "collapsed": true,
    "hidden": true,
    "run_control": {
     "frozen": false,
     "read_only": false
    }
   },
   "outputs": [],
   "source": [
    "task_r_lengths = pd.Series([len(sta) for sta in list(subtask_by_frame.values())])"
   ]
  },
  {
   "cell_type": "code",
   "execution_count": 130,
   "metadata": {
    "hidden": true,
    "run_control": {
     "frozen": false,
     "read_only": false
    }
   },
   "outputs": [
    {
     "data": {
      "text/plain": [
       "<matplotlib.axes._subplots.AxesSubplot at 0x1218c7fd0>"
      ]
     },
     "execution_count": 130,
     "metadata": {},
     "output_type": "execute_result"
    },
    {
     "data": {
      "image/png": "[encoded data removed]",
      "text/plain": [
       "<matplotlib.figure.Figure at 0x1425162e8>"
      ]
     },
     "metadata": {},
     "output_type": "display_data"
    }
   ],
   "source": [
    "task_r_lengths[task_r_lengths < 20].hist(bins=20)"
   ]
  },
  {
   "cell_type": "code",
   "execution_count": 18,
   "metadata": {
    "collapsed": true,
    "hidden": true,
    "run_control": {
     "frozen": false,
     "read_only": false
    }
   },
   "outputs": [],
   "source": [
    "subtask_rev_seq = []\n",
    "stage_1b_consensus_boxes = {}\n",
    "for aid, animation_annos in tqdm(list(subtask_by_frame.items())[:51]):\n",
    "    try:\n",
    "        middle_frame_annos = annotations_by_frame[aid][3:6]\n",
    "        full_original_annos = annotations_by_frame[aid]\n",
    "        two_frame_image, con_boxes, labels = draw_image_and_labels(animation_annos, cluster_from_nms, 1, 3, './subtask_data/frames/')\n",
    "        three_frame_img, consensus_boxes, labels_orig = draw_animation_seq(full_original_annos, cluster_from_nms)\n",
    "        single_frame_image, single_con_boxes, labels = draw_image_and_labels(middle_frame_annos, cluster_from_nms, 1, 3)\n",
    "        left_image = two_frame_image.crop(frame_origin + frame_size)\n",
    "        right_image = two_frame_image.crop(frame_o2 + frame_ext)\n",
    "        imgs_comb = Image.fromarray(np.hstack([left_image, single_frame_image, right_image]))\n",
    "        o_img_path = os.path.join(img_dir, aid) + '_rev.png'\n",
    "        new_img_path = os.path.join(img_dir, aid) + 'subtask_rev.png'\n",
    "        three_frame_img.save(os.path.join(rev_dir, o_img_path))\n",
    "        imgs_comb.save(os.path.join(rev_dir, new_img_path))\n",
    "        subtask_rev_seq.append((aid, o_img_path, new_img_path))\n",
    "    except:\n",
    "        print(aid)"
   ]
  },
  {
   "cell_type": "code",
   "execution_count": 121,
   "metadata": {
    "collapsed": true,
    "hidden": true,
    "run_control": {
     "frozen": false,
     "read_only": false
    }
   },
   "outputs": [],
   "source": [
    "frame_origin = (0, 0)\n",
    "frame_size = (640, 480)\n",
    "frame_o2 = (640, 0)\n",
    "frame_ext = (1280, 480)"
   ]
  },
  {
   "cell_type": "code",
   "execution_count": 143,
   "metadata": {
    "hidden": true,
    "run_control": {
     "frozen": false,
     "read_only": false
    }
   },
   "outputs": [
    {
     "data": {
      "text/plain": [
       "18700"
      ]
     },
     "execution_count": 143,
     "metadata": {},
     "output_type": "execute_result"
    }
   ],
   "source": [
    "len(subtask_by_frame)"
   ]
  },
  {
   "cell_type": "markdown",
   "metadata": {},
   "source": [
    "# compute consensus"
   ]
  },
  {
   "cell_type": "code",
   "execution_count": 122,
   "metadata": {
    "run_control": {
     "frozen": false,
     "read_only": false
    }
   },
   "outputs": [],
   "source": [
    "problem_vid = 's_01_e_01_shot_008499_008573'"
   ]
  },
  {
   "cell_type": "code",
   "execution_count": 156,
   "metadata": {
    "run_control": {
     "frozen": false,
     "read_only": false
    }
   },
   "outputs": [
    {
     "data": {
      "text/plain": [
       "[{'height': 231, 'label': 'hammock_0_5', 'left': 2, 'top': 143, 'width': 636},\n",
       " {'height': 247,\n",
       "  'label': 'hammock_0_5',\n",
       "  'left': 642,\n",
       "  'top': 140,\n",
       "  'width': 634},\n",
       " {'height': 233,\n",
       "  'label': 'hammock_0_5',\n",
       "  'left': 1282,\n",
       "  'top': 138,\n",
       "  'width': 630}]"
      ]
     },
     "execution_count": 156,
     "metadata": {},
     "output_type": "execute_result"
    }
   ],
   "source": [
    "json.loads(annotations_by_frame[problem_vid][0]['characterBoxes'])"
   ]
  },
  {
   "cell_type": "code",
   "execution_count": 498,
   "metadata": {
    "run_control": {
     "frozen": false,
     "read_only": false
    }
   },
   "outputs": [],
   "source": [
    "from amt_utils.bboxes import draw_object_seq\n",
    "from amt_utils.bboxes import comp_box_center\n",
    "from amt_utils.bboxes import comp_boxes_iou\n",
    "from amt_utils.bboxes import characterbox_to_box\n",
    "from amt_utils.bboxes import rect_from_anno\n",
    "from amt_utils.bboxes import box_area\n",
    "from amt_utils.bboxes import is_duplicate\n",
    "from amt_utils.bboxes import filter_keep_by_area_fraction\n",
    "from amt_utils.bboxes import assign_boxes\n",
    "from amt_utils.bboxes import box_area"
   ]
  },
  {
   "cell_type": "code",
   "execution_count": 499,
   "metadata": {
    "run_control": {
     "frozen": false,
     "read_only": false
    }
   },
   "outputs": [],
   "source": [
    "def assign_frame(box):\n",
    "    frame_width = 640\n",
    "    box_center = comp_box_center(box)\n",
    "    return int(box_center[0] // frame_width)"
   ]
  },
  {
   "cell_type": "code",
   "execution_count": 500,
   "metadata": {
    "run_control": {
     "frozen": false,
     "read_only": false
    }
   },
   "outputs": [],
   "source": [
    "def choose_best_box(obj_boxes, thresh=0.05):\n",
    "    for i, b1 in enumerate(obj_boxes):\n",
    "        for j in range(i + 1, len(obj_boxes)):\n",
    "            b2 = obj_boxes[j]\n",
    "            print(b1, b2, comp_boxes_iou(b1['box'], b2['box']))\n",
    "            if comp_boxes_iou(b1['box'], b2['box']) > thresh:\n",
    "                print('true')\n",
    "#                 return b1\n",
    "    return obj_boxes[0]"
   ]
  },
  {
   "cell_type": "code",
   "execution_count": 501,
   "metadata": {},
   "outputs": [],
   "source": [
    "def nms(boxes, thresh):\n",
    "    boxes = sorted(boxes, key=lambda x: x['area'], reverse=True)  # largest area first\n",
    "    keep = [None] * len(boxes)\n",
    "    for i, box in enumerate(boxes):\n",
    "        keep[i] = not is_duplicate(i, boxes, thresh)\n",
    "    # print(keep)\n",
    "    filter_keep_by_area_fraction(boxes, keep, thresh)\n",
    "    # print(keep)\n",
    "    selected_boxes = [boxes[i] for i in range(len(boxes)) if keep[i]]\n",
    "    duplicate_boxes = [boxes[i] for i in range(len(boxes)) if not keep[i]]\n",
    "    assign_boxes(selected_boxes, duplicate_boxes)\n",
    "    for b1 in selected_boxes:\n",
    "        idx = b1['idx']\n",
    "        votes = 1\n",
    "        for b2 in duplicate_boxes:\n",
    "            if b2['duplicate_of'] == idx:\n",
    "                votes += 1\n",
    "\n",
    "        b1['votes'] = votes\n",
    "    if not duplicate_boxes:\n",
    "        duplicate_boxes = []\n",
    "    filtered_boxes = [box for box in selected_boxes if box['votes'] > 1]\n",
    "    return filtered_boxes"
   ]
  },
  {
   "cell_type": "code",
   "execution_count": 504,
   "metadata": {},
   "outputs": [],
   "source": [
    "con_boxes = choose_object_boxes(annotations_by_frame['s_05_e_23_shot_028963_029037'])"
   ]
  },
  {
   "cell_type": "code",
   "execution_count": 505,
   "metadata": {},
   "outputs": [],
   "source": [
    "def enclosing_box(boxes):\n",
    "    rects = np.array([box['box'] for box in boxes])\n",
    "    lower = rects[:,0:2].min(axis=0)\n",
    "    upper = rects[:,2:].max(axis=0)\n",
    "    enclosing_rect = np.concatenate([lower, upper])\n",
    "    new_box = {\n",
    "        'box': enclosing_rect,\n",
    "        'area': box_area(enclosing_rect.reshape(2, 2)),\n",
    "        'label': boxes[0]['label'],\n",
    "        'idx': 0,\n",
    "        'frame': boxes[0]['frame']\n",
    "    }\n",
    "    return new_box"
   ]
  },
  {
   "cell_type": "code",
   "execution_count": 506,
   "metadata": {},
   "outputs": [],
   "source": [
    "rl1 = enclosing_box(test_boxes)"
   ]
  },
  {
   "cell_type": "code",
   "execution_count": 507,
   "metadata": {},
   "outputs": [],
   "source": [
    "# lower.min(axis=0)"
   ]
  },
  {
   "cell_type": "code",
   "execution_count": 508,
   "metadata": {
    "run_control": {
     "frozen": false,
     "read_only": false
    }
   },
   "outputs": [],
   "source": [
    "def choose_best_box(obj_boxes):\n",
    "    print(obj_boxes, '\\n')\n",
    "    return obj_boxes[1]"
   ]
  },
  {
   "cell_type": "code",
   "execution_count": 554,
   "metadata": {
    "run_control": {
     "frozen": false,
     "read_only": false
    }
   },
   "outputs": [],
   "source": [
    "def choose_object_boxes(object_annotations):\n",
    "    single_turker_boxes = [json.loads(box['characterBoxes']) for box in object_annotations]\n",
    "    single_turker_boxes = [b for sl in single_turker_boxes for b in sl ]\n",
    "    boxes = [None] * len(single_turker_boxes)\n",
    "    for i, charBox in enumerate(single_turker_boxes):\n",
    "        box = characterbox_to_box(charBox)\n",
    "        area = charBox['width'] * charBox['height']\n",
    "        label = charBox['label']\n",
    "        boxes[i] = {\n",
    "            'box': box,\n",
    "            'area': area,\n",
    "            'label': label,\n",
    "            'idx': i,\n",
    "            'frame': assign_frame(box)\n",
    "        }\n",
    "    boxes = sorted(boxes, key=lambda x: x['area'])\n",
    "    boxex_by_label = defaultdict(lambda : defaultdict(list))\n",
    "    for box in boxes:\n",
    "        if box['area'] < 100:\n",
    "            continue\n",
    "        boxex_by_label[box['label']][box['frame']].append(box)\n",
    "    con_boxes = []\n",
    "    for obj, frames_boxes in boxex_by_label.items():\n",
    "        for frame_n, boxes in frames_boxes.items():\n",
    "#             con_boxes.append(enclosing_box(boxes))\n",
    "            con_box = nms(boxes, 0.2)\n",
    "            if con_box:\n",
    "                if len(con_box) < 2:\n",
    "                    con_boxes.append(con_box[0])\n",
    "                else:\n",
    "                    con_boxes.append(enclosing_box(con_box))\n",
    "            else:\n",
    "                con_boxes.append(enclosing_box(boxes))\n",
    "    return con_boxes"
   ]
  },
  {
   "cell_type": "code",
   "execution_count": 555,
   "metadata": {
    "run_control": {
     "frozen": false,
     "read_only": false
    },
    "scrolled": true
   },
   "outputs": [],
   "source": [
    "con_boxes = choose_object_boxes(annotations_by_frame['s_01_e_01_shot_008499_008573'])"
   ]
  },
  {
   "cell_type": "code",
   "execution_count": 556,
   "metadata": {},
   "outputs": [
    {
     "data": {
      "text/plain": [
       "[{'area': 13333,\n",
       "  'box': array([789, 143, 988, 210]),\n",
       "  'frame': 1,\n",
       "  'idx': 0,\n",
       "  'label': 'hands_1_7'},\n",
       " {'area': 15147,\n",
       "  'box': array([1430,  110, 1617,  191]),\n",
       "  'frame': 2,\n",
       "  'idx': 0,\n",
       "  'label': 'hands_1_7'},\n",
       " {'area': 137788,\n",
       "  'box': array([1284,  125, 1816,  384]),\n",
       "  'frame': 2,\n",
       "  'idx': 5,\n",
       "  'label': 'hammock_0_5',\n",
       "  'votes': 3},\n",
       " {'area': 142240,\n",
       "  'box': array([ 640,  141, 1275,  365]),\n",
       "  'frame': 1,\n",
       "  'idx': 7,\n",
       "  'label': 'hammock_0_5',\n",
       "  'votes': 3},\n",
       " {'area': 142650,\n",
       "  'box': array([  2, 140, 636, 365]),\n",
       "  'frame': 0,\n",
       "  'idx': 6,\n",
       "  'label': 'hammock_0_5',\n",
       "  'votes': 3}]"
      ]
     },
     "execution_count": 556,
     "metadata": {},
     "output_type": "execute_result"
    }
   ],
   "source": [
    "con_boxes"
   ]
  },
  {
   "cell_type": "code",
   "execution_count": 557,
   "metadata": {
    "scrolled": true
   },
   "outputs": [],
   "source": [
    "# annotations_by_frame['s_01_e_01_shot_008499_008573']"
   ]
  },
  {
   "cell_type": "code",
   "execution_count": 558,
   "metadata": {
    "run_control": {
     "frozen": false,
     "read_only": false
    },
    "scrolled": false
   },
   "outputs": [],
   "source": [
    "# choose_object_boxes(test_obj_anno)"
   ]
  },
  {
   "cell_type": "code",
   "execution_count": 559,
   "metadata": {
    "run_control": {
     "frozen": false,
     "read_only": false
    },
    "scrolled": true
   },
   "outputs": [
    {
     "name": "stderr",
     "output_type": "stream",
     "text": [
      "100%|██████████| 1176/1176 [00:00<00:00, 1218.10it/s]\n"
     ]
    }
   ],
   "source": [
    "subtask_consensus_boxes = {}\n",
    "for aid, animation_annos in tqdm(list(annotations_by_frame.items())):\n",
    "    con_boxes = choose_object_boxes(animation_annos)\n",
    "    subtask_consensus_boxes[aid] = con_boxes"
   ]
  },
  {
   "cell_type": "code",
   "execution_count": 560,
   "metadata": {
    "run_control": {
     "frozen": false,
     "read_only": false
    }
   },
   "outputs": [],
   "source": [
    "pickle_this(subtask_consensus_boxes, 'stage_4b_con_batch_2_new_method.pkl')"
   ]
  },
  {
   "cell_type": "code",
   "execution_count": 561,
   "metadata": {},
   "outputs": [],
   "source": [
    "# for vid in list(subtask_consensus_boxes.values()):\n",
    "#     for box in vid:\n",
    "#         if 'label' not in box.keys():\n",
    "#             print(box)"
   ]
  },
  {
   "cell_type": "code",
   "execution_count": 315,
   "metadata": {
    "run_control": {
     "frozen": false,
     "read_only": false
    }
   },
   "outputs": [],
   "source": [
    "# con_boxes"
   ]
  },
  {
   "cell_type": "markdown",
   "metadata": {
    "heading_collapsed": true
   },
   "source": [
    "### worker investigation"
   ]
  },
  {
   "cell_type": "code",
   "execution_count": 1079,
   "metadata": {
    "collapsed": true,
    "hidden": true,
    "run_control": {
     "frozen": false,
     "read_only": false
    }
   },
   "outputs": [],
   "source": [
    "# animation_annos"
   ]
  },
  {
   "cell_type": "code",
   "execution_count": 192,
   "metadata": {
    "collapsed": true,
    "hidden": true,
    "run_control": {
     "frozen": false,
     "read_only": false
    }
   },
   "outputs": [],
   "source": [
    "from amt_utils.bboxes import characterbox_to_box\n",
    "from amt_utils.bboxes import comp_boxes_iou"
   ]
  },
  {
   "cell_type": "code",
   "execution_count": 194,
   "metadata": {
    "collapsed": true,
    "hidden": true,
    "run_control": {
     "frozen": false,
     "read_only": false
    }
   },
   "outputs": [],
   "source": [
    "worker_con_record = defaultdict(list)"
   ]
  },
  {
   "cell_type": "code",
   "execution_count": 230,
   "metadata": {
    "collapsed": true,
    "hidden": true,
    "run_control": {
     "frozen": false,
     "read_only": false
    }
   },
   "outputs": [],
   "source": [
    "def proc_anno(anno, con_boxes):\n",
    "    char_boxes = sorted([characterbox_to_box(box) for box in json.loads(anno['characterBoxes'])], key=lambda x: x[0])\n",
    "    if len(con_boxes) < 2:\n",
    "        return 'noncon', 1\n",
    "    if len(char_boxes) < 2:\n",
    "        return anno['worker_id'], 0\n",
    "    box_1_iou = comp_boxes_iou(con_boxes[0]['box'], char_boxes[0])\n",
    "    box_2_iou = comp_boxes_iou(con_boxes[1]['box'], char_boxes[1])\n",
    "    return anno['worker_id'], (box_1_iou + box_2_iou) / 2\n",
    "\n",
    "def proc_frame(frame_id, worker_con_record):\n",
    "    cons_boxes = subtask_consensus_boxes[frame_id]\n",
    "    for anno in subtask_by_frame[frame_id]:\n",
    "        wid, con_iou = proc_anno(anno, cons_boxes)\n",
    "        worker_con_record[wid].append(con_iou)"
   ]
  },
  {
   "cell_type": "code",
   "execution_count": 231,
   "metadata": {
    "hidden": true,
    "run_control": {
     "frozen": false,
     "read_only": false
    }
   },
   "outputs": [
    {
     "data": {
      "text/plain": [
       "18700"
      ]
     },
     "execution_count": 231,
     "metadata": {},
     "output_type": "execute_result"
    }
   ],
   "source": [
    "len(subtask_by_frame)"
   ]
  },
  {
   "cell_type": "code",
   "execution_count": 998,
   "metadata": {
    "collapsed": true,
    "hidden": true,
    "run_control": {
     "frozen": false,
     "read_only": false
    }
   },
   "outputs": [],
   "source": [
    "grouped_by_still = bbox_df.groupby('still_id')"
   ]
  },
  {
   "cell_type": "code",
   "execution_count": 239,
   "metadata": {
    "collapsed": true,
    "hidden": true,
    "run_control": {
     "frozen": false,
     "read_only": false
    }
   },
   "outputs": [],
   "source": [
    "worker_con_ious = defaultdict(list)\n",
    "\n",
    "for frame in list(subtask_consensus_boxes):\n",
    "    proc_frame(frame, worker_con_ious)"
   ]
  },
  {
   "cell_type": "code",
   "execution_count": 263,
   "metadata": {
    "collapsed": true,
    "hidden": true,
    "run_control": {
     "frozen": false,
     "read_only": false
    }
   },
   "outputs": [],
   "source": [
    "worker_avg_oius = pd.Series(worker_con_ious).apply(lambda x: np.mean(x))\n",
    "worker_counts = pd.Series(worker_con_ious).apply(lambda x: len(x))\n",
    "prolific_ious = pd.Series({k:v for k,v in worker_con_ious.items() if k in prolific_workers}).apply(lambda x: np.mean(x))"
   ]
  },
  {
   "cell_type": "code",
   "execution_count": 264,
   "metadata": {
    "hidden": true,
    "run_control": {
     "frozen": false,
     "read_only": false
    }
   },
   "outputs": [
    {
     "data": {
      "text/plain": [
       "A3N76F2ZPQETH5    0.259235\n",
       "A1RU9BQLDZ1DSY    0.255615\n",
       "A2VI8XH6A1PB27    0.253130\n",
       "A2PU4YNWITAQVL    0.252389\n",
       "A2BG0A5HKVT2KD    0.245400\n",
       "AH4SMMFHDHK1L     0.241663\n",
       "A11NUW5OVADGYU    0.240351\n",
       "ACWBK5ISFR2B2     0.238748\n",
       "A2X7BE2FSPUKCK    0.231727\n",
       "A24NA8ASZY358P    0.230231\n",
       "A15DOG6AXQ7LGY    0.227798\n",
       "A3R6KO03P9QLNO    0.222626\n",
       "A273GB71FE8RIV    0.219026\n",
       "A2CXEAMWU2SFV3    0.204082\n",
       "A9ALF1SODWQE5     0.195207\n",
       "A3UPV16IECELHV    0.184253\n",
       "A3G2NE6QE5W5R     0.179639\n",
       "A3HDMR3ZFQVT7B    0.165927\n",
       "A3662J93B79L3J    0.132862\n",
       "dtype: float64"
      ]
     },
     "execution_count": 264,
     "metadata": {},
     "output_type": "execute_result"
    }
   ],
   "source": [
    "prolific_ious.sort_values(ascending=False)"
   ]
  },
  {
   "cell_type": "code",
   "execution_count": 582,
   "metadata": {
    "collapsed": true,
    "hidden": true,
    "run_control": {
     "frozen": false,
     "read_only": false
    }
   },
   "outputs": [],
   "source": [
    "prolific_workers = set(worker_counts.sort_values(ascending=False)[:100].index)\n",
    "prolific_workers.remove('noncon')"
   ]
  },
  {
   "cell_type": "code",
   "execution_count": 190,
   "metadata": {
    "hidden": true,
    "run_control": {
     "frozen": false,
     "read_only": false
    }
   },
   "outputs": [
    {
     "data": {
      "text/plain": [
       "('A1RO22O88I71FD', 0.63129791710397876)"
      ]
     },
     "execution_count": 190,
     "metadata": {},
     "output_type": "execute_result"
    }
   ],
   "source": [
    "proc_anno(subtask_by_frame['s_01_e_01_shot_004169_004243'][0], con_boxes)"
   ]
  },
  {
   "cell_type": "code",
   "execution_count": null,
   "metadata": {
    "collapsed": true,
    "hidden": true,
    "run_control": {
     "frozen": false,
     "read_only": false
    }
   },
   "outputs": [],
   "source": [
    "proc_frame(subtask_by_frame['s_01_e_01_shot_004169_004243'])"
   ]
  },
  {
   "cell_type": "code",
   "execution_count": 80,
   "metadata": {
    "collapsed": true,
    "hidden": true,
    "run_control": {
     "frozen": false,
     "read_only": false
    }
   },
   "outputs": [],
   "source": [
    "pickle_this(subtask_consensus_boxes, 'processed_subtask_boxes.pkl')"
   ]
  },
  {
   "cell_type": "code",
   "execution_count": 105,
   "metadata": {
    "hidden": true,
    "run_control": {
     "frozen": false,
     "read_only": false
    }
   },
   "outputs": [
    {
     "data": {
      "text/plain": [
       "8"
      ]
     },
     "execution_count": 105,
     "metadata": {},
     "output_type": "execute_result"
    }
   ],
   "source": [
    "len(json.loads(subtask_by_frame['s_02_e_07_shot_010402_010476'][0]['characterBoxes']))"
   ]
  },
  {
   "cell_type": "code",
   "execution_count": 44,
   "metadata": {
    "collapsed": true,
    "hidden": true,
    "run_control": {
     "frozen": false,
     "read_only": false
    }
   },
   "outputs": [],
   "source": [
    "page_html = generate_subtask_review(subtask_rev_seq)"
   ]
  },
  {
   "cell_type": "code",
   "execution_count": 100,
   "metadata": {
    "hidden": true,
    "run_control": {
     "frozen": false,
     "read_only": false
    },
    "scrolled": true
   },
   "outputs": [
    {
     "data": {
      "text/plain": [
       "1632"
      ]
     },
     "execution_count": 100,
     "metadata": {},
     "output_type": "execute_result"
    }
   ],
   "source": [
    "len(subtask_by_frame)"
   ]
  },
  {
   "cell_type": "code",
   "execution_count": 48,
   "metadata": {
    "collapsed": true,
    "hidden": true,
    "run_control": {
     "frozen": false,
     "read_only": false
    }
   },
   "outputs": [],
   "source": [
    "# with open('complete_subtask_clips.txt', 'a') as f:\n",
    "#     import csv\n",
    "#     cw = csv.writer(f, delimiter=' ')\n",
    "#     cw.writerow(list(subtask_by_frame.keys()))"
   ]
  },
  {
   "cell_type": "code",
   "execution_count": 272,
   "metadata": {
    "collapsed": true,
    "hidden": true,
    "run_control": {
     "frozen": false,
     "read_only": false
    },
    "scrolled": true
   },
   "outputs": [],
   "source": [
    "tfid, annos = list(subtask_by_frame.items())[0]"
   ]
  },
  {
   "cell_type": "code",
   "execution_count": 275,
   "metadata": {
    "hidden": true,
    "run_control": {
     "frozen": false,
     "read_only": false
    }
   },
   "outputs": [
    {
     "data": {
      "text/plain": [
       "'[{\"left\":151,\"top\":80,\"width\":268,\"height\":359,\"label\":\"s_01_e_01_shot_000099_000173_char_0_taskb.png\"},{\"left\":791,\"top\":89,\"width\":265,\"height\":350,\"label\":\"s_01_e_01_shot_000099_000173_char_0_taskb.png\"}]'"
      ]
     },
     "execution_count": 275,
     "metadata": {},
     "output_type": "execute_result"
    }
   ],
   "source": [
    "annos[0]['characterBoxes']"
   ]
  },
  {
   "cell_type": "code",
   "execution_count": 296,
   "metadata": {
    "collapsed": true,
    "hidden": true,
    "run_control": {
     "frozen": false,
     "marked": true,
     "read_only": false
    }
   },
   "outputs": [],
   "source": [
    "wbox = characterbox_to_box(json.loads(annos[0]['characterBoxes'])[0]).reshape(2, 2)\n",
    "cbox = characterbox_to_box(json.loads(annos[1]['characterBoxes'])[0]).reshape(2, 2)"
   ]
  },
  {
   "cell_type": "code",
   "execution_count": 512,
   "metadata": {
    "hidden": true,
    "run_control": {
     "frozen": false,
     "read_only": false
    }
   },
   "outputs": [
    {
     "data": {
      "text/html": [
       "<div>\n",
       "<style>\n",
       "    .dataframe thead tr:only-child th {\n",
       "        text-align: right;\n",
       "    }\n",
       "\n",
       "    .dataframe thead th {\n",
       "        text-align: left;\n",
       "    }\n",
       "\n",
       "    .dataframe tbody tr th {\n",
       "        vertical-align: top;\n",
       "    }\n",
       "</style>\n",
       "<table border=\"1\" class=\"dataframe\">\n",
       "  <thead>\n",
       "    <tr style=\"text-align: right;\">\n",
       "      <th></th>\n",
       "      <th>characters</th>\n",
       "      <th>h_id</th>\n",
       "      <th>raw_bbox</th>\n",
       "      <th>still_id</th>\n",
       "      <th>w_id</th>\n",
       "      <th>bbox</th>\n",
       "      <th>frame_n</th>\n",
       "      <th>con_box</th>\n",
       "    </tr>\n",
       "  </thead>\n",
       "  <tbody>\n",
       "    <tr>\n",
       "      <th>0</th>\n",
       "      <td>{s_02_e_21_shot_020348_020422_char_2_taskb.png}</td>\n",
       "      <td>301KG0KX9DLGOXDCQAV6YDE1ARFH2Q</td>\n",
       "      <td>[{'left': 930, 'top': 98, 'width': 145, 'heigh...</td>\n",
       "      <td>s_02_e_21_shot_020348_020422_taskb.png</td>\n",
       "      <td>A1PWETOH9I7CRJ</td>\n",
       "      <td>[291, 98, 437, 479]</td>\n",
       "      <td>_10.png</td>\n",
       "      <td>[293, 90, 431, 480]</td>\n",
       "    </tr>\n",
       "  </tbody>\n",
       "</table>\n",
       "</div>"
      ],
      "text/plain": [
       "                                        characters  \\\n",
       "0  {s_02_e_21_shot_020348_020422_char_2_taskb.png}   \n",
       "\n",
       "                             h_id  \\\n",
       "0  301KG0KX9DLGOXDCQAV6YDE1ARFH2Q   \n",
       "\n",
       "                                            raw_bbox  \\\n",
       "0  [{'left': 930, 'top': 98, 'width': 145, 'heigh...   \n",
       "\n",
       "                                 still_id            w_id  \\\n",
       "0  s_02_e_21_shot_020348_020422_taskb.png  A1PWETOH9I7CRJ   \n",
       "\n",
       "                  bbox  frame_n              con_box  \n",
       "0  [291, 98, 437, 479]  _10.png  [293, 90, 431, 480]  "
      ]
     },
     "execution_count": 512,
     "metadata": {},
     "output_type": "execute_result"
    }
   ],
   "source": [
    "bbox_df.head(1)"
   ]
  },
  {
   "cell_type": "code",
   "execution_count": 554,
   "metadata": {
    "collapsed": true,
    "hidden": true,
    "run_control": {
     "frozen": false,
     "read_only": false
    }
   },
   "outputs": [],
   "source": [
    "def comp_row_iou(row):\n",
    "    return comp_boxes_iou(row['bbox'], np.array(row['con_box']))"
   ]
  },
  {
   "cell_type": "code",
   "execution_count": 957,
   "metadata": {
    "collapsed": true,
    "hidden": true,
    "run_control": {
     "frozen": false,
     "read_only": false
    }
   },
   "outputs": [],
   "source": [
    "bbox_df_con_exists = bbox_df[bbox_df['con_box'].apply(lambda x: sum(x) > 2)]"
   ]
  },
  {
   "cell_type": "code",
   "execution_count": 958,
   "metadata": {
    "collapsed": true,
    "hidden": true,
    "run_control": {
     "frozen": false,
     "read_only": false
    }
   },
   "outputs": [],
   "source": [
    "bbox_df_con_exists['con_iou'] = bbox_df_con_exists.apply(comp_row_iou, axis=1)"
   ]
  },
  {
   "cell_type": "code",
   "execution_count": 959,
   "metadata": {
    "collapsed": true,
    "hidden": true,
    "run_control": {
     "frozen": false,
     "read_only": false
    }
   },
   "outputs": [],
   "source": [
    "grouped_by_worker = bbox_df_con_exists.groupby('w_id')"
   ]
  },
  {
   "cell_type": "code",
   "execution_count": 960,
   "metadata": {
    "collapsed": true,
    "hidden": true,
    "run_control": {
     "frozen": false,
     "read_only": false
    },
    "scrolled": true
   },
   "outputs": [],
   "source": [
    "workers_below_thresh = grouped_by_worker.agg(np.mean) < 0.65"
   ]
  },
  {
   "cell_type": "code",
   "execution_count": 962,
   "metadata": {
    "collapsed": true,
    "hidden": true,
    "run_control": {
     "frozen": false,
     "read_only": false
    }
   },
   "outputs": [],
   "source": [
    "workers_below_thresh = workers_below_thresh.reset_index()"
   ]
  },
  {
   "cell_type": "code",
   "execution_count": 963,
   "metadata": {
    "collapsed": true,
    "hidden": true,
    "run_control": {
     "frozen": false,
     "read_only": false
    }
   },
   "outputs": [],
   "source": [
    "suspect_workers = workers_below_thresh[workers_below_thresh['con_iou']]"
   ]
  },
  {
   "cell_type": "code",
   "execution_count": 964,
   "metadata": {
    "collapsed": true,
    "hidden": true,
    "run_control": {
     "frozen": false,
     "read_only": false
    }
   },
   "outputs": [],
   "source": [
    "check_these_workers = suspect_workers[suspect_workers['w_id'].isin(prolific_workers)]['w_id'].values.tolist()"
   ]
  },
  {
   "cell_type": "code",
   "execution_count": 965,
   "metadata": {
    "collapsed": true,
    "hidden": true,
    "run_control": {
     "frozen": false,
     "read_only": false
    }
   },
   "outputs": [],
   "source": [
    "prolific_worker_df = bbox_df[bbox_df['w_id'].isin(prolific_workers)]"
   ]
  },
  {
   "cell_type": "code",
   "execution_count": 966,
   "metadata": {
    "hidden": true,
    "run_control": {
     "frozen": false,
     "read_only": false
    }
   },
   "outputs": [
    {
     "data": {
      "text/plain": [
       "['A1FL6CA4FMJ3KB',\n",
       " 'A1HA4T6P2CM2WV',\n",
       " 'A1J8Y204VZNWQW',\n",
       " 'A1RO22O88I71FD',\n",
       " 'A2CXEAMWU2SFV3',\n",
       " 'A2PU4YNWITAQVL',\n",
       " 'A303MN1VOKQG5I',\n",
       " 'A3662J93B79L3J']"
      ]
     },
     "execution_count": 966,
     "metadata": {},
     "output_type": "execute_result"
    }
   ],
   "source": [
    "check_these_workers"
   ]
  },
  {
   "cell_type": "code",
   "execution_count": 989,
   "metadata": {
    "hidden": true,
    "run_control": {
     "frozen": false,
     "read_only": false
    }
   },
   "outputs": [
    {
     "data": {
      "text/plain": [
       "8"
      ]
     },
     "execution_count": 989,
     "metadata": {},
     "output_type": "execute_result"
    }
   ],
   "source": [
    "len(check_these_workers)"
   ]
  },
  {
   "cell_type": "code",
   "execution_count": null,
   "metadata": {
    "collapsed": true,
    "hidden": true,
    "run_control": {
     "frozen": false,
     "read_only": false
    }
   },
   "outputs": [],
   "source": []
  },
  {
   "cell_type": "code",
   "execution_count": 920,
   "metadata": {
    "collapsed": true,
    "hidden": true,
    "run_control": {
     "frozen": false,
     "read_only": false
    }
   },
   "outputs": [],
   "source": [
    "worker_bans = ['A1HA4T6P2CM2WV']\n",
    "ban_below_thresh = ['A1J8Y204VZNWQW', 'A1RO22O88I71FD', 'A303MN1VOKQG5I', 'A3662J93B79L3J']"
   ]
  },
  {
   "cell_type": "code",
   "execution_count": 967,
   "metadata": {
    "collapsed": true,
    "hidden": true,
    "run_control": {
     "frozen": false,
     "read_only": false
    }
   },
   "outputs": [],
   "source": [
    "assignments_to_reject = set(bbox_df[bbox_df['w_id'].isin(worker_bans)]['a_id'].tolist())"
   ]
  },
  {
   "cell_type": "code",
   "execution_count": 982,
   "metadata": {
    "collapsed": true,
    "hidden": true,
    "run_control": {
     "frozen": false,
     "read_only": false
    }
   },
   "outputs": [],
   "source": [
    "bbox_df_sel_rej = bbox_df_con_exists[bbox_df_con_exists['w_id'].isin(ban_below_thresh)]\n",
    "assignments_to_reject.update(set(bbox_df_sel_rej[bbox_df_sel_rej['con_iou'] < 0.65]['a_id'].tolist()))"
   ]
  },
  {
   "cell_type": "code",
   "execution_count": 987,
   "metadata": {
    "collapsed": true,
    "hidden": true,
    "run_control": {
     "frozen": false,
     "read_only": false
    }
   },
   "outputs": [],
   "source": [
    "subtask_workers_to_ban = set(worker_bans + ban_below_thresh)\n",
    "pickle_this(subtask_workers_to_ban, 'subtask_workers_to_ban.pkl')"
   ]
  },
  {
   "cell_type": "code",
   "execution_count": 988,
   "metadata": {
    "collapsed": true,
    "hidden": true,
    "run_control": {
     "frozen": false,
     "read_only": false
    }
   },
   "outputs": [],
   "source": [
    "pickle_this(assignments_to_reject, 'subtask_aids_to_reject.pkl')"
   ]
  },
  {
   "cell_type": "code",
   "execution_count": 985,
   "metadata": {
    "hidden": true,
    "run_control": {
     "frozen": false,
     "read_only": false
    }
   },
   "outputs": [
    {
     "data": {
      "text/plain": [
       "2133"
      ]
     },
     "execution_count": 985,
     "metadata": {},
     "output_type": "execute_result"
    }
   ],
   "source": [
    "len(assignments_to_reject)"
   ]
  },
  {
   "cell_type": "code",
   "execution_count": 921,
   "metadata": {
    "collapsed": true,
    "hidden": true,
    "run_control": {
     "frozen": false,
     "read_only": false
    }
   },
   "outputs": [],
   "source": [
    "prolific_worker_df_con_exists = prolific_worker_df[prolific_worker_df['con_box'].apply(lambda x: sum(x) > 2)]"
   ]
  },
  {
   "cell_type": "code",
   "execution_count": 970,
   "metadata": {
    "hidden": true,
    "run_control": {
     "frozen": false,
     "read_only": false
    }
   },
   "outputs": [
    {
     "data": {
      "text/plain": [
       "1245"
      ]
     },
     "execution_count": 970,
     "metadata": {},
     "output_type": "execute_result"
    }
   ],
   "source": [
    "check_df = bbox_df_con_exists[bbox_df_con_exists['w_id'] == check_these_workers[7]]\n",
    "subn = check_df.shape[0]\n",
    "subn"
   ]
  },
  {
   "cell_type": "code",
   "execution_count": 971,
   "metadata": {
    "hidden": true,
    "run_control": {
     "frozen": false,
     "marked": true,
     "read_only": false
    }
   },
   "outputs": [
    {
     "data": {
      "text/html": [
       "<div>\n",
       "<style>\n",
       "    .dataframe thead tr:only-child th {\n",
       "        text-align: right;\n",
       "    }\n",
       "\n",
       "    .dataframe thead th {\n",
       "        text-align: left;\n",
       "    }\n",
       "\n",
       "    .dataframe tbody tr th {\n",
       "        vertical-align: top;\n",
       "    }\n",
       "</style>\n",
       "<table border=\"1\" class=\"dataframe\">\n",
       "  <thead>\n",
       "    <tr style=\"text-align: right;\">\n",
       "      <th></th>\n",
       "      <th>a_id</th>\n",
       "      <th>characters</th>\n",
       "      <th>h_id</th>\n",
       "      <th>raw_bbox</th>\n",
       "      <th>still_id</th>\n",
       "      <th>w_id</th>\n",
       "      <th>bbox</th>\n",
       "      <th>frame_n</th>\n",
       "      <th>con_box</th>\n",
       "      <th>con_iou</th>\n",
       "    </tr>\n",
       "  </thead>\n",
       "  <tbody>\n",
       "    <tr>\n",
       "      <th>10676</th>\n",
       "      <td>3IHR8NYAM81LRCOH33R1PL8B2NBP45</td>\n",
       "      <td>{s_02_e_03_shot_029458_029532_char_0_taskb.png}</td>\n",
       "      <td>311HQEI8RTG91JAC28I8UBZEHXJZ7F</td>\n",
       "      <td>[{'left': 222, 'top': 119, 'width': 116, 'heig...</td>\n",
       "      <td>s_02_e_03_shot_029458_029532_taskb.png</td>\n",
       "      <td>A3662J93B79L3J</td>\n",
       "      <td>[222, 119, 338, 248]</td>\n",
       "      <td>_10.png</td>\n",
       "      <td>[183, 89, 406, 416]</td>\n",
       "      <td>0.205208</td>\n",
       "    </tr>\n",
       "  </tbody>\n",
       "</table>\n",
       "</div>"
      ],
      "text/plain": [
       "                                 a_id  \\\n",
       "10676  3IHR8NYAM81LRCOH33R1PL8B2NBP45   \n",
       "\n",
       "                                            characters  \\\n",
       "10676  {s_02_e_03_shot_029458_029532_char_0_taskb.png}   \n",
       "\n",
       "                                 h_id  \\\n",
       "10676  311HQEI8RTG91JAC28I8UBZEHXJZ7F   \n",
       "\n",
       "                                                raw_bbox  \\\n",
       "10676  [{'left': 222, 'top': 119, 'width': 116, 'heig...   \n",
       "\n",
       "                                     still_id            w_id  \\\n",
       "10676  s_02_e_03_shot_029458_029532_taskb.png  A3662J93B79L3J   \n",
       "\n",
       "                       bbox  frame_n              con_box   con_iou  \n",
       "10676  [222, 119, 338, 248]  _10.png  [183, 89, 406, 416]  0.205208  "
      ]
     },
     "execution_count": 971,
     "metadata": {},
     "output_type": "execute_result"
    }
   ],
   "source": [
    "rown = random.randint(0, subn)\n",
    "worker_row = check_df.iloc[rown: rown+1]\n",
    "worker_row"
   ]
  },
  {
   "cell_type": "code",
   "execution_count": 972,
   "metadata": {
    "hidden": true,
    "run_control": {
     "frozen": false,
     "read_only": false
    },
    "scrolled": false
   },
   "outputs": [
    {
     "data": {
      "image/png": "[encoded data removed]",
      "text/plain": [
       "<PIL.Image.Image image mode=RGB size=640x480 at 0x1443F71D0>"
      ]
     },
     "execution_count": 972,
     "metadata": {},
     "output_type": "execute_result"
    }
   ],
   "source": [
    "worker_row.apply(draw_row, axis=1).item()"
   ]
  },
  {
   "cell_type": "code",
   "execution_count": 813,
   "metadata": {
    "collapsed": true,
    "hidden": true,
    "run_control": {
     "frozen": false,
     "read_only": false
    }
   },
   "outputs": [],
   "source": [
    "# draw_clusters(tfid, wbox, cbox)"
   ]
  },
  {
   "cell_type": "code",
   "execution_count": 510,
   "metadata": {
    "collapsed": true,
    "hidden": true,
    "run_control": {
     "frozen": false,
     "read_only": false
    }
   },
   "outputs": [],
   "source": [
    "def draw_row(row):\n",
    "    aid = row['still_id'][:-10]\n",
    "    return draw_clusters(aid, row['bbox'].reshape(2, 2), np.array(row['con_box']).reshape(2, 2))\n",
    "\n",
    "def draw_clusters(img_id, worker_box, consensus_box, color=(0, 255, 255)):\n",
    "    image_base_dir = '/Users/sachwenk/wrk/animation_gan/build_dataset/Flintstone_Shots_Selected_Frames/'\n",
    "    img_path = image_base_dir + img_id + '_10.png'\n",
    "    image = cv2.imread(img_path)\n",
    "    image = cv2.cvtColor(image, cv2.COLOR_BGR2RGB)\n",
    "    max_height, max_width, channels = image.shape\n",
    "#     limit_rect(worker_box, max_width, max_height)\n",
    "    cv2.rectangle(image, tuple(worker_box[0]), tuple(worker_box[1]), color=(255, 0, 0), thickness=2)\n",
    "    cv2.rectangle(image, tuple(consensus_box[0]), tuple(consensus_box[1]), color=color, thickness=2)\n",
    "    return Image.fromarray(image)"
   ]
  },
  {
   "cell_type": "markdown",
   "metadata": {
    "heading_collapsed": true
   },
   "source": [
    "# bounding box clustering"
   ]
  },
  {
   "cell_type": "code",
   "execution_count": 154,
   "metadata": {
    "hidden": true,
    "run_control": {
     "frozen": false,
     "read_only": false
    }
   },
   "outputs": [],
   "source": [
    "from amt_utils.bboxes import draw_object_seq\n",
    "from amt_utils.bboxes import comp_box_center\n",
    "from amt_utils.bboxes import characterbox_to_box"
   ]
  },
  {
   "cell_type": "code",
   "execution_count": null,
   "metadata": {
    "collapsed": true,
    "hidden": true,
    "run_control": {
     "frozen": false,
     "read_only": false
    }
   },
   "outputs": [],
   "source": [
    "rev_dir = 'review_results'\n",
    "img_dir = 'review_frames'"
   ]
  },
  {
   "cell_type": "code",
   "execution_count": 142,
   "metadata": {
    "hidden": true,
    "run_control": {
     "frozen": false,
     "read_only": false
    }
   },
   "outputs": [],
   "source": [
    "# con_boxes, labels = cluster_and_label_stage_1b(animation_annos, cluster_from_nms_stage1_b, 1, 3, './subtask_data/frames/')"
   ]
  },
  {
   "cell_type": "code",
   "execution_count": 159,
   "metadata": {
    "hidden": true,
    "run_control": {
     "frozen": false,
     "read_only": false
    }
   },
   "outputs": [],
   "source": [
    "test_obj_anno = annotations_by_frame[problem_vid]"
   ]
  },
  {
   "cell_type": "code",
   "execution_count": 241,
   "metadata": {
    "hidden": true,
    "run_control": {
     "frozen": false,
     "read_only": false
    }
   },
   "outputs": [
    {
     "data": {
      "text/plain": [
       "'s_01_e_01_shot_008499_008573'"
      ]
     },
     "execution_count": 241,
     "metadata": {},
     "output_type": "execute_result"
    }
   ],
   "source": [
    "problem_vid"
   ]
  },
  {
   "cell_type": "code",
   "execution_count": 139,
   "metadata": {
    "hidden": true,
    "run_control": {
     "frozen": false,
     "read_only": false
    }
   },
   "outputs": [
    {
     "ename": "NameError",
     "evalue": "name 'single_still_annos' is not defined",
     "output_type": "error",
     "traceback": [
      "\u001b[0;31m---------------------------------------------------------------------------\u001b[0m",
      "\u001b[0;31mNameError\u001b[0m                                 Traceback (most recent call last)",
      "\u001b[0;32m<ipython-input-139-774571daa718>\u001b[0m in \u001b[0;36m<module>\u001b[0;34m()\u001b[0m\n\u001b[0;32m----> 1\u001b[0;31m \u001b[0mthree_frame_img\u001b[0m\u001b[0;34m,\u001b[0m \u001b[0mconsensus_boxes\u001b[0m\u001b[0;34m,\u001b[0m \u001b[0mlabels\u001b[0m \u001b[0;34m=\u001b[0m \u001b[0mdraw_object_seq\u001b[0m\u001b[0;34m(\u001b[0m\u001b[0mannotations_by_frame\u001b[0m\u001b[0;34m[\u001b[0m\u001b[0mproblem_vid\u001b[0m\u001b[0;34m]\u001b[0m\u001b[0;34m,\u001b[0m \u001b[0mcluster_from_nms_stage1_b\u001b[0m\u001b[0;34m)\u001b[0m\u001b[0;34m\u001b[0m\u001b[0m\n\u001b[0m",
      "\u001b[0;32m~/wrk/animation_gan/turk_annotation_task/stage_4/amt_utils/bboxes.py\u001b[0m in \u001b[0;36mdraw_object_seq\u001b[0;34m(objects, clusterer)\u001b[0m\n\u001b[1;32m    440\u001b[0m \u001b[0;34m\u001b[0m\u001b[0m\n\u001b[1;32m    441\u001b[0m \u001b[0;32mdef\u001b[0m \u001b[0mdraw_object_seq\u001b[0m\u001b[0;34m(\u001b[0m\u001b[0mobjects\u001b[0m\u001b[0;34m,\u001b[0m \u001b[0mclusterer\u001b[0m\u001b[0;34m)\u001b[0m\u001b[0;34m:\u001b[0m\u001b[0;34m\u001b[0m\u001b[0m\n\u001b[0;32m--> 442\u001b[0;31m     \u001b[0mimages_and_boxes\u001b[0m \u001b[0;34m=\u001b[0m \u001b[0;34m[\u001b[0m\u001b[0mdraw_image_and_labels\u001b[0m\u001b[0;34m(\u001b[0m\u001b[0msingle_still_annos\u001b[0m\u001b[0;34m[\u001b[0m\u001b[0mframe_n\u001b[0m\u001b[0;34m]\u001b[0m\u001b[0;34m,\u001b[0m \u001b[0mclusterer\u001b[0m\u001b[0;34m,\u001b[0m \u001b[0mframe_n\u001b[0m\u001b[0;34m)\u001b[0m \u001b[0;32mfor\u001b[0m \u001b[0mframe_n\u001b[0m \u001b[0;32min\u001b[0m \u001b[0mrange\u001b[0m\u001b[0;34m(\u001b[0m\u001b[0;36m3\u001b[0m\u001b[0;34m)\u001b[0m\u001b[0;34m]\u001b[0m\u001b[0;34m\u001b[0m\u001b[0m\n\u001b[0m\u001b[1;32m    443\u001b[0m     \u001b[0mthree_frames\u001b[0m\u001b[0;34m,\u001b[0m \u001b[0mconsensus_boxes\u001b[0m\u001b[0;34m,\u001b[0m \u001b[0mall_boxes\u001b[0m \u001b[0;34m=\u001b[0m \u001b[0mzip\u001b[0m\u001b[0;34m(\u001b[0m\u001b[0;34m*\u001b[0m\u001b[0mimages_and_boxes\u001b[0m\u001b[0;34m)\u001b[0m\u001b[0;34m\u001b[0m\u001b[0m\n\u001b[1;32m    444\u001b[0m     \u001b[0mimgs_comb\u001b[0m \u001b[0;34m=\u001b[0m \u001b[0mnp\u001b[0m\u001b[0;34m.\u001b[0m\u001b[0mhstack\u001b[0m\u001b[0;34m(\u001b[0m\u001b[0;34m[\u001b[0m\u001b[0mnp\u001b[0m\u001b[0;34m.\u001b[0m\u001b[0masarray\u001b[0m\u001b[0;34m(\u001b[0m\u001b[0mi\u001b[0m\u001b[0;34m)\u001b[0m \u001b[0;32mfor\u001b[0m \u001b[0mi\u001b[0m \u001b[0;32min\u001b[0m \u001b[0mthree_frames\u001b[0m \u001b[0;32mif\u001b[0m \u001b[0mi\u001b[0m\u001b[0;34m]\u001b[0m\u001b[0;34m)\u001b[0m\u001b[0;34m\u001b[0m\u001b[0m\n",
      "\u001b[0;32m~/wrk/animation_gan/turk_annotation_task/stage_4/amt_utils/bboxes.py\u001b[0m in \u001b[0;36m<listcomp>\u001b[0;34m(.0)\u001b[0m\n\u001b[1;32m    440\u001b[0m \u001b[0;34m\u001b[0m\u001b[0m\n\u001b[1;32m    441\u001b[0m \u001b[0;32mdef\u001b[0m \u001b[0mdraw_object_seq\u001b[0m\u001b[0;34m(\u001b[0m\u001b[0mobjects\u001b[0m\u001b[0;34m,\u001b[0m \u001b[0mclusterer\u001b[0m\u001b[0;34m)\u001b[0m\u001b[0;34m:\u001b[0m\u001b[0;34m\u001b[0m\u001b[0m\n\u001b[0;32m--> 442\u001b[0;31m     \u001b[0mimages_and_boxes\u001b[0m \u001b[0;34m=\u001b[0m \u001b[0;34m[\u001b[0m\u001b[0mdraw_image_and_labels\u001b[0m\u001b[0;34m(\u001b[0m\u001b[0msingle_still_annos\u001b[0m\u001b[0;34m[\u001b[0m\u001b[0mframe_n\u001b[0m\u001b[0;34m]\u001b[0m\u001b[0;34m,\u001b[0m \u001b[0mclusterer\u001b[0m\u001b[0;34m,\u001b[0m \u001b[0mframe_n\u001b[0m\u001b[0;34m)\u001b[0m \u001b[0;32mfor\u001b[0m \u001b[0mframe_n\u001b[0m \u001b[0;32min\u001b[0m \u001b[0mrange\u001b[0m\u001b[0;34m(\u001b[0m\u001b[0;36m3\u001b[0m\u001b[0;34m)\u001b[0m\u001b[0;34m]\u001b[0m\u001b[0;34m\u001b[0m\u001b[0m\n\u001b[0m\u001b[1;32m    443\u001b[0m     \u001b[0mthree_frames\u001b[0m\u001b[0;34m,\u001b[0m \u001b[0mconsensus_boxes\u001b[0m\u001b[0;34m,\u001b[0m \u001b[0mall_boxes\u001b[0m \u001b[0;34m=\u001b[0m \u001b[0mzip\u001b[0m\u001b[0;34m(\u001b[0m\u001b[0;34m*\u001b[0m\u001b[0mimages_and_boxes\u001b[0m\u001b[0;34m)\u001b[0m\u001b[0;34m\u001b[0m\u001b[0m\n\u001b[1;32m    444\u001b[0m     \u001b[0mimgs_comb\u001b[0m \u001b[0;34m=\u001b[0m \u001b[0mnp\u001b[0m\u001b[0;34m.\u001b[0m\u001b[0mhstack\u001b[0m\u001b[0;34m(\u001b[0m\u001b[0;34m[\u001b[0m\u001b[0mnp\u001b[0m\u001b[0;34m.\u001b[0m\u001b[0masarray\u001b[0m\u001b[0;34m(\u001b[0m\u001b[0mi\u001b[0m\u001b[0;34m)\u001b[0m \u001b[0;32mfor\u001b[0m \u001b[0mi\u001b[0m \u001b[0;32min\u001b[0m \u001b[0mthree_frames\u001b[0m \u001b[0;32mif\u001b[0m \u001b[0mi\u001b[0m\u001b[0;34m]\u001b[0m\u001b[0;34m)\u001b[0m\u001b[0;34m\u001b[0m\u001b[0m\n",
      "\u001b[0;31mNameError\u001b[0m: name 'single_still_annos' is not defined"
     ]
    }
   ],
   "source": [
    "three_frame_img, consensus_boxes, labels = draw_object_seq(annotations_by_frame[problem_vid], cluster_from_nms_stage1_b)"
   ]
  },
  {
   "cell_type": "code",
   "execution_count": 131,
   "metadata": {
    "hidden": true,
    "run_control": {
     "frozen": false,
     "read_only": false
    },
    "scrolled": true
   },
   "outputs": [
    {
     "name": "stderr",
     "output_type": "stream",
     "text": [
      "\r",
      "  0%|          | 0/2 [00:00<?, ?it/s]"
     ]
    },
    {
     "name": "stdout",
     "output_type": "stream",
     "text": [
      "['stillID', 'characterBoxes', 'h_id', 'a_id', 'worker_id', 'stillID', 'characterBoxes', 'h_id', 'a_id', 'worker_id', 'stillID', 'characterBoxes', 'h_id', 'a_id', 'worker_id']\n"
     ]
    },
    {
     "name": "stderr",
     "output_type": "stream",
     "text": [
      "\n"
     ]
    },
    {
     "ename": "TypeError",
     "evalue": "string indices must be integers",
     "output_type": "error",
     "traceback": [
      "\u001b[0;31m---------------------------------------------------------------------------\u001b[0m",
      "\u001b[0;31mTypeError\u001b[0m                                 Traceback (most recent call last)",
      "\u001b[0;32m<ipython-input-131-9be792c818ee>\u001b[0m in \u001b[0;36m<module>\u001b[0;34m()\u001b[0m\n\u001b[1;32m      3\u001b[0m \u001b[0;32mfor\u001b[0m \u001b[0maid\u001b[0m\u001b[0;34m,\u001b[0m \u001b[0manimation_annos\u001b[0m \u001b[0;32min\u001b[0m \u001b[0mtqdm\u001b[0m\u001b[0;34m(\u001b[0m\u001b[0mlist\u001b[0m\u001b[0;34m(\u001b[0m\u001b[0mannotations_by_frame\u001b[0m\u001b[0;34m.\u001b[0m\u001b[0mitems\u001b[0m\u001b[0;34m(\u001b[0m\u001b[0;34m)\u001b[0m\u001b[0;34m)\u001b[0m\u001b[0;34m[\u001b[0m\u001b[0;34m:\u001b[0m\u001b[0;36m2\u001b[0m\u001b[0;34m]\u001b[0m\u001b[0;34m)\u001b[0m\u001b[0;34m:\u001b[0m\u001b[0;34m\u001b[0m\u001b[0m\n\u001b[1;32m      4\u001b[0m     \u001b[0;32mtry\u001b[0m\u001b[0;34m:\u001b[0m\u001b[0;34m\u001b[0m\u001b[0m\n\u001b[0;32m----> 5\u001b[0;31m         \u001b[0mthree_frame_img\u001b[0m\u001b[0;34m,\u001b[0m \u001b[0mconsensus_boxes\u001b[0m\u001b[0;34m,\u001b[0m \u001b[0mlabels\u001b[0m \u001b[0;34m=\u001b[0m \u001b[0mdraw_animation_seq\u001b[0m\u001b[0;34m(\u001b[0m\u001b[0manimation_annos\u001b[0m\u001b[0;34m,\u001b[0m \u001b[0mcluster_from_nms_stage1_b\u001b[0m\u001b[0;34m)\u001b[0m\u001b[0;34m\u001b[0m\u001b[0m\n\u001b[0m\u001b[1;32m      6\u001b[0m         \u001b[0mavg_votes\u001b[0m \u001b[0;34m=\u001b[0m \u001b[0mnp\u001b[0m\u001b[0;34m.\u001b[0m\u001b[0mmean\u001b[0m\u001b[0;34m(\u001b[0m\u001b[0;34m[\u001b[0m\u001b[0mbox\u001b[0m\u001b[0;34m[\u001b[0m\u001b[0;34m'votes'\u001b[0m\u001b[0;34m]\u001b[0m \u001b[0;32mfor\u001b[0m \u001b[0mframe\u001b[0m \u001b[0;32min\u001b[0m \u001b[0mconsensus_boxes\u001b[0m \u001b[0;32mfor\u001b[0m \u001b[0mbox\u001b[0m \u001b[0;32min\u001b[0m \u001b[0mframe\u001b[0m\u001b[0;34m]\u001b[0m\u001b[0;34m)\u001b[0m\u001b[0;34m\u001b[0m\u001b[0m\n\u001b[1;32m      7\u001b[0m         \u001b[0mpossible_labels\u001b[0m \u001b[0;34m=\u001b[0m \u001b[0;34m[\u001b[0m\u001b[0mc\u001b[0m\u001b[0;34m[\u001b[0m\u001b[0;34m'possible_labels'\u001b[0m\u001b[0;34m]\u001b[0m \u001b[0;32mfor\u001b[0m \u001b[0mc\u001b[0m \u001b[0;32min\u001b[0m \u001b[0msorted\u001b[0m\u001b[0;34m(\u001b[0m\u001b[0mlabels\u001b[0m\u001b[0;34m,\u001b[0m \u001b[0mkey\u001b[0m\u001b[0;34m=\u001b[0m\u001b[0;32mlambda\u001b[0m \u001b[0mx\u001b[0m\u001b[0;34m:\u001b[0m \u001b[0mx\u001b[0m\u001b[0;34m[\u001b[0m\u001b[0;34m'box'\u001b[0m\u001b[0;34m]\u001b[0m\u001b[0;34m[\u001b[0m\u001b[0;36m0\u001b[0m\u001b[0;34m]\u001b[0m\u001b[0;34m)\u001b[0m\u001b[0;34m]\u001b[0m\u001b[0;34m\u001b[0m\u001b[0m\n",
      "\u001b[0;32m~/wrk/animation_gan/turk_annotation_task/stage_4/amt_utils/bboxes.py\u001b[0m in \u001b[0;36mdraw_animation_seq\u001b[0;34m(anim_seq, clusterer)\u001b[0m\n\u001b[1;32m    432\u001b[0m \u001b[0;32mdef\u001b[0m \u001b[0mdraw_animation_seq\u001b[0m\u001b[0;34m(\u001b[0m\u001b[0manim_seq\u001b[0m\u001b[0;34m,\u001b[0m \u001b[0mclusterer\u001b[0m\u001b[0;34m)\u001b[0m\u001b[0;34m:\u001b[0m\u001b[0;34m\u001b[0m\u001b[0m\n\u001b[1;32m    433\u001b[0m     \u001b[0msingle_still_annos\u001b[0m \u001b[0;34m=\u001b[0m \u001b[0manim_seq\u001b[0m\u001b[0;34m[\u001b[0m\u001b[0;34m:\u001b[0m\u001b[0;36m3\u001b[0m\u001b[0;34m]\u001b[0m\u001b[0;34m,\u001b[0m \u001b[0manim_seq\u001b[0m\u001b[0;34m[\u001b[0m\u001b[0;36m3\u001b[0m\u001b[0;34m:\u001b[0m\u001b[0;36m6\u001b[0m\u001b[0;34m]\u001b[0m\u001b[0;34m,\u001b[0m \u001b[0manim_seq\u001b[0m\u001b[0;34m[\u001b[0m\u001b[0;36m6\u001b[0m\u001b[0;34m:\u001b[0m\u001b[0;34m]\u001b[0m\u001b[0;34m\u001b[0m\u001b[0m\n\u001b[0;32m--> 434\u001b[0;31m     \u001b[0mimages_and_boxes\u001b[0m \u001b[0;34m=\u001b[0m \u001b[0;34m[\u001b[0m\u001b[0mdraw_image_and_labels\u001b[0m\u001b[0;34m(\u001b[0m\u001b[0msingle_still_annos\u001b[0m\u001b[0;34m[\u001b[0m\u001b[0mframe_n\u001b[0m\u001b[0;34m]\u001b[0m\u001b[0;34m,\u001b[0m \u001b[0mclusterer\u001b[0m\u001b[0;34m,\u001b[0m \u001b[0mframe_n\u001b[0m\u001b[0;34m)\u001b[0m \u001b[0;32mfor\u001b[0m \u001b[0mframe_n\u001b[0m \u001b[0;32min\u001b[0m \u001b[0mrange\u001b[0m\u001b[0;34m(\u001b[0m\u001b[0;36m3\u001b[0m\u001b[0;34m)\u001b[0m\u001b[0;34m]\u001b[0m\u001b[0;34m\u001b[0m\u001b[0m\n\u001b[0m\u001b[1;32m    435\u001b[0m     \u001b[0mthree_frames\u001b[0m\u001b[0;34m,\u001b[0m \u001b[0mconsensus_boxes\u001b[0m\u001b[0;34m,\u001b[0m \u001b[0mall_boxes\u001b[0m \u001b[0;34m=\u001b[0m \u001b[0mzip\u001b[0m\u001b[0;34m(\u001b[0m\u001b[0;34m*\u001b[0m\u001b[0mimages_and_boxes\u001b[0m\u001b[0;34m)\u001b[0m\u001b[0;34m\u001b[0m\u001b[0m\n\u001b[1;32m    436\u001b[0m     \u001b[0mlabels\u001b[0m \u001b[0;34m=\u001b[0m \u001b[0mselect_labels\u001b[0m\u001b[0;34m(\u001b[0m\u001b[0mconsensus_boxes\u001b[0m\u001b[0;34m,\u001b[0m \u001b[0mall_boxes\u001b[0m\u001b[0;34m,\u001b[0m \u001b[0;36m0.6\u001b[0m\u001b[0;34m)\u001b[0m\u001b[0;34m\u001b[0m\u001b[0m\n",
      "\u001b[0;32m~/wrk/animation_gan/turk_annotation_task/stage_4/amt_utils/bboxes.py\u001b[0m in \u001b[0;36m<listcomp>\u001b[0;34m(.0)\u001b[0m\n\u001b[1;32m    432\u001b[0m \u001b[0;32mdef\u001b[0m \u001b[0mdraw_animation_seq\u001b[0m\u001b[0;34m(\u001b[0m\u001b[0manim_seq\u001b[0m\u001b[0;34m,\u001b[0m \u001b[0mclusterer\u001b[0m\u001b[0;34m)\u001b[0m\u001b[0;34m:\u001b[0m\u001b[0;34m\u001b[0m\u001b[0m\n\u001b[1;32m    433\u001b[0m     \u001b[0msingle_still_annos\u001b[0m \u001b[0;34m=\u001b[0m \u001b[0manim_seq\u001b[0m\u001b[0;34m[\u001b[0m\u001b[0;34m:\u001b[0m\u001b[0;36m3\u001b[0m\u001b[0;34m]\u001b[0m\u001b[0;34m,\u001b[0m \u001b[0manim_seq\u001b[0m\u001b[0;34m[\u001b[0m\u001b[0;36m3\u001b[0m\u001b[0;34m:\u001b[0m\u001b[0;36m6\u001b[0m\u001b[0;34m]\u001b[0m\u001b[0;34m,\u001b[0m \u001b[0manim_seq\u001b[0m\u001b[0;34m[\u001b[0m\u001b[0;36m6\u001b[0m\u001b[0;34m:\u001b[0m\u001b[0;34m]\u001b[0m\u001b[0;34m\u001b[0m\u001b[0m\n\u001b[0;32m--> 434\u001b[0;31m     \u001b[0mimages_and_boxes\u001b[0m \u001b[0;34m=\u001b[0m \u001b[0;34m[\u001b[0m\u001b[0mdraw_image_and_labels\u001b[0m\u001b[0;34m(\u001b[0m\u001b[0msingle_still_annos\u001b[0m\u001b[0;34m[\u001b[0m\u001b[0mframe_n\u001b[0m\u001b[0;34m]\u001b[0m\u001b[0;34m,\u001b[0m \u001b[0mclusterer\u001b[0m\u001b[0;34m,\u001b[0m \u001b[0mframe_n\u001b[0m\u001b[0;34m)\u001b[0m \u001b[0;32mfor\u001b[0m \u001b[0mframe_n\u001b[0m \u001b[0;32min\u001b[0m \u001b[0mrange\u001b[0m\u001b[0;34m(\u001b[0m\u001b[0;36m3\u001b[0m\u001b[0;34m)\u001b[0m\u001b[0;34m]\u001b[0m\u001b[0;34m\u001b[0m\u001b[0m\n\u001b[0m\u001b[1;32m    435\u001b[0m     \u001b[0mthree_frames\u001b[0m\u001b[0;34m,\u001b[0m \u001b[0mconsensus_boxes\u001b[0m\u001b[0;34m,\u001b[0m \u001b[0mall_boxes\u001b[0m \u001b[0;34m=\u001b[0m \u001b[0mzip\u001b[0m\u001b[0;34m(\u001b[0m\u001b[0;34m*\u001b[0m\u001b[0mimages_and_boxes\u001b[0m\u001b[0;34m)\u001b[0m\u001b[0;34m\u001b[0m\u001b[0m\n\u001b[1;32m    436\u001b[0m     \u001b[0mlabels\u001b[0m \u001b[0;34m=\u001b[0m \u001b[0mselect_labels\u001b[0m\u001b[0;34m(\u001b[0m\u001b[0mconsensus_boxes\u001b[0m\u001b[0;34m,\u001b[0m \u001b[0mall_boxes\u001b[0m\u001b[0;34m,\u001b[0m \u001b[0;36m0.6\u001b[0m\u001b[0;34m)\u001b[0m\u001b[0;34m\u001b[0m\u001b[0m\n",
      "\u001b[0;32m~/wrk/animation_gan/turk_annotation_task/stage_4/amt_utils/bboxes.py\u001b[0m in \u001b[0;36mdraw_image_and_labels\u001b[0;34m(still_annos, clusterer, frame_number, n_turkers, image_base_dir)\u001b[0m\n\u001b[1;32m    298\u001b[0m         \u001b[0mconsensus_formatted\u001b[0m \u001b[0;34m=\u001b[0m \u001b[0mconsensus_boxes\u001b[0m\u001b[0;34m\u001b[0m\u001b[0m\n\u001b[1;32m    299\u001b[0m     \u001b[0;32melse\u001b[0m\u001b[0;34m:\u001b[0m\u001b[0;34m\u001b[0m\u001b[0m\n\u001b[0;32m--> 300\u001b[0;31m         \u001b[0mconsensus_boxes\u001b[0m\u001b[0;34m,\u001b[0m \u001b[0mbox_clusters\u001b[0m\u001b[0;34m,\u001b[0m \u001b[0mall_boxes\u001b[0m \u001b[0;34m=\u001b[0m \u001b[0mclusterer\u001b[0m\u001b[0;34m(\u001b[0m\u001b[0mstill_annos\u001b[0m\u001b[0;34m,\u001b[0m \u001b[0mframe_number\u001b[0m\u001b[0;34m,\u001b[0m \u001b[0mn_turkers\u001b[0m\u001b[0;34m)\u001b[0m\u001b[0;34m\u001b[0m\u001b[0m\n\u001b[0m\u001b[1;32m    301\u001b[0m         \u001b[0mformatted_all\u001b[0m \u001b[0;34m=\u001b[0m \u001b[0mformat_clusters\u001b[0m\u001b[0;34m(\u001b[0m\u001b[0mall_boxes\u001b[0m\u001b[0;34m,\u001b[0m \u001b[0;34m[\u001b[0m\u001b[0;34m]\u001b[0m\u001b[0;34m)\u001b[0m\u001b[0;34m.\u001b[0m\u001b[0mvalues\u001b[0m\u001b[0;34m(\u001b[0m\u001b[0;34m)\u001b[0m\u001b[0;34m\u001b[0m\u001b[0m\n\u001b[1;32m    302\u001b[0m         \u001b[0mbase_image\u001b[0m \u001b[0;34m=\u001b[0m \u001b[0mdraw_clusters\u001b[0m\u001b[0;34m(\u001b[0m\u001b[0mos\u001b[0m\u001b[0;34m.\u001b[0m\u001b[0mpath\u001b[0m\u001b[0;34m.\u001b[0m\u001b[0mjoin\u001b[0m\u001b[0;34m(\u001b[0m\u001b[0mimage_base_dir\u001b[0m\u001b[0;34m,\u001b[0m \u001b[0mstill_id\u001b[0m\u001b[0;34m)\u001b[0m\u001b[0;34m,\u001b[0m \u001b[0mformatted_all\u001b[0m\u001b[0;34m,\u001b[0m \u001b[0mcolor\u001b[0m\u001b[0;34m=\u001b[0m\u001b[0;34m(\u001b[0m\u001b[0;36m128\u001b[0m\u001b[0;34m,\u001b[0m \u001b[0;36m128\u001b[0m\u001b[0;34m,\u001b[0m \u001b[0;36m128\u001b[0m\u001b[0;34m)\u001b[0m\u001b[0;34m)\u001b[0m\u001b[0;34m\u001b[0m\u001b[0m\n",
      "\u001b[0;32m~/wrk/animation_gan/turk_annotation_task/stage_4/amt_utils/bboxes.py\u001b[0m in \u001b[0;36mcluster_from_nms_stage1_b\u001b[0;34m(annos, _, __)\u001b[0m\n\u001b[1;32m    262\u001b[0m     \u001b[0mprint\u001b[0m\u001b[0;34m(\u001b[0m\u001b[0mflattened_boxes\u001b[0m\u001b[0;34m)\u001b[0m\u001b[0;34m\u001b[0m\u001b[0m\n\u001b[1;32m    263\u001b[0m \u001b[0;34m\u001b[0m\u001b[0m\n\u001b[0;32m--> 264\u001b[0;31m     \u001b[0mflattened_boxes\u001b[0m \u001b[0;34m=\u001b[0m \u001b[0;34m[\u001b[0m\u001b[0mbox\u001b[0m \u001b[0;32mfor\u001b[0m \u001b[0mbox\u001b[0m \u001b[0;32min\u001b[0m \u001b[0mflattened_boxes\u001b[0m \u001b[0;32mif\u001b[0m \u001b[0mbox_area\u001b[0m\u001b[0;34m(\u001b[0m\u001b[0mrect_from_anno\u001b[0m\u001b[0;34m(\u001b[0m\u001b[0mbox\u001b[0m\u001b[0;34m)\u001b[0m\u001b[0;34m)\u001b[0m \u001b[0;34m>\u001b[0m \u001b[0;36m100\u001b[0m\u001b[0;34m]\u001b[0m\u001b[0;34m\u001b[0m\u001b[0m\n\u001b[0m\u001b[1;32m    265\u001b[0m     \u001b[0mchars_present\u001b[0m \u001b[0;34m=\u001b[0m \u001b[0;34m[\u001b[0m\u001b[0mbox\u001b[0m\u001b[0;34m[\u001b[0m\u001b[0;34m'label'\u001b[0m\u001b[0;34m]\u001b[0m \u001b[0;32mfor\u001b[0m \u001b[0mbox\u001b[0m \u001b[0;32min\u001b[0m \u001b[0mflattened_boxes\u001b[0m\u001b[0;34m]\u001b[0m\u001b[0;34m\u001b[0m\u001b[0m\n\u001b[1;32m    266\u001b[0m     \u001b[0mmost_common\u001b[0m \u001b[0;34m=\u001b[0m \u001b[0mst\u001b[0m\u001b[0;34m.\u001b[0m\u001b[0mstats\u001b[0m\u001b[0;34m.\u001b[0m\u001b[0mmode\u001b[0m\u001b[0;34m(\u001b[0m\u001b[0mchars_present\u001b[0m\u001b[0;34m)\u001b[0m\u001b[0;34m\u001b[0m\u001b[0m\n",
      "\u001b[0;32m~/wrk/animation_gan/turk_annotation_task/stage_4/amt_utils/bboxes.py\u001b[0m in \u001b[0;36m<listcomp>\u001b[0;34m(.0)\u001b[0m\n\u001b[1;32m    262\u001b[0m     \u001b[0mprint\u001b[0m\u001b[0;34m(\u001b[0m\u001b[0mflattened_boxes\u001b[0m\u001b[0;34m)\u001b[0m\u001b[0;34m\u001b[0m\u001b[0m\n\u001b[1;32m    263\u001b[0m \u001b[0;34m\u001b[0m\u001b[0m\n\u001b[0;32m--> 264\u001b[0;31m     \u001b[0mflattened_boxes\u001b[0m \u001b[0;34m=\u001b[0m \u001b[0;34m[\u001b[0m\u001b[0mbox\u001b[0m \u001b[0;32mfor\u001b[0m \u001b[0mbox\u001b[0m \u001b[0;32min\u001b[0m \u001b[0mflattened_boxes\u001b[0m \u001b[0;32mif\u001b[0m \u001b[0mbox_area\u001b[0m\u001b[0;34m(\u001b[0m\u001b[0mrect_from_anno\u001b[0m\u001b[0;34m(\u001b[0m\u001b[0mbox\u001b[0m\u001b[0;34m)\u001b[0m\u001b[0;34m)\u001b[0m \u001b[0;34m>\u001b[0m \u001b[0;36m100\u001b[0m\u001b[0;34m]\u001b[0m\u001b[0;34m\u001b[0m\u001b[0m\n\u001b[0m\u001b[1;32m    265\u001b[0m     \u001b[0mchars_present\u001b[0m \u001b[0;34m=\u001b[0m \u001b[0;34m[\u001b[0m\u001b[0mbox\u001b[0m\u001b[0;34m[\u001b[0m\u001b[0;34m'label'\u001b[0m\u001b[0;34m]\u001b[0m \u001b[0;32mfor\u001b[0m \u001b[0mbox\u001b[0m \u001b[0;32min\u001b[0m \u001b[0mflattened_boxes\u001b[0m\u001b[0;34m]\u001b[0m\u001b[0;34m\u001b[0m\u001b[0m\n\u001b[1;32m    266\u001b[0m     \u001b[0mmost_common\u001b[0m \u001b[0;34m=\u001b[0m \u001b[0mst\u001b[0m\u001b[0;34m.\u001b[0m\u001b[0mstats\u001b[0m\u001b[0;34m.\u001b[0m\u001b[0mmode\u001b[0m\u001b[0;34m(\u001b[0m\u001b[0mchars_present\u001b[0m\u001b[0;34m)\u001b[0m\u001b[0;34m\u001b[0m\u001b[0m\n",
      "\u001b[0;32m~/wrk/animation_gan/turk_annotation_task/stage_4/amt_utils/bboxes.py\u001b[0m in \u001b[0;36mrect_from_anno\u001b[0;34m(anno)\u001b[0m\n\u001b[1;32m    200\u001b[0m \u001b[0;34m\u001b[0m\u001b[0m\n\u001b[1;32m    201\u001b[0m \u001b[0;32mdef\u001b[0m \u001b[0mrect_from_anno\u001b[0m\u001b[0;34m(\u001b[0m\u001b[0manno\u001b[0m\u001b[0;34m)\u001b[0m\u001b[0;34m:\u001b[0m\u001b[0;34m\u001b[0m\u001b[0m\n\u001b[0;32m--> 202\u001b[0;31m     \u001b[0mupper_left\u001b[0m \u001b[0;34m=\u001b[0m \u001b[0;34m[\u001b[0m\u001b[0manno\u001b[0m\u001b[0;34m[\u001b[0m\u001b[0;34m'left'\u001b[0m\u001b[0;34m]\u001b[0m\u001b[0;34m,\u001b[0m \u001b[0manno\u001b[0m\u001b[0;34m[\u001b[0m\u001b[0;34m'top'\u001b[0m\u001b[0;34m]\u001b[0m\u001b[0;34m]\u001b[0m\u001b[0;34m\u001b[0m\u001b[0m\n\u001b[0m\u001b[1;32m    203\u001b[0m     \u001b[0mupper_right\u001b[0m \u001b[0;34m=\u001b[0m \u001b[0;34m[\u001b[0m\u001b[0mupper_left\u001b[0m\u001b[0;34m[\u001b[0m\u001b[0;36m0\u001b[0m\u001b[0;34m]\u001b[0m \u001b[0;34m+\u001b[0m \u001b[0manno\u001b[0m\u001b[0;34m[\u001b[0m\u001b[0;34m'width'\u001b[0m\u001b[0;34m]\u001b[0m\u001b[0;34m,\u001b[0m \u001b[0mupper_left\u001b[0m\u001b[0;34m[\u001b[0m\u001b[0;36m1\u001b[0m\u001b[0;34m]\u001b[0m \u001b[0;34m+\u001b[0m \u001b[0manno\u001b[0m\u001b[0;34m[\u001b[0m\u001b[0;34m'height'\u001b[0m\u001b[0;34m]\u001b[0m\u001b[0;34m]\u001b[0m\u001b[0;34m\u001b[0m\u001b[0m\n\u001b[1;32m    204\u001b[0m     \u001b[0;32mreturn\u001b[0m \u001b[0;34m[\u001b[0m\u001b[0mupper_left\u001b[0m\u001b[0;34m,\u001b[0m \u001b[0mupper_right\u001b[0m\u001b[0;34m]\u001b[0m\u001b[0;34m\u001b[0m\u001b[0m\n",
      "\u001b[0;31mTypeError\u001b[0m: string indices must be integers"
     ]
    }
   ],
   "source": [
    "review_seq = {}\n",
    "error_frames = []\n",
    "for aid, animation_annos in tqdm(list(annotations_by_frame.items())[:2]):\n",
    "    try:\n",
    "        three_frame_img, consensus_boxes, labels = draw_animation_seq(animation_annos, cluster_from_nms_stage1_b)\n",
    "        avg_votes = np.mean([box['votes'] for frame in consensus_boxes for box in frame])\n",
    "        possible_labels = [c['possible_labels'] for c in sorted(labels, key=lambda x: x['box'][0])]\n",
    "        chosen_labels = [c['chosen_labels'] for c in sorted(labels, key=lambda x: x['box'][0])]\n",
    "        review_seq[aid] = {'votes': avg_votes, 'possible_labels': possible_labels, 'chosen_labels': chosen_labels}\n",
    "        img_path = os.path.join(rev_dir, img_dir, aid) + '_rev.png'\n",
    "        three_frame_img.save(img_path)\n",
    "    except IndentationError:\n",
    "        error_frames.append(aid)\n",
    "rev_page = generate_review_page('bbox_review_10_3.html')"
   ]
  },
  {
   "cell_type": "code",
   "execution_count": 127,
   "metadata": {
    "hidden": true,
    "run_control": {
     "frozen": false,
     "read_only": false
    }
   },
   "outputs": [],
   "source": [
    "three_frame_img, consensus_boxes, labels = draw_animation_seq(annotations_by_frame[problem_vid], cluster_from_nms)\n",
    "avg_votes = np.mean([box['votes'] for frame in consensus_boxes for box in frame])\n",
    "possible_labels = [c['possible_labels'] for c in sorted(labels, key=lambda x: x['box'][0])]\n",
    "chosen_labels = [c['chosen_labels'] for c in sorted(labels, key=lambda x: x['box'][0])]\n",
    "review_seq[aid] = {'votes': avg_votes, 'possible_labels': possible_labels, 'chosen_labels': chosen_labels}\n",
    "three_frame_img"
   ]
  },
  {
   "cell_type": "code",
   "execution_count": null,
   "metadata": {
    "hidden": true,
    "run_control": {
     "frozen": false,
     "read_only": false
    }
   },
   "outputs": [],
   "source": []
  },
  {
   "cell_type": "markdown",
   "metadata": {
    "collapsed": true,
    "heading_collapsed": true,
    "hidden": true,
    "run_control": {
     "frozen": false,
     "read_only": false
    }
   },
   "source": [
    "## debug"
   ]
  },
  {
   "cell_type": "code",
   "execution_count": null,
   "metadata": {
    "collapsed": true,
    "hidden": true,
    "run_control": {
     "frozen": false,
     "read_only": false
    }
   },
   "outputs": [],
   "source": [
    "# review_seq = {}\n",
    "# error_frames = []\n",
    "# n = 0\n",
    "# for aid, animation_annos in list(debug_sample.items()):\n",
    "#     three_frame_img, consensus_boxes = draw_animation_seq(animation_annos, cluster_from_nms)\n",
    "#     avg_votes = np.mean([box['votes'] for frame in consensus_boxes for box in frame])\n",
    "#     possible_labels = [c['possible_labels'] for c in sorted(labels, key=lambda x: x['box'][0])]\n",
    "#     chosen_labels = [c['chosen_labels'] for c in sorted(labels, key=lambda x: x['box'][0])]\n",
    "#     review_seq[aid] = {'votes': avg_votes, 'possible_labels': possible_labels, 'chosen_labels': chosen_labels}\n",
    "#     img_path = os.path.join(rev_dir, img_dir, aid) + '_rev.png'\n",
    "#     three_frame_img.save(img_path)\n",
    "# #     except IndexError:\n",
    "# #         error_frames.append(aid)\n",
    "\n",
    "# rev_page = generate_review_page('bbox_review_new_8_7_debug.html')\n",
    "# rev_page = rev_page.replace('review_frames', 'review_results/review_frames').replace('.png', '.png?arg' + str(random.randint(0, 100000000)))\n",
    "# HTML(rev_page)"
   ]
  },
  {
   "cell_type": "code",
   "execution_count": null,
   "metadata": {
    "collapsed": true,
    "hidden": true,
    "run_control": {
     "frozen": false,
     "read_only": false
    }
   },
   "outputs": [],
   "source": []
  },
  {
   "cell_type": "code",
   "execution_count": 29,
   "metadata": {
    "collapsed": true,
    "hidden": true,
    "run_control": {
     "frozen": false,
     "read_only": false
    }
   },
   "outputs": [],
   "source": [
    "debug_clips = ['s_01_e_06_shot_020535_020609', 's_01_e_05_shot_009896_009970', 's_01_e_06_shot_025311_025385', 's_01_e_07_shot_014729_014803', 's_01_e_06_shot_032983_033057']\n",
    "debug_clips = ['s_01_e_04_shot_016588_016662', 's_01_e_05_shot_009896_009970', 's_01_e_06_shot_020535_020609', 's_01_e_01_shot_022792_022866']\n",
    "debug_clips = ['s_01_e_06_shot_020535_020609']\n",
    "debug_clips += ['s_01_e_01_shot_022792_022866']\n",
    "debug_clips += ['s_01_e_05_shot_002673_002747']\n",
    "debug_clips += ['s_01_e_06_shot_007192_007266']\n",
    "debug_clips += ['s_01_e_05_shot_004222_004296']\n",
    "\n",
    "debug_sample = {debug_clip: annotations_by_frame[debug_clip] for debug_clip in debug_clips}"
   ]
  },
  {
   "cell_type": "code",
   "execution_count": 30,
   "metadata": {
    "collapsed": true,
    "hidden": true,
    "run_control": {
     "frozen": false,
     "read_only": false
    }
   },
   "outputs": [],
   "source": [
    "error_clip = list(annotations_by_frame.values())[0]\n",
    "\n",
    "three_frames = [s3_base_path + error_clip[i]['stillID'] for i in [0, 6]]\n",
    "imgs_comb = np.hstack([Image.open(requests.get(image_url, stream=True).raw) for image_url in three_frames])\n",
    "test_image = Image.fromarray(imgs_comb)"
   ]
  },
  {
   "cell_type": "code",
   "execution_count": 26,
   "metadata": {
    "hidden": true,
    "run_control": {
     "frozen": false,
     "read_only": false
    }
   },
   "outputs": [
    {
     "ename": "NameError",
     "evalue": "name 'test_image' is not defined",
     "output_type": "error",
     "traceback": [
      "\u001b[0;31m---------------------------------------------------------------------------\u001b[0m",
      "\u001b[0;31mNameError\u001b[0m                                 Traceback (most recent call last)",
      "\u001b[0;32m<ipython-input-26-e96abd8a6ff0>\u001b[0m in \u001b[0;36m<module>\u001b[0;34m()\u001b[0m\n\u001b[0;32m----> 1\u001b[0;31m \u001b[0mtest_image\u001b[0m\u001b[0;34m.\u001b[0m\u001b[0msize\u001b[0m\u001b[0;34m\u001b[0m\u001b[0m\n\u001b[0m",
      "\u001b[0;31mNameError\u001b[0m: name 'test_image' is not defined"
     ]
    }
   ],
   "source": [
    "test_image.size"
   ]
  },
  {
   "cell_type": "code",
   "execution_count": 91,
   "metadata": {
    "hidden": true,
    "run_control": {
     "frozen": false,
     "read_only": false
    }
   },
   "outputs": [
    {
     "ename": "NameError",
     "evalue": "name 'annotations_by_frame' is not defined",
     "output_type": "error",
     "traceback": [
      "\u001b[0;31m---------------------------------------------------------------------------\u001b[0m",
      "\u001b[0;31mNameError\u001b[0m                                 Traceback (most recent call last)",
      "\u001b[0;32m<ipython-input-91-4ecd43c73908>\u001b[0m in \u001b[0;36m<module>\u001b[0;34m()\u001b[0m\n\u001b[0;32m----> 1\u001b[0;31m \u001b[0mannotations_by_frame\u001b[0m\u001b[0;34m[\u001b[0m\u001b[0;34m's_01_e_19_shot_025542_025616'\u001b[0m\u001b[0;34m]\u001b[0m\u001b[0;34m\u001b[0m\u001b[0m\n\u001b[0m",
      "\u001b[0;31mNameError\u001b[0m: name 'annotations_by_frame' is not defined"
     ]
    }
   ],
   "source": [
    "annotations_by_frame['s_01_e_19_shot_025542_025616']"
   ]
  },
  {
   "cell_type": "code",
   "execution_count": null,
   "metadata": {
    "collapsed": true,
    "hidden": true,
    "run_control": {
     "frozen": false,
     "read_only": false
    }
   },
   "outputs": [],
   "source": []
  },
  {
   "cell_type": "code",
   "execution_count": null,
   "metadata": {
    "collapsed": true,
    "hidden": true,
    "run_control": {
     "frozen": false,
     "read_only": false
    }
   },
   "outputs": [],
   "source": []
  },
  {
   "cell_type": "code",
   "execution_count": null,
   "metadata": {
    "collapsed": true,
    "hidden": true,
    "run_control": {
     "frozen": false,
     "read_only": false
    }
   },
   "outputs": [],
   "source": []
  },
  {
   "cell_type": "code",
   "execution_count": null,
   "metadata": {
    "collapsed": true,
    "hidden": true,
    "run_control": {
     "frozen": false,
     "read_only": false
    }
   },
   "outputs": [],
   "source": []
  },
  {
   "cell_type": "markdown",
   "metadata": {
    "heading_collapsed": true
   },
   "source": [
    "# bonus cost estimate"
   ]
  },
  {
   "cell_type": "code",
   "execution_count": 197,
   "metadata": {
    "collapsed": true,
    "hidden": true,
    "run_control": {
     "frozen": false,
     "read_only": false
    }
   },
   "outputs": [],
   "source": [
    "main_characters = [\n",
    "    \"Fred\",\n",
    "    \"Wilma\",\n",
    "    \"Mr Slate\",\n",
    "    \"Barney\",\n",
    "    \"Betty\",\n",
    "    \"Pebbles\",\n",
    "    \"Dino\",\n",
    "    \"Baby Puss\",\n",
    "    \"Hoppy\",\n",
    "    \"Bamm Bamm\",\n",
    "]\n",
    "\n",
    "empty_characters = ['no characters', 'empty frame']\n",
    "main_characters += empty_characters\n",
    "main_characters = [char.lower() for char in main_characters]"
   ]
  },
  {
   "cell_type": "code",
   "execution_count": 183,
   "metadata": {
    "collapsed": true,
    "hidden": true,
    "run_control": {
     "frozen": false,
     "read_only": false
    }
   },
   "outputs": [],
   "source": [
    "frame_cost = 0\n",
    "bonus_cost = 0\n",
    "for anno in list(review_seq.values()):\n",
    "    frame_cost += 0.05 * 3\n",
    "#     print(anno)\n",
    "    bonus_cost += len([char for char in anno['chosen_labels'] if char not in main_characters]) * 0.03"
   ]
  },
  {
   "cell_type": "code",
   "execution_count": 184,
   "metadata": {
    "hidden": true,
    "run_control": {
     "frozen": false,
     "read_only": false
    }
   },
   "outputs": [
    {
     "name": "stdout",
     "output_type": "stream",
     "text": [
      "80.25000000000018 3.659999999999995\n"
     ]
    },
    {
     "data": {
      "text/plain": [
       "83.91000000000018"
      ]
     },
     "execution_count": 184,
     "metadata": {},
     "output_type": "execute_result"
    }
   ],
   "source": [
    "print(frame_cost, bonus_cost)\n",
    "frame_cost + bonus_cost"
   ]
  },
  {
   "cell_type": "code",
   "execution_count": 200,
   "metadata": {
    "collapsed": true,
    "hidden": true,
    "run_control": {
     "frozen": false,
     "read_only": false
    }
   },
   "outputs": [],
   "source": [
    "frame_count = []\n",
    "for anno in list(review_seq.values()):\n",
    "    frame_count += len([char for char in anno['chosen_labels'] if char not in empty_characters])"
   ]
  },
  {
   "cell_type": "code",
   "execution_count": 201,
   "metadata": {
    "hidden": true,
    "run_control": {
     "frozen": false,
     "read_only": false
    }
   },
   "outputs": [
    {
     "data": {
      "text/plain": [
       "787"
      ]
     },
     "execution_count": 201,
     "metadata": {},
     "output_type": "execute_result"
    }
   ],
   "source": [
    "frame_count"
   ]
  },
  {
   "cell_type": "markdown",
   "metadata": {
    "heading_collapsed": true
   },
   "source": [
    "# HTML Review"
   ]
  },
  {
   "cell_type": "code",
   "execution_count": 71,
   "metadata": {
    "code_folding": [],
    "hidden": true,
    "run_control": {
     "frozen": false,
     "read_only": false
    }
   },
   "outputs": [],
   "source": [
    "review_page_html = \"\"\"\n",
    "<!DOCTYPE html>\n",
    "<html>\n",
    "  <head>\n",
    "    <style type=\"text/css\">\n",
    "       .container {\n",
    "          }\n",
    "    </style>\n",
    "  </head>\n",
    "  <body style=max-width: 100px>\n",
    "    <div class=\"container\">\n",
    "      <ul>\n",
    "        {% for clip in clips %}\n",
    "        <h2>clip: {{clip[0]}}</h2>\n",
    "        <h3>score: {{clip[2]}}      rank: {{clip[3]}}</h3>\n",
    "        <p>{{clip[1]}}</p>\n",
    "        <p>{{clip[4]}}</p>\n",
    "        <p>{{clip[5]}}</p>\n",
    "        {% endfor %}\n",
    "      </ul>\n",
    "    </div>\n",
    "    <script src=\"http://code.jquery.com/jquery-1.10.2.min.js\"></script>\n",
    "    <script src=\"http://netdna.bootstrapcdn.com/bootstrap/3.0.0/js/bootstrap.min.js\"></script>\n",
    "  </body>\n",
    "</html>\n",
    "\"\"\"\n",
    "\n",
    "\n",
    "review_subtask_comp = \"\"\"\n",
    "<!DOCTYPE html>\n",
    "<html>\n",
    "  <head>\n",
    "    <style type=\"text/css\">\n",
    "       .container {\n",
    "          }\n",
    "    </style>\n",
    "  </head>\n",
    "  <body style=max-width: 100px>\n",
    "    <div class=\"container\">\n",
    "      <ul>\n",
    "        {% for clip in clips %}\n",
    "        <h2>clip: {{clip[0]}}</h2>\n",
    "        <h4>original 3 frames:</h4>\n",
    "        <p>{{clip[1]}}</p>\n",
    "        <h4>new frames + original middle:</h4>\n",
    "        <p>{{clip[2]}}</p>\n",
    "        {% endfor %}\n",
    "      </ul>\n",
    "    </div>\n",
    "    <script src=\"http://code.jquery.com/jquery-1.10.2.min.js\"></script>\n",
    "    <script src=\"http://netdna.bootstrapcdn.com/bootstrap/3.0.0/js/bootstrap.min.js\"></script>\n",
    "  </body>\n",
    "</html>\n",
    "\"\"\""
   ]
  },
  {
   "cell_type": "code",
   "execution_count": 72,
   "metadata": {
    "code_folding": [
     14
    ],
    "hidden": true,
    "run_control": {
     "frozen": false,
     "read_only": false
    }
   },
   "outputs": [],
   "source": [
    "s3_base_path = 'https://s3-us-west-2.amazonaws.com/ai2-vision-animation-gan/annotation_data/still_frames/'\n",
    "\n",
    "def make_uri(clip_id, s3_base='review_frames', file_ext='_rev.png'):\n",
    "    s3_uri = s3_base + clip_id + file_ext\n",
    "    image_tag = '<img src=\"' + s3_uri +'\" width=800px>'\n",
    "    return image_tag\n",
    "\n",
    "def make_comp_uri(clip_id, s3_base='./'):\n",
    "    s3_uri = s3_base + clip_id\n",
    "    image_tag = '<img src=\"' + s3_uri +'\" width=800px>'\n",
    "    return image_tag\n",
    "\n",
    "\n",
    "def generate_review_page(out_page='bbox_review.html'):\n",
    "    images_sorted_by_conf = [make_uri(img[0]) for img in sorted(review_seq.items(), key=lambda x: x[1]['votes'])]\n",
    "    sorted_clip_ids = [img[0] for img in sorted(review_seq.items(), key=lambda x: x[1]['votes'])]\n",
    "    votes = [img[1]['votes'] for img in sorted(review_seq.items(), key=lambda x: x[1]['votes'])]\n",
    "    chosen_labels = [img[1]['chosen_labels'] for img in sorted(review_seq.items(), key=lambda x: x[1]['votes'])]\n",
    "    possible_labels = [img[1]['possible_labels'] for img in sorted(review_seq.items(), key=lambda x: x[1]['votes'])]\n",
    "    \n",
    "    send_to_template = zip(sorted_clip_ids, images_sorted_by_conf, votes, range(1, len(votes) + 1)[::-1], chosen_labels, possible_labels)\n",
    "    env = Environment()\n",
    "    template =  j2env.from_string(review_page_html)\n",
    "    html_dir = './review_results/' \n",
    "    html_out_file = os.path.join(html_dir, out_page)\n",
    "    if not os.path.exists(html_dir):\n",
    "        os.makedirs(html_dir)\n",
    "    page_html =  template.render(clips = send_to_template)\n",
    "    \n",
    "    with open(html_out_file, 'w') as f:\n",
    "        f.write(page_html.encode('ascii', 'ignore').decode('utf-8'))\n",
    "    return page_html\n",
    "\n",
    "\n",
    "def generate_subtask_review(rev_seq, out_page='review_subtask_comp.html'):\n",
    "    env = Environment()\n",
    "    rev_seq = [(rev[0], make_comp_uri(rev[1]), make_comp_uri(rev[2])) for rev in rev_seq]\n",
    "    template =  j2env.from_string(review_subtask_comp)\n",
    "    html_dir = './review_results/' \n",
    "    html_out_file = os.path.join(html_dir, out_page)\n",
    "    if not os.path.exists(html_dir):\n",
    "        os.makedirs(html_dir)\n",
    "    page_html =  template.render(clips = rev_seq)\n",
    "    \n",
    "    with open(html_out_file, 'w') as f:\n",
    "        f.write(page_html.encode('ascii', 'ignore').decode('utf-8'))\n",
    "        \n",
    "    return page_html"
   ]
  },
  {
   "cell_type": "code",
   "execution_count": 32,
   "metadata": {
    "collapsed": true,
    "hidden": true,
    "run_control": {
     "frozen": false,
     "read_only": false
    }
   },
   "outputs": [],
   "source": [
    "page_html = generate_subtask_review(subtask_rev_seq)"
   ]
  },
  {
   "cell_type": "markdown",
   "metadata": {
    "collapsed": true,
    "heading_collapsed": true,
    "run_control": {
     "frozen": false,
     "read_only": false
    }
   },
   "source": [
    "# hide"
   ]
  },
  {
   "cell_type": "code",
   "execution_count": null,
   "metadata": {
    "collapsed": true,
    "hidden": true,
    "run_control": {
     "frozen": false,
     "read_only": false
    }
   },
   "outputs": [],
   "source": [
    "vote_series = pd.Series([vote for vote in review_seq.values()])"
   ]
  },
  {
   "cell_type": "code",
   "execution_count": 13,
   "metadata": {
    "collapsed": true,
    "hidden": true,
    "run_control": {
     "frozen": false,
     "read_only": false
    }
   },
   "outputs": [],
   "source": [
    "# assignments =[]\n",
    "# for assignment_triple in list(results.values()):\n",
    "#     assignments.extend(assignment_triple)\n",
    "\n",
    "# assignment_results = [create_result(ar) for ar in assignments]\n",
    "\n",
    "# characters_present = [{'h_id': anno['h_id'], 'w_id': anno['worker_id'], 'still_id': anno['stillID'], 'characters': set([ch['label'] for ch in json.loads(anno['characterBoxes'])])} for anno in assignment_results]\n",
    "\n",
    "# main_characters =  {\"fred\",\n",
    "#              \"barney\",\n",
    "#               \"wilma\",\n",
    "#               \"betty\",\n",
    "#               \"pebbles\",\n",
    "#               \"bamm bamm\",\n",
    "#               \"dino\",\n",
    "#               \"mr slate\",\n",
    "#               \"baby puss\",\n",
    "#               \"hoppy\",\n",
    "#               \"no characters\"}\n",
    "\n",
    "# def all_main(char_set, main_chars=main_characters):\n",
    "#     return not bool(char_set.difference(main_chars))\n",
    "\n",
    "# char_df = pd.DataFrame(characters_present)\n",
    "\n",
    "# char_df['all_main'] = char_df['characters'].apply(lambda x: all_main(x))\n",
    "\n",
    "# all_chars = [c for char_list in char_df['characters'].apply(lambda x: list(x)).tolist() for c in char_list]\n",
    "# char_counts = pd.Series(all_chars).value_counts()\n",
    "\n",
    "# # char_counts.hist(bins = 30, log=True)\n",
    "\n",
    "# char_df['n_chars'] = char_df['characters'].apply(lambda x: len(x))\n",
    "\n",
    "# prolific_workers = char_df['w_id'].value_counts().index.tolist()[:5]\n",
    "\n",
    "# grouped_by_still = char_df.groupby('still_id')\n",
    "\n",
    "# agg_df = grouped_by_still.aggregate(len)\n",
    "\n",
    "# import scipy\n",
    "\n",
    "# agged_on_mode = grouped_by_still.agg(lambda x: scipy.stats.mode(x))\n",
    "# consensus_results_df = agged_on_mode.reset_index()\n",
    "\n",
    "# consensus_results_df['count_mode'] = consensus_results_df['n_chars'].apply(lambda x: x[1][0])\n",
    "\n",
    "# consensus_results_df\n",
    "\n",
    "# consensus_results_df['mode_count'] = consensus_results_df['characters'].apply(lambda x: x[1][0])\n",
    "\n",
    "# consensus_results_df['all_agree'] = consensus_results_df['count_mode'] == 3\n",
    "# consensus_results_df['two_agree'] = consensus_results_df['count_mode'] == 2"
   ]
  },
  {
   "cell_type": "code",
   "execution_count": 87,
   "metadata": {
    "collapsed": true,
    "hidden": true,
    "run_control": {
     "frozen": false,
     "read_only": false
    }
   },
   "outputs": [],
   "source": [
    "# all_main_annotations_by_frame = {}\n",
    "# no_main_annotations_by_frame = {}\n",
    "# mixed_all_frames = {}\n",
    "\n",
    "\n",
    "# for aid, annos in annotations_by_frame.items():\n",
    "#     still_ids = [still['stillID'] for still in annos]\n",
    "#     annos = [anno for anno in annos]\n",
    "#     if len([sid for sid in still_ids if sid in all_agree_set]) == 9:\n",
    "#         all_main_annotations_by_frame[aid] = annos\n",
    "#     elif len([sid for sid in still_ids if sid in not_main]) == 9:\n",
    "#         no_main_annotations_by_frame[aid] = annos\n",
    "#     else: \n",
    "#         mixed_all_frames[aid] = annos\n",
    "\n",
    "# print(len(all_main_annotations_by_frame), len(no_main_annotations_by_frame), len(mixed_all_frames))"
   ]
  },
  {
   "cell_type": "code",
   "execution_count": 14,
   "metadata": {
    "collapsed": true,
    "hidden": true,
    "run_control": {
     "frozen": false,
     "read_only": false
    }
   },
   "outputs": [],
   "source": [
    "# char_count_df = consensus_results_df[consensus_results_df['count_mode'] == 3]\n",
    "\n",
    "# # consensus_results_df[agree_all_main]['characters'].apply(lambda x: x[1][0]).value_counts()\n",
    "\n",
    "# not_main =set(consensus_results_df[~agree_all_main]['still_id'].tolist())\n",
    "\n",
    "# not_main_df = char_df[char_df['still_id'].isin(not_main)]\n",
    "\n",
    "# consensus_results_df.head(1)\n",
    "\n",
    "# agree_all_main = consensus_results_df['all_main'].apply(lambda x: x[1][0]) == 3 \n",
    "\n",
    "# all_agree = consensus_results_df[agree_all_main][consensus_results_df[agree_all_main]['all_agree']]\n",
    "# disagree = consensus_results_df[agree_all_main][~consensus_results_df[agree_all_main]['all_agree']]\n",
    "\n",
    "\n",
    "\n",
    "\n",
    "\n",
    "\n",
    "\n",
    "# all_agree_set = set(all_agree['still_id'].tolist())\n",
    "\n",
    "# count_all_agree_set = set(consensus_results_df[consensus_results_df['count_mode'] == 3]['still_id'].tolist())\n",
    "# count_two_agree_set = set(consensus_results_df[consensus_results_df['count_mode'] == 2]['still_id'].tolist())\n",
    "# count_none_agree_set = set(consensus_results_df[consensus_results_df['count_mode'] == 1]['still_id'].tolist())\n",
    "\n",
    "# conflict_images = set(disagree['still_id'].tolist())\n",
    "\n",
    "# conflict_df = char_df[char_df['still_id'].isin(conflict_images)]\n",
    "\n",
    "# import PIL.Image as Image\n",
    "# import requests\n",
    "\n",
    "# image_n = 10\n",
    "\n",
    "# consensus_results_df.iloc[image_n * 9: image_n * 9 + 3]\n",
    "\n",
    "# s3_base_path = 'https://s3-us-west-2.amazonaws.com/ai2-vision-animation-gan/annotation_data/still_frames/'\n",
    "\n",
    "# image_url = s3_base_path + consensus_results_df['still_id'].iloc[image_n *  9]\n",
    "# Image.open(requests.get(image_url, stream=True).raw)"
   ]
  },
  {
   "cell_type": "code",
   "execution_count": null,
   "metadata": {
    "collapsed": true,
    "hidden": true,
    "run_control": {
     "frozen": false,
     "read_only": false
    }
   },
   "outputs": [],
   "source": []
  }
 ],
 "metadata": {
  "kernelspec": {
   "display_name": "Python 3",
   "language": "python",
   "name": "python3"
  },
  "language_info": {
   "codemirror_mode": {
    "name": "ipython",
    "version": 3
   },
   "file_extension": ".py",
   "mimetype": "text/x-python",
   "name": "python",
   "nbconvert_exporter": "python",
   "pygments_lexer": "ipython3",
   "version": "3.6.2"
  }
 },
 "nbformat": 4,
 "nbformat_minor": 1
}
