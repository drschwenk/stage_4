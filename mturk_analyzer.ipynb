{
 "cells": [
  {
   "cell_type": "markdown",
   "metadata": {
    "heading_collapsed": true
   },
   "source": [
    "# Table of Contents\n",
    "* [Stage 4 - load data](#Stage-4---load-data)\n",
    "* [Process data](#Process-data)\n",
    "\t* [create subtask frames](#create-subtask-frames)\n",
    "* [review](#review)\n",
    "* [hide](#hide)\n"
   ]
  },
  {
   "cell_type": "code",
   "execution_count": 2,
   "metadata": {
    "hidden": true,
    "run_control": {
     "frozen": false,
     "read_only": false
    }
   },
   "outputs": [],
   "source": [
    "%%capture\n",
    "from __future__ import division\n",
    "import numpy as np\n",
    "import pandas as pd\n",
    "import scipy.stats as st\n",
    "import itertools\n",
    "import math\n",
    "from collections import Counter, defaultdict\n",
    "%load_ext autoreload\n",
    "%autoreload 2\n",
    "\n",
    "import matplotlib as mpl\n",
    "mpl.use(\"Agg\")\n",
    "import matplotlib.pylab as plt\n",
    "#%matplotlib notebook\n",
    "%matplotlib inline\n",
    "%load_ext base16_mplrc\n",
    "%base16_mplrc light solarized\n",
    "plt.rcParams['figure.figsize'] = (20.0, 10.0)\n",
    "\n",
    "import re\n",
    "import pickle\n",
    "import boto\n",
    "from copy import deepcopy\n",
    "import json\n",
    "import os\n",
    "import random\n",
    "import jinja2\n",
    "from tqdm import tqdm\n",
    "from IPython.core.display import HTML\n",
    "\n",
    "import PIL.Image as Image\n",
    "import requests\n",
    "\n",
    "from boto.mturk.qualification import PercentAssignmentsApprovedRequirement, Qualifications, Requirement\n",
    "\n",
    "from keysTkingdom import mturk_ai2\n",
    "from keysTkingdom import aws_tokes\n",
    "from keysTkingdom import mturk_aristo\n",
    "\n",
    "from anigen_tools.mturk import pickle_this, unpickle_this\n",
    "\n",
    "import os\n",
    "import jinja2\n",
    "import argparse\n",
    "from jinja2 import Environment, FileSystemLoader\n",
    "\n",
    "j2env = jinja2.Environment()\n",
    "\n",
    "import warnings\n",
    "warnings.filterwarnings('ignore')"
   ]
  },
  {
   "cell_type": "markdown",
   "metadata": {},
   "source": [
    "# Stage 4 - load data "
   ]
  },
  {
   "cell_type": "code",
   "execution_count": 4,
   "metadata": {
    "run_control": {
     "frozen": false,
     "read_only": false
    }
   },
   "outputs": [],
   "source": [
    "# dataset = unpickle_this('../../build_dataset/prod_dataset_10_6.pkl')\n",
    "# description_lookup = {vid.gid(): vid.description() for vid in dataset.data}\n",
    "\n",
    "# new_4a_assignemnts_update = unpickle_this('additional_batch_1_4a_update_10_8.pkl')\n",
    "# new_4a_assignemnts_update = unpickle_this('additional_batch_1_4a_update_10_10.pkl')\n",
    "stage_4a_2_3_4 = unpickle_this('./additional_batch_1_4a_update_10_20.pkl')"
   ]
  },
  {
   "cell_type": "code",
   "execution_count": 5,
   "metadata": {
    "run_control": {
     "frozen": false,
     "read_only": false
    }
   },
   "outputs": [
    {
     "data": {
      "text/plain": [
       "18714"
      ]
     },
     "execution_count": 5,
     "metadata": {},
     "output_type": "execute_result"
    }
   ],
   "source": [
    "len(stage_4a_2_3_4)"
   ]
  },
  {
   "cell_type": "markdown",
   "metadata": {},
   "source": [
    "# Process data"
   ]
  },
  {
   "cell_type": "code",
   "execution_count": 6,
   "metadata": {
    "code_folding": [
     0,
     23
    ],
    "run_control": {
     "frozen": false,
     "read_only": false
    }
   },
   "outputs": [],
   "source": [
    "def create_result(assmt):\n",
    "    result = {}\n",
    "    raw_result = json.loads(assmt.answers[0][0].fields[0])\n",
    "    result['image_id'] = raw_result['image_url']\n",
    "    result['object_words_raw'] = sorted([w.replace('None', 'None_0_0') for w in raw_result['description']], key=lambda x: ''.join(x.split('_')[1:]))\n",
    "    obj_words = [word.split('_')[0] for word in result['object_words_raw']]\n",
    "    obj_word_location = [word.split('_')[1:] for word in result['object_words_raw']]\n",
    "    result['object_words'] = obj_words\n",
    "    result['object_locs'] = obj_word_location\n",
    "    result['asgmt_id'] = assmt.AssignmentId\n",
    "    result['hit_id'] = assmt.HITId\n",
    "    result['worker_id'] = assmt.WorkerId\n",
    "    return result\n",
    "\n",
    "def overlap(row):\n",
    "    for idx in range(row.shape[0]):\n",
    "        if row[idx] == None:\n",
    "            row[idx] = set([])\n",
    "    try:\n",
    "        return list(row[0].intersection(row[1]).union(row[1].intersection(row[2])).union(row[0].intersection(row[2])))\n",
    "    except TypeError:\n",
    "        return {}\n",
    "\n",
    "def distill_objects(obj_idx_list):\n",
    "    combined_objects = []\n",
    "    object_coords = []\n",
    "    for word_position in obj_idx_list:\n",
    "        split_components = word_position.split('_')\n",
    "        word, sent_n, word_n = split_components[0], int(split_components[1]), int(split_components[2])\n",
    "        object_coords.append((word, sent_n, word_n))\n",
    "    object_coords = sorted(object_coords, key= lambda x: (x[1], x[2]))\n",
    "    combined_objects.append(object_coords[0])\n",
    "    for idx in range(1, len(object_coords)):\n",
    "        this_word, this_sent, this_wn = object_coords[idx]\n",
    "        last_word, last_sent, last_wn = combined_objects[-1]\n",
    "        if this_sent == last_sent and last_wn + 1 == this_wn:            \n",
    "            combined_objects[-1] = (' '.join([last_word, this_word]), this_sent, this_wn)\n",
    "        else:\n",
    "            combined_objects.append((this_word, this_sent, this_wn))\n",
    "    return [w[1:] for w in combined_objects], [w[0] for w in combined_objects]"
   ]
  },
  {
   "cell_type": "code",
   "execution_count": 7,
   "metadata": {
    "run_control": {
     "frozen": false,
     "read_only": false
    }
   },
   "outputs": [],
   "source": [
    "assignments = [item for sublist in stage_4a_2_3_4.values() for item in sublist]\n",
    "assignment_results = [create_result(ar) for ar in assignments]"
   ]
  },
  {
   "cell_type": "code",
   "execution_count": 10,
   "metadata": {
    "run_control": {
     "frozen": false,
     "read_only": false
    }
   },
   "outputs": [],
   "source": [
    "st4_df = pd.DataFrame(assignment_results)\n",
    "st4_df['obj_set'] = st4_df['object_words_raw'].apply(lambda x: set(x))\n",
    "# st4_df['description'] = st4_df['image_id'].apply(lambda x: description_lookup[x])\n",
    "grouped_by_image = st4_df.groupby('image_id')\n",
    "agged_on_mode = grouped_by_image.agg(lambda x: st.mode(x))\n",
    "agged_on_mode['mode_count'] = agged_on_mode['obj_set'].apply(lambda x: x[1][0])\n",
    "cons_df = agged_on_mode[agged_on_mode['mode_count'].isin([2, 3])]\n",
    "cons_df['image_id'] = cons_df.index"
   ]
  },
  {
   "cell_type": "code",
   "execution_count": 11,
   "metadata": {
    "run_control": {
     "frozen": false,
     "read_only": false
    }
   },
   "outputs": [],
   "source": [
    "noncon_df = agged_on_mode[agged_on_mode['mode_count'].isin([1])]\n",
    "noncon_vids = set(noncon_df.index.tolist())"
   ]
  },
  {
   "cell_type": "code",
   "execution_count": 13,
   "metadata": {
    "run_control": {
     "frozen": false,
     "read_only": false
    }
   },
   "outputs": [],
   "source": [
    "# cons_df['description'] = cons_df['image_id'].apply(lambda x: description_lookup[x])\n",
    "cons_df['con_objects'] = cons_df['obj_set'].apply(lambda x: sorted(list(x[0][0]), key=lambda x: (x.split('_')[1], x.split('_')[2] )))\n",
    "noncon_df = st4_df[st4_df['image_id'].isin(noncon_vids)]\n",
    "# noncon_df = noncon_df[~noncon_df['image_id'].isin(exclude)]\n",
    "temp_grouped_by_image = noncon_df.groupby('image_id')"
   ]
  },
  {
   "cell_type": "code",
   "execution_count": 14,
   "metadata": {
    "run_control": {
     "frozen": false,
     "read_only": false
    }
   },
   "outputs": [],
   "source": [
    "noncon_grouped = temp_grouped_by_image['obj_set'].apply(lambda x: pd.Series(x.values)).unstack()\n",
    "\n",
    "noncon_subsets_choices = noncon_grouped.apply(lambda x: overlap(x), axis=1)\n",
    "\n",
    "noncon_lookup = noncon_subsets_choices.to_dict()\n",
    "con_lookup = cons_df['con_objects'].to_dict()\n",
    "\n",
    "combined_lookup = {**con_lookup, **noncon_lookup}"
   ]
  },
  {
   "cell_type": "code",
   "execution_count": 202,
   "metadata": {
    "run_control": {
     "frozen": false,
     "marked": false,
     "read_only": false
    }
   },
   "outputs": [],
   "source": [
    "exclude = ['s_01_e_06_shot_032506_032580', 's_04_e_16_shot_042412_042486']\n",
    "noncon_df = noncon_df[~noncon_df['image_id'].isin(exclude)]"
   ]
  },
  {
   "cell_type": "code",
   "execution_count": 15,
   "metadata": {
    "run_control": {
     "frozen": false,
     "read_only": false
    }
   },
   "outputs": [
    {
     "data": {
      "text/html": [
       "<div>\n",
       "<style>\n",
       "    .dataframe thead tr:only-child th {\n",
       "        text-align: right;\n",
       "    }\n",
       "\n",
       "    .dataframe thead th {\n",
       "        text-align: left;\n",
       "    }\n",
       "\n",
       "    .dataframe tbody tr th {\n",
       "        vertical-align: top;\n",
       "    }\n",
       "</style>\n",
       "<table border=\"1\" class=\"dataframe\">\n",
       "  <thead>\n",
       "    <tr style=\"text-align: right;\">\n",
       "      <th></th>\n",
       "      <th>asgmt_id</th>\n",
       "      <th>hit_id</th>\n",
       "      <th>image_id</th>\n",
       "      <th>object_locs</th>\n",
       "      <th>object_words</th>\n",
       "      <th>object_words_raw</th>\n",
       "      <th>worker_id</th>\n",
       "      <th>obj_set</th>\n",
       "    </tr>\n",
       "  </thead>\n",
       "  <tbody>\n",
       "    <tr>\n",
       "      <th>39</th>\n",
       "      <td>3QRYMNZ7FZH55CRU2PFHT4F8RQYNTL</td>\n",
       "      <td>304QEQWKZQKJK4WLF0MIZYINRA9O0T</td>\n",
       "      <td>s_03_e_27_shot_007161_007235</td>\n",
       "      <td>[[0, 3], [0, 5]]</td>\n",
       "      <td>[hair, glasses]</td>\n",
       "      <td>[hair_0_3, glasses_0_5]</td>\n",
       "      <td>A33VGSEJ44ORMF</td>\n",
       "      <td>{hair_0_3, glasses_0_5}</td>\n",
       "    </tr>\n",
       "    <tr>\n",
       "      <th>40</th>\n",
       "      <td>3YJ6NA41JCGBUU726AE5VNXUT38JP8</td>\n",
       "      <td>304QEQWKZQKJK4WLF0MIZYINRA9O0T</td>\n",
       "      <td>s_03_e_27_shot_007161_007235</td>\n",
       "      <td>[[0, 3], [0, 5], [1, 5], [1, 6]]</td>\n",
       "      <td>[hair, glasses, bank, vault]</td>\n",
       "      <td>[hair_0_3, glasses_0_5, bank_1_5, vault_1_6]</td>\n",
       "      <td>A6FV8PQVMV7V</td>\n",
       "      <td>{bank_1_5, hair_0_3, vault_1_6, glasses_0_5}</td>\n",
       "    </tr>\n",
       "    <tr>\n",
       "      <th>41</th>\n",
       "      <td>3AQF3RZ559INFM318OOBAPEL5R26FN</td>\n",
       "      <td>304QEQWKZQKJK4WLF0MIZYINRA9O0T</td>\n",
       "      <td>s_03_e_27_shot_007161_007235</td>\n",
       "      <td>[[0, 3], [0, 5], [1, 6]]</td>\n",
       "      <td>[hair, glasses, vault]</td>\n",
       "      <td>[hair_0_3, glasses_0_5, vault_1_6]</td>\n",
       "      <td>A1BLMGNR6HAEDZ</td>\n",
       "      <td>{hair_0_3, vault_1_6, glasses_0_5}</td>\n",
       "    </tr>\n",
       "    <tr>\n",
       "      <th>84</th>\n",
       "      <td>3VHP9MDGROKCV3C2IF1EWP6V1EMFCZ</td>\n",
       "      <td>3THR0FZ95QTWH0L74T81XIABU8SOLA</td>\n",
       "      <td>s_02_e_28_shot_023923_023997</td>\n",
       "      <td>[[0, 14], [0, 6], [0, 7]]</td>\n",
       "      <td>[coin, slot, machine]</td>\n",
       "      <td>[coin_0_14, slot_0_6, machine_0_7]</td>\n",
       "      <td>A3I7G2JAKO15P7</td>\n",
       "      <td>{machine_0_7, slot_0_6, coin_0_14}</td>\n",
       "    </tr>\n",
       "    <tr>\n",
       "      <th>85</th>\n",
       "      <td>3OS4RQUCRAFTLYKW4F5JL50DJTMFBS</td>\n",
       "      <td>3THR0FZ95QTWH0L74T81XIABU8SOLA</td>\n",
       "      <td>s_02_e_28_shot_023923_023997</td>\n",
       "      <td>[[0, 14], [0, 3], [0, 7]]</td>\n",
       "      <td>[coin, handle, machine]</td>\n",
       "      <td>[coin_0_14, handle_0_3, machine_0_7]</td>\n",
       "      <td>AOQ7MU1GAI5X1</td>\n",
       "      <td>{machine_0_7, coin_0_14, handle_0_3}</td>\n",
       "    </tr>\n",
       "    <tr>\n",
       "      <th>86</th>\n",
       "      <td>3G2UL9A02EEA0TOVQ5QZMX1474S67U</td>\n",
       "      <td>3THR0FZ95QTWH0L74T81XIABU8SOLA</td>\n",
       "      <td>s_02_e_28_shot_023923_023997</td>\n",
       "      <td>[[0, 14], [0, 3], [0, 6], [0, 7]]</td>\n",
       "      <td>[coin, handle, slot, machine]</td>\n",
       "      <td>[coin_0_14, handle_0_3, slot_0_6, machine_0_7]</td>\n",
       "      <td>A3H8288VHL1607</td>\n",
       "      <td>{machine_0_7, slot_0_6, coin_0_14, handle_0_3}</td>\n",
       "    </tr>\n",
       "    <tr>\n",
       "      <th>93</th>\n",
       "      <td>3LWJHTCVCDMGP4MLNX29GUVC5T8FQP</td>\n",
       "      <td>3GL25Y6844U3HRHK5WWCG8GT6ISMXM</td>\n",
       "      <td>s_05_e_15_shot_003142_003216</td>\n",
       "      <td>[[0, 7], [1, 11], [1, 6]]</td>\n",
       "      <td>[head, desk, head]</td>\n",
       "      <td>[head_0_7, desk_1_11, head_1_6]</td>\n",
       "      <td>A1ZNN2X2B4ATTK</td>\n",
       "      <td>{head_0_7, desk_1_11, head_1_6}</td>\n",
       "    </tr>\n",
       "    <tr>\n",
       "      <th>94</th>\n",
       "      <td>33SA9F9TRYUT3NIB4VH9Q1SYHTBWET</td>\n",
       "      <td>3GL25Y6844U3HRHK5WWCG8GT6ISMXM</td>\n",
       "      <td>s_05_e_15_shot_003142_003216</td>\n",
       "      <td>[[0, 7], [1, 11], [1, 5]]</td>\n",
       "      <td>[head, desk, bold]</td>\n",
       "      <td>[head_0_7, desk_1_11, bold_1_5]</td>\n",
       "      <td>A27FBMV6E4YO3T</td>\n",
       "      <td>{bold_1_5, head_0_7, desk_1_11}</td>\n",
       "    </tr>\n",
       "    <tr>\n",
       "      <th>95</th>\n",
       "      <td>3LRKMWOKB6H522B0MY6FN4DR1SR2ZP</td>\n",
       "      <td>3GL25Y6844U3HRHK5WWCG8GT6ISMXM</td>\n",
       "      <td>s_05_e_15_shot_003142_003216</td>\n",
       "      <td>[[0, 7], [1, 6]]</td>\n",
       "      <td>[head, head]</td>\n",
       "      <td>[head_0_7, head_1_6]</td>\n",
       "      <td>A22VGT2F28LTWC</td>\n",
       "      <td>{head_0_7, head_1_6}</td>\n",
       "    </tr>\n",
       "    <tr>\n",
       "      <th>111</th>\n",
       "      <td>3YMTUJH0DTGJJ4HOKK0LUV9809HT4A</td>\n",
       "      <td>3VJ4PFXFJ47AYME03OVKNAMPIILUAF</td>\n",
       "      <td>s_05_e_09_shot_015198_015272</td>\n",
       "      <td>[[0, 5], [1, 6]]</td>\n",
       "      <td>[doorway, mug]</td>\n",
       "      <td>[doorway_0_5, mug_1_6]</td>\n",
       "      <td>A2BOXK0KVXGKPU</td>\n",
       "      <td>{mug_1_6, doorway_0_5}</td>\n",
       "    </tr>\n",
       "    <tr>\n",
       "      <th>112</th>\n",
       "      <td>3PMBY0YE2833UTLPFT1MMTKKYG2C9F</td>\n",
       "      <td>3VJ4PFXFJ47AYME03OVKNAMPIILUAF</td>\n",
       "      <td>s_05_e_09_shot_015198_015272</td>\n",
       "      <td>[[1, 6]]</td>\n",
       "      <td>[mug]</td>\n",
       "      <td>[mug_1_6]</td>\n",
       "      <td>A1LWMYF4M8DWTV</td>\n",
       "      <td>{mug_1_6}</td>\n",
       "    </tr>\n",
       "    <tr>\n",
       "      <th>113</th>\n",
       "      <td>32RIADZIST4I4449VKVVKQDMYRDS4W</td>\n",
       "      <td>3VJ4PFXFJ47AYME03OVKNAMPIILUAF</td>\n",
       "      <td>s_05_e_09_shot_015198_015272</td>\n",
       "      <td>[[0, 5], [1, 2], [1, 6]]</td>\n",
       "      <td>[doorway, creature, mug]</td>\n",
       "      <td>[doorway_0_5, creature_1_2, mug_1_6]</td>\n",
       "      <td>A27FBMV6E4YO3T</td>\n",
       "      <td>{creature_1_2, mug_1_6, doorway_0_5}</td>\n",
       "    </tr>\n",
       "    <tr>\n",
       "      <th>132</th>\n",
       "      <td>3NLZY2D53QP2PWWH9857B70W2O5QLE</td>\n",
       "      <td>3AQN9REUTGGPD21HXZJBGW08ZAUDY1</td>\n",
       "      <td>s_04_e_26_shot_007036_007110</td>\n",
       "      <td>[[0, 9], [1, 12], [1, 15], [1, 21], [1, 3]]</td>\n",
       "      <td>[road, head, road, hand, head]</td>\n",
       "      <td>[road_0_9, head_1_12, road_1_15, hand_1_21, he...</td>\n",
       "      <td>A2BOXK0KVXGKPU</td>\n",
       "      <td>{road_0_9, head_1_3, head_1_12, road_1_15, han...</td>\n",
       "    </tr>\n",
       "    <tr>\n",
       "      <th>133</th>\n",
       "      <td>3DZQRBDBSMFXM8L5V6QCALLGKRE3SJ</td>\n",
       "      <td>3AQN9REUTGGPD21HXZJBGW08ZAUDY1</td>\n",
       "      <td>s_04_e_26_shot_007036_007110</td>\n",
       "      <td>[[0, 9], [1, 15]]</td>\n",
       "      <td>[road, road]</td>\n",
       "      <td>[road_0_9, road_1_15]</td>\n",
       "      <td>A2HW364F4TCKL3</td>\n",
       "      <td>{road_0_9, road_1_15}</td>\n",
       "    </tr>\n",
       "    <tr>\n",
       "      <th>134</th>\n",
       "      <td>3018Q3ZVOJQL5EKDPW5H7JUQ4ZSAR3</td>\n",
       "      <td>3AQN9REUTGGPD21HXZJBGW08ZAUDY1</td>\n",
       "      <td>s_04_e_26_shot_007036_007110</td>\n",
       "      <td>[[1, 12], [1, 15], [1, 21], [1, 3]]</td>\n",
       "      <td>[head, road, hand, head]</td>\n",
       "      <td>[head_1_12, road_1_15, hand_1_21, head_1_3]</td>\n",
       "      <td>AYCKPJ672UF2</td>\n",
       "      <td>{hand_1_21, head_1_3, head_1_12, road_1_15}</td>\n",
       "    </tr>\n",
       "    <tr>\n",
       "      <th>135</th>\n",
       "      <td>3C44YUNSI2PYR87AWESUSP2HOJLPDA</td>\n",
       "      <td>373L46LKP867WJCS3G4VAMGA6FIJKQ</td>\n",
       "      <td>s_01_e_24_shot_024297_024371</td>\n",
       "      <td>[[1, 5], [2, 9], [3, 6], [4, 11], [4, 4], [4, ...</td>\n",
       "      <td>[back, feet, feet, mouth, feet,, water, feet, ...</td>\n",
       "      <td>[back_1_5, feet_2_9, feet_3_6, mouth_4_11, fee...</td>\n",
       "      <td>A1ZNN2X2B4ATTK</td>\n",
       "      <td>{mouth_4_11, back_1_5, feet_2_9, water_6_10, f...</td>\n",
       "    </tr>\n",
       "    <tr>\n",
       "      <th>136</th>\n",
       "      <td>3R2PKQ87NX89EGQJWC1D2IOZBKYIMR</td>\n",
       "      <td>373L46LKP867WJCS3G4VAMGA6FIJKQ</td>\n",
       "      <td>s_01_e_24_shot_024297_024371</td>\n",
       "      <td>[[1, 5], [2, 9], [3, 12], [3, 6], [4, 11], [4,...</td>\n",
       "      <td>[back, feet, ground, feet, mouth, feet,, water...</td>\n",
       "      <td>[back_1_5, feet_2_9, ground_3_12, feet_3_6, mo...</td>\n",
       "      <td>A2PJBSDDN22XIX</td>\n",
       "      <td>{mouth_4_11, back_1_5, feet_2_9, water_6_10, f...</td>\n",
       "    </tr>\n",
       "    <tr>\n",
       "      <th>137</th>\n",
       "      <td>38BQUHLA9X0JA21MU7EIMFKLNT6OM1</td>\n",
       "      <td>373L46LKP867WJCS3G4VAMGA6FIJKQ</td>\n",
       "      <td>s_01_e_24_shot_024297_024371</td>\n",
       "      <td>[[2, 9], [3, 12], [3, 6], [4, 11], [4, 4], [5,...</td>\n",
       "      <td>[feet, ground, feet, mouth, feet,, feet, water...</td>\n",
       "      <td>[feet_2_9, ground_3_12, feet_3_6, mouth_4_11, ...</td>\n",
       "      <td>A3NKTB1JU5AKIW</td>\n",
       "      <td>{mouth_4_11, feet_2_9, water_6_10, feet,_4_4, ...</td>\n",
       "    </tr>\n",
       "    <tr>\n",
       "      <th>144</th>\n",
       "      <td>3N4BPTXIO9SJXJLG5HDB68K6GAWKU2</td>\n",
       "      <td>3ABAOCJ4R94J8UG8JI1KM0K09EYMQG</td>\n",
       "      <td>s_05_e_08_shot_024828_024902</td>\n",
       "      <td>[[0, 11], [1, 10], [1, 2], [1, 7]]</td>\n",
       "      <td>[chair, spoon, food, bowl]</td>\n",
       "      <td>[chair_0_11, spoon_1_10, food_1_2, bowl_1_7]</td>\n",
       "      <td>A21VNYANQRZG2P</td>\n",
       "      <td>{bowl_1_7, spoon_1_10, food_1_2, chair_0_11}</td>\n",
       "    </tr>\n",
       "    <tr>\n",
       "      <th>145</th>\n",
       "      <td>3RANCT1ZVGHI4GHMZ40I751GTGOUBT</td>\n",
       "      <td>3ABAOCJ4R94J8UG8JI1KM0K09EYMQG</td>\n",
       "      <td>s_05_e_08_shot_024828_024902</td>\n",
       "      <td>[[0, 10], [0, 11], [0, 7], [1, 10], [1, 13], [...</td>\n",
       "      <td>[high, chair, pebbles, spoon, pebbles, food, b...</td>\n",
       "      <td>[high_0_10, chair_0_11, pebbles_0_7, spoon_1_1...</td>\n",
       "      <td>AFZMZWEJLYOV7</td>\n",
       "      <td>{pebbles_1_13, chair_0_11, pebbles_0_7, spoon_...</td>\n",
       "    </tr>\n",
       "    <tr>\n",
       "      <th>146</th>\n",
       "      <td>31JLPPHS2VUIOGTCOP93QGBFN2NO3J</td>\n",
       "      <td>3ABAOCJ4R94J8UG8JI1KM0K09EYMQG</td>\n",
       "      <td>s_05_e_08_shot_024828_024902</td>\n",
       "      <td>[[0, 10], [0, 11], [1, 10], [1, 2], [1, 7]]</td>\n",
       "      <td>[high, chair, spoon, food, bowl]</td>\n",
       "      <td>[high_0_10, chair_0_11, spoon_1_10, food_1_2, ...</td>\n",
       "      <td>A3BCKNE5CWHODZ</td>\n",
       "      <td>{chair_0_11, bowl_1_7, spoon_1_10, high_0_10, ...</td>\n",
       "    </tr>\n",
       "    <tr>\n",
       "      <th>192</th>\n",
       "      <td>36NEMU28XGDRFBAOLT5S39X7QW1MW9</td>\n",
       "      <td>3MIVREZQVIYOI6G5Y6O47NSWK97QKJ</td>\n",
       "      <td>s_02_e_19_shot_040234_040308</td>\n",
       "      <td>[[1, 3], [1, 9]]</td>\n",
       "      <td>[money, paper]</td>\n",
       "      <td>[money_1_3, paper_1_9]</td>\n",
       "      <td>A24XHYQR4P3JBW</td>\n",
       "      <td>{paper_1_9, money_1_3}</td>\n",
       "    </tr>\n",
       "    <tr>\n",
       "      <th>193</th>\n",
       "      <td>3VBEN272MLZYGKXTQLXWTFAPOXWGSJ</td>\n",
       "      <td>3MIVREZQVIYOI6G5Y6O47NSWK97QKJ</td>\n",
       "      <td>s_02_e_19_shot_040234_040308</td>\n",
       "      <td>[[1, 3], [1, 7], [1, 8], [1, 9]]</td>\n",
       "      <td>[money, slip, of, paper]</td>\n",
       "      <td>[money_1_3, slip_1_7, of_1_8, paper_1_9]</td>\n",
       "      <td>A22PVWOPGX9AG6</td>\n",
       "      <td>{paper_1_9, money_1_3, of_1_8, slip_1_7}</td>\n",
       "    </tr>\n",
       "    <tr>\n",
       "      <th>194</th>\n",
       "      <td>3LEP4MGT3H0WNE60D9ATX5XS7HWBD5</td>\n",
       "      <td>3MIVREZQVIYOI6G5Y6O47NSWK97QKJ</td>\n",
       "      <td>s_02_e_19_shot_040234_040308</td>\n",
       "      <td>[[0, 4], [1, 3], [1, 7], [1, 8], [1, 9]]</td>\n",
       "      <td>[room, money, slip, of, paper]</td>\n",
       "      <td>[room_0_4, money_1_3, slip_1_7, of_1_8, paper_...</td>\n",
       "      <td>A3GNQDFPZALU92</td>\n",
       "      <td>{money_1_3, room_0_4, paper_1_9, slip_1_7, of_...</td>\n",
       "    </tr>\n",
       "    <tr>\n",
       "      <th>306</th>\n",
       "      <td>3ATTHHXXWBOK8SPNAJ3MDZ4XIPNXIX</td>\n",
       "      <td>30UZJB2POICTTMP0T882SQG3DRZ53B</td>\n",
       "      <td>s_05_e_03_shot_029034_029108</td>\n",
       "      <td>[[0, 3], [0, 6], [1, 6], [1, 9]]</td>\n",
       "      <td>[bowl, spaghetti, neck, spaghetti]</td>\n",
       "      <td>[bowl_0_3, spaghetti_0_6, neck_1_6, spaghetti_...</td>\n",
       "      <td>A28URN0B675OIE</td>\n",
       "      <td>{spaghetti_1_9, neck_1_6, bowl_0_3, spaghetti_...</td>\n",
       "    </tr>\n",
       "    <tr>\n",
       "      <th>307</th>\n",
       "      <td>3CFVK00FWML9FEDXUZR952J52PJ6LR</td>\n",
       "      <td>30UZJB2POICTTMP0T882SQG3DRZ53B</td>\n",
       "      <td>s_05_e_03_shot_029034_029108</td>\n",
       "      <td>[[0, 0], [0, 3], [0, 6], [1, 6], [1, 9]]</td>\n",
       "      <td>[None, bowl, spaghetti, neck, spaghetti]</td>\n",
       "      <td>[None_0_0, bowl_0_3, spaghetti_0_6, neck_1_6, ...</td>\n",
       "      <td>A10VQSMGPJFSMU</td>\n",
       "      <td>{spaghetti_1_9, bowl_0_3, neck_1_6, None_0_0, ...</td>\n",
       "    </tr>\n",
       "    <tr>\n",
       "      <th>308</th>\n",
       "      <td>3VP0C6EFSHWTLWVIUBSO5FYU2U9M69</td>\n",
       "      <td>30UZJB2POICTTMP0T882SQG3DRZ53B</td>\n",
       "      <td>s_05_e_03_shot_029034_029108</td>\n",
       "      <td>[[0, 3], [0, 6], [1, 9]]</td>\n",
       "      <td>[bowl, spaghetti, spaghetti]</td>\n",
       "      <td>[bowl_0_3, spaghetti_0_6, spaghetti_1_9]</td>\n",
       "      <td>A39AXTTH0QVFA3</td>\n",
       "      <td>{spaghetti_1_9, bowl_0_3, spaghetti_0_6}</td>\n",
       "    </tr>\n",
       "    <tr>\n",
       "      <th>336</th>\n",
       "      <td>3OS4RQUCRAFTLYKW4F5JL50DJTTBFV</td>\n",
       "      <td>3IHWR4LC7EDR67QLC9MS8GSJYZQ8I9</td>\n",
       "      <td>s_05_e_16_shot_004660_004734</td>\n",
       "      <td>[[0, 2], [0, 6], [1, 6]]</td>\n",
       "      <td>[shirt, stage, tank]</td>\n",
       "      <td>[shirt_0_2, stage_0_6, tank_1_6]</td>\n",
       "      <td>A3MEH76L241PMF</td>\n",
       "      <td>{tank_1_6, shirt_0_2, stage_0_6}</td>\n",
       "    </tr>\n",
       "    <tr>\n",
       "      <th>337</th>\n",
       "      <td>3UXUOQ9OKFXBNV0YGI7B223Q3NQA7W</td>\n",
       "      <td>3IHWR4LC7EDR67QLC9MS8GSJYZQ8I9</td>\n",
       "      <td>s_05_e_16_shot_004660_004734</td>\n",
       "      <td>[[0, 2], [0, 6], [1, 3], [1, 6]]</td>\n",
       "      <td>[shirt, stage, something, tank]</td>\n",
       "      <td>[shirt_0_2, stage_0_6, something_1_3, tank_1_6]</td>\n",
       "      <td>AV5LKHUT4EG23</td>\n",
       "      <td>{something_1_3, shirt_0_2, tank_1_6, stage_0_6}</td>\n",
       "    </tr>\n",
       "    <tr>\n",
       "      <th>338</th>\n",
       "      <td>3XIQGXAUMD8NJ88RRSZPMAEO48ZX7N</td>\n",
       "      <td>3IHWR4LC7EDR67QLC9MS8GSJYZQ8I9</td>\n",
       "      <td>s_05_e_16_shot_004660_004734</td>\n",
       "      <td>[[1, 6]]</td>\n",
       "      <td>[tank]</td>\n",
       "      <td>[tank_1_6]</td>\n",
       "      <td>A4XZS2EY43OLT</td>\n",
       "      <td>{tank_1_6}</td>\n",
       "    </tr>\n",
       "    <tr>\n",
       "      <th>...</th>\n",
       "      <td>...</td>\n",
       "      <td>...</td>\n",
       "      <td>...</td>\n",
       "      <td>...</td>\n",
       "      <td>...</td>\n",
       "      <td>...</td>\n",
       "      <td>...</td>\n",
       "      <td>...</td>\n",
       "    </tr>\n",
       "    <tr>\n",
       "      <th>55785</th>\n",
       "      <td>3JZQSN0I3RAPCFS7K1XXMGRAZ6KFGF</td>\n",
       "      <td>3L1EFR8WWU57AL75GTML5FA22EP9FJ</td>\n",
       "      <td>s_02_e_02_shot_005058_005132</td>\n",
       "      <td>[[0, 10], [0, 16], [0, 19], [0, 5], [0, 8], [1...</td>\n",
       "      <td>[mustache, seat, car, shirt, cap, hat, dress, ...</td>\n",
       "      <td>[mustache_0_10, seat_0_16, car_0_19, shirt_0_5...</td>\n",
       "      <td>A2PJBSDDN22XIX</td>\n",
       "      <td>{dress_1_9, car_2_11, hat_1_12, car_0_19, seat...</td>\n",
       "    </tr>\n",
       "    <tr>\n",
       "      <th>55786</th>\n",
       "      <td>3YOH7BII0A7JAYAGA7NG2UMPUHPVKM</td>\n",
       "      <td>3L1EFR8WWU57AL75GTML5FA22EP9FJ</td>\n",
       "      <td>s_02_e_02_shot_005058_005132</td>\n",
       "      <td>[[0, 16], [0, 19], [0, 5], [0, 8], [1, 12], [1...</td>\n",
       "      <td>[seat, car, shirt, cap, hat, dress, car]</td>\n",
       "      <td>[seat_0_16, car_0_19, shirt_0_5, cap_0_8, hat_...</td>\n",
       "      <td>A1GEZDTJPG3Q7U</td>\n",
       "      <td>{dress_1_9, car_2_11, hat_1_12, car_0_19, seat...</td>\n",
       "    </tr>\n",
       "    <tr>\n",
       "      <th>55787</th>\n",
       "      <td>308XBLVESJ4QOOP5VA5D2UEWMHFRBH</td>\n",
       "      <td>3L1EFR8WWU57AL75GTML5FA22EP9FJ</td>\n",
       "      <td>s_02_e_02_shot_005058_005132</td>\n",
       "      <td>[[0, 10], [0, 15], [0, 16], [0, 19], [0, 4], [...</td>\n",
       "      <td>[mustache, back, seat, car, blue, shirt, brown...</td>\n",
       "      <td>[mustache_0_10, back_0_15, seat_0_16, car_0_19...</td>\n",
       "      <td>A3I7G2JAKO15P7</td>\n",
       "      <td>{dress_1_9, car_2_11, brown_0_7, hat_1_12, bac...</td>\n",
       "    </tr>\n",
       "    <tr>\n",
       "      <th>55830</th>\n",
       "      <td>37ZHEEHM6XMB3A1D73S1FUPKXCK73H</td>\n",
       "      <td>3N2YPY1GI7YD1EKCOJ7BFFEZH5TEVM</td>\n",
       "      <td>s_04_e_07_shot_023890_023964</td>\n",
       "      <td>[[1, 1], [1, 14], [1, 5], [1, 6], [2, 10], [2,...</td>\n",
       "      <td>[fingers, eyes, bowling, ball, ball,, bottom, ...</td>\n",
       "      <td>[fingers_1_1, eyes_1_14, bowling_1_5, ball_1_6...</td>\n",
       "      <td>AGUF6B4Q9991D</td>\n",
       "      <td>{bowling_2_9, fingers_1_1, ball,_2_10, ball_1_...</td>\n",
       "    </tr>\n",
       "    <tr>\n",
       "      <th>55831</th>\n",
       "      <td>3YHH42UU5CFE13RISABSW19EPLHL0N</td>\n",
       "      <td>3N2YPY1GI7YD1EKCOJ7BFFEZH5TEVM</td>\n",
       "      <td>s_04_e_07_shot_023890_023964</td>\n",
       "      <td>[[1, 14], [1, 6], [2, 10]]</td>\n",
       "      <td>[eyes, ball, ball,]</td>\n",
       "      <td>[eyes_1_14, ball_1_6, ball,_2_10]</td>\n",
       "      <td>A27FBMV6E4YO3T</td>\n",
       "      <td>{ball,_2_10, eyes_1_14, ball_1_6}</td>\n",
       "    </tr>\n",
       "    <tr>\n",
       "      <th>55832</th>\n",
       "      <td>37WLF8U1WQQYV8VF9ZF8Q26QDO8K6U</td>\n",
       "      <td>3N2YPY1GI7YD1EKCOJ7BFFEZH5TEVM</td>\n",
       "      <td>s_04_e_07_shot_023890_023964</td>\n",
       "      <td>[[1, 1], [1, 14], [1, 5], [1, 6], [2, 10], [2,...</td>\n",
       "      <td>[fingers, eyes, bowling, ball, ball,, bowling]</td>\n",
       "      <td>[fingers_1_1, eyes_1_14, bowling_1_5, ball_1_6...</td>\n",
       "      <td>AED0N0TJKO38I</td>\n",
       "      <td>{bowling_2_9, fingers_1_1, ball,_2_10, ball_1_...</td>\n",
       "    </tr>\n",
       "    <tr>\n",
       "      <th>55920</th>\n",
       "      <td>3NL0RFNU0GNKGLR1QBMTT4MCHXDK4K</td>\n",
       "      <td>39AYGO6AFGKWGUIOGA2MTAS9E3X6N4</td>\n",
       "      <td>s_06_e_24_shot_034996_035070</td>\n",
       "      <td>[[0, 12], [0, 15], [0, 17]]</td>\n",
       "      <td>[shirt, tie, goggle]</td>\n",
       "      <td>[shirt_0_12, tie_0_15, goggle_0_17]</td>\n",
       "      <td>AL6DWYE72TPK2</td>\n",
       "      <td>{shirt_0_12, tie_0_15, goggle_0_17}</td>\n",
       "    </tr>\n",
       "    <tr>\n",
       "      <th>55921</th>\n",
       "      <td>3ZR9AIQJUC9I3VKXMICBAK733Z840Z</td>\n",
       "      <td>39AYGO6AFGKWGUIOGA2MTAS9E3X6N4</td>\n",
       "      <td>s_06_e_24_shot_034996_035070</td>\n",
       "      <td>[[0, 12], [0, 15], [0, 18]]</td>\n",
       "      <td>[shirt, tie, glasses]</td>\n",
       "      <td>[shirt_0_12, tie_0_15, glasses_0_18]</td>\n",
       "      <td>A21VNYANQRZG2P</td>\n",
       "      <td>{glasses_0_18, shirt_0_12, tie_0_15}</td>\n",
       "    </tr>\n",
       "    <tr>\n",
       "      <th>55922</th>\n",
       "      <td>3F1567XTNX57OUV8KB2H6Y912VK9QY</td>\n",
       "      <td>39AYGO6AFGKWGUIOGA2MTAS9E3X6N4</td>\n",
       "      <td>s_06_e_24_shot_034996_035070</td>\n",
       "      <td>[[0, 12], [0, 15], [0, 17], [0, 18]]</td>\n",
       "      <td>[shirt, tie, goggle, glasses]</td>\n",
       "      <td>[shirt_0_12, tie_0_15, goggle_0_17, glasses_0_18]</td>\n",
       "      <td>A3BCKNE5CWHODZ</td>\n",
       "      <td>{glasses_0_18, shirt_0_12, tie_0_15, goggle_0_17}</td>\n",
       "    </tr>\n",
       "    <tr>\n",
       "      <th>56022</th>\n",
       "      <td>3KJYX6QCMABOZE4YSMN41FMCFREVJA</td>\n",
       "      <td>3YLPJ8OXX9DND1SEZSWGUEZTKQ6X4Z</td>\n",
       "      <td>s_01_e_23_shot_015035_015109</td>\n",
       "      <td>[[0, 7], [1, 3], [1, 6], [2, 7], [3, 6]]</td>\n",
       "      <td>[doorway, hand, door, face, eyes]</td>\n",
       "      <td>[doorway_0_7, hand_1_3, door_1_6, face_2_7, ey...</td>\n",
       "      <td>A27K37YQZDPER6</td>\n",
       "      <td>{hand_1_3, door_1_6, face_2_7, eyes_3_6, doorw...</td>\n",
       "    </tr>\n",
       "    <tr>\n",
       "      <th>56023</th>\n",
       "      <td>3J2UYBXQQMCWIIOB565Q7IRHZPO06O</td>\n",
       "      <td>3YLPJ8OXX9DND1SEZSWGUEZTKQ6X4Z</td>\n",
       "      <td>s_01_e_23_shot_015035_015109</td>\n",
       "      <td>[[1, 3], [2, 7], [3, 6]]</td>\n",
       "      <td>[hand, face, eyes]</td>\n",
       "      <td>[hand_1_3, face_2_7, eyes_3_6]</td>\n",
       "      <td>A2J0W73DZ7I4RR</td>\n",
       "      <td>{hand_1_3, eyes_3_6, face_2_7}</td>\n",
       "    </tr>\n",
       "    <tr>\n",
       "      <th>56024</th>\n",
       "      <td>3TAYZSBPLM881QPMR6C7RBGOEC82SZ</td>\n",
       "      <td>3YLPJ8OXX9DND1SEZSWGUEZTKQ6X4Z</td>\n",
       "      <td>s_01_e_23_shot_015035_015109</td>\n",
       "      <td>[[1, 3], [1, 6], [2, 7], [3, 6]]</td>\n",
       "      <td>[hand, door, face, eyes]</td>\n",
       "      <td>[hand_1_3, door_1_6, face_2_7, eyes_3_6]</td>\n",
       "      <td>A3VTOW7WLPTBRR</td>\n",
       "      <td>{hand_1_3, door_1_6, eyes_3_6, face_2_7}</td>\n",
       "    </tr>\n",
       "    <tr>\n",
       "      <th>56034</th>\n",
       "      <td>3GNA64GUZF4ON7TWHLP0UI4ZGZ45Q6</td>\n",
       "      <td>3RBI0I35XF3RVAZK4ADZ3NEW8WZY3G</td>\n",
       "      <td>s_05_e_08_shot_033946_034020</td>\n",
       "      <td>[[0, 12], [0, 17], [0, 20], [0, 21]]</td>\n",
       "      <td>[hands, head, fire, pit]</td>\n",
       "      <td>[hands_0_12, head_0_17, fire_0_20, pit_0_21]</td>\n",
       "      <td>A3O1IPK9F5WQNU</td>\n",
       "      <td>{pit_0_21, fire_0_20, hands_0_12, head_0_17}</td>\n",
       "    </tr>\n",
       "    <tr>\n",
       "      <th>56035</th>\n",
       "      <td>3S06PH7KSS4VAGO8BCH4RTKJL4AD1R</td>\n",
       "      <td>3RBI0I35XF3RVAZK4ADZ3NEW8WZY3G</td>\n",
       "      <td>s_05_e_08_shot_033946_034020</td>\n",
       "      <td>[[0, 12], [0, 17], [0, 20], [0, 21], [0, 9]]</td>\n",
       "      <td>[hands, head, fire, pit, man]</td>\n",
       "      <td>[hands_0_12, head_0_17, fire_0_20, pit_0_21, m...</td>\n",
       "      <td>A1R6KJXNPC14AR</td>\n",
       "      <td>{fire_0_20, head_0_17, man_0_9, hands_0_12, pi...</td>\n",
       "    </tr>\n",
       "    <tr>\n",
       "      <th>56036</th>\n",
       "      <td>3Y5140Z9DYGFZJNWOST5JMIUGPQPIB</td>\n",
       "      <td>3RBI0I35XF3RVAZK4ADZ3NEW8WZY3G</td>\n",
       "      <td>s_05_e_08_shot_033946_034020</td>\n",
       "      <td>[[0, 12], [0, 20], [0, 21]]</td>\n",
       "      <td>[hands, fire, pit]</td>\n",
       "      <td>[hands_0_12, fire_0_20, pit_0_21]</td>\n",
       "      <td>A27FBMV6E4YO3T</td>\n",
       "      <td>{pit_0_21, fire_0_20, hands_0_12}</td>\n",
       "    </tr>\n",
       "    <tr>\n",
       "      <th>56052</th>\n",
       "      <td>3P1L2B7AD2PZ4KJ1UVD3M25WNNMOL3</td>\n",
       "      <td>3VEI3XUCZSXP5YSLODIC8UO0A56RPD</td>\n",
       "      <td>s_04_e_04_shot_027729_027803</td>\n",
       "      <td>[[1, 8], [1, 9]]</td>\n",
       "      <td>[moving, objects]</td>\n",
       "      <td>[moving_1_8, objects_1_9]</td>\n",
       "      <td>A19OSCBF9NCOZB</td>\n",
       "      <td>{moving_1_8, objects_1_9}</td>\n",
       "    </tr>\n",
       "    <tr>\n",
       "      <th>56053</th>\n",
       "      <td>36V4Q8R5ZL0MVEE29K6MBKFL2TVMQC</td>\n",
       "      <td>3VEI3XUCZSXP5YSLODIC8UO0A56RPD</td>\n",
       "      <td>s_04_e_04_shot_027729_027803</td>\n",
       "      <td>[[1, 9]]</td>\n",
       "      <td>[objects]</td>\n",
       "      <td>[objects_1_9]</td>\n",
       "      <td>A3D5AP4EMR8QTM</td>\n",
       "      <td>{objects_1_9}</td>\n",
       "    </tr>\n",
       "    <tr>\n",
       "      <th>56054</th>\n",
       "      <td>39ASUFLU6Y78SNN1E0DVSK65QURXEV</td>\n",
       "      <td>3VEI3XUCZSXP5YSLODIC8UO0A56RPD</td>\n",
       "      <td>s_04_e_04_shot_027729_027803</td>\n",
       "      <td>[[0, 0]]</td>\n",
       "      <td>[None]</td>\n",
       "      <td>[None_0_0]</td>\n",
       "      <td>A27H6WMJBXIOKI</td>\n",
       "      <td>{None_0_0}</td>\n",
       "    </tr>\n",
       "    <tr>\n",
       "      <th>56073</th>\n",
       "      <td>3I3WADAZ9R4L2VGG28XW5D9Z1ZG5OU</td>\n",
       "      <td>3FI30CQHVLJUFLTRDKXD2FSFXEOB6P</td>\n",
       "      <td>s_02_e_16_shot_019052_019126</td>\n",
       "      <td>[[0, 15], [0, 5]]</td>\n",
       "      <td>[closet, arms]</td>\n",
       "      <td>[closet_0_15, arms_0_5]</td>\n",
       "      <td>A28URN0B675OIE</td>\n",
       "      <td>{arms_0_5, closet_0_15}</td>\n",
       "    </tr>\n",
       "    <tr>\n",
       "      <th>56074</th>\n",
       "      <td>3IXEICO793JXYRL238T0RTTMW296TY</td>\n",
       "      <td>3FI30CQHVLJUFLTRDKXD2FSFXEOB6P</td>\n",
       "      <td>s_02_e_16_shot_019052_019126</td>\n",
       "      <td>[[0, 12], [0, 15], [0, 5], [0, 8]]</td>\n",
       "      <td>[door, closet, arms, side]</td>\n",
       "      <td>[door_0_12, closet_0_15, arms_0_5, side_0_8]</td>\n",
       "      <td>A5AVDQDHU3IJJ</td>\n",
       "      <td>{arms_0_5, closet_0_15, door_0_12, side_0_8}</td>\n",
       "    </tr>\n",
       "    <tr>\n",
       "      <th>56075</th>\n",
       "      <td>388U7OUMF81P41MVXU8OIDIDVESR07</td>\n",
       "      <td>3FI30CQHVLJUFLTRDKXD2FSFXEOB6P</td>\n",
       "      <td>s_02_e_16_shot_019052_019126</td>\n",
       "      <td>[[0, 12], [0, 15], [0, 5]]</td>\n",
       "      <td>[door, closet, arms]</td>\n",
       "      <td>[door_0_12, closet_0_15, arms_0_5]</td>\n",
       "      <td>A3GNQDFPZALU92</td>\n",
       "      <td>{arms_0_5, closet_0_15, door_0_12}</td>\n",
       "    </tr>\n",
       "    <tr>\n",
       "      <th>56079</th>\n",
       "      <td>3DPNQGW4LMFDH66CO7SSJLHUG2V461</td>\n",
       "      <td>36JW4WBR07K0PRPOE5ADIW8QLQRFH7</td>\n",
       "      <td>s_02_e_32_shot_027126_027200</td>\n",
       "      <td>[[0, 9]]</td>\n",
       "      <td>[field]</td>\n",
       "      <td>[field_0_9]</td>\n",
       "      <td>A4XZS2EY43OLT</td>\n",
       "      <td>{field_0_9}</td>\n",
       "    </tr>\n",
       "    <tr>\n",
       "      <th>56080</th>\n",
       "      <td>30LB5CDZNDAY6S8M7B214GKC4UGZ0B</td>\n",
       "      <td>36JW4WBR07K0PRPOE5ADIW8QLQRFH7</td>\n",
       "      <td>s_02_e_32_shot_027126_027200</td>\n",
       "      <td>[[0, 8]]</td>\n",
       "      <td>[baseball]</td>\n",
       "      <td>[baseball_0_8]</td>\n",
       "      <td>A3H8288VHL1607</td>\n",
       "      <td>{baseball_0_8}</td>\n",
       "    </tr>\n",
       "    <tr>\n",
       "      <th>56081</th>\n",
       "      <td>3634BBTX0PU386Y2APX07S4QEJ5IF3</td>\n",
       "      <td>36JW4WBR07K0PRPOE5ADIW8QLQRFH7</td>\n",
       "      <td>s_02_e_32_shot_027126_027200</td>\n",
       "      <td>[[0, 5]]</td>\n",
       "      <td>[umpire]</td>\n",
       "      <td>[umpire_0_5]</td>\n",
       "      <td>A10VQSMGPJFSMU</td>\n",
       "      <td>{umpire_0_5}</td>\n",
       "    </tr>\n",
       "    <tr>\n",
       "      <th>56094</th>\n",
       "      <td>3MB8LZR5BGTGETYMW3LAFLON3JNLKT</td>\n",
       "      <td>3R0WOCG21N98WTHCNYMMDBUV3L9UD8</td>\n",
       "      <td>s_03_e_19_shot_021549_021623</td>\n",
       "      <td>[[0, 0]]</td>\n",
       "      <td>[None]</td>\n",
       "      <td>[None_0_0]</td>\n",
       "      <td>A1VPRMVXM39Z2S</td>\n",
       "      <td>{None_0_0}</td>\n",
       "    </tr>\n",
       "    <tr>\n",
       "      <th>56095</th>\n",
       "      <td>39PAAFCODN0IDH034G183L9LDUGTVQ</td>\n",
       "      <td>3R0WOCG21N98WTHCNYMMDBUV3L9UD8</td>\n",
       "      <td>s_03_e_19_shot_021549_021623</td>\n",
       "      <td>[[0, 4], [1, 1]]</td>\n",
       "      <td>[baby, baby]</td>\n",
       "      <td>[baby_0_4, baby_1_1]</td>\n",
       "      <td>A28PHKFEFSK7RH</td>\n",
       "      <td>{baby_0_4, baby_1_1}</td>\n",
       "    </tr>\n",
       "    <tr>\n",
       "      <th>56096</th>\n",
       "      <td>33M4IA01QH1X1RS606XVRR5O5KRRXE</td>\n",
       "      <td>3R0WOCG21N98WTHCNYMMDBUV3L9UD8</td>\n",
       "      <td>s_03_e_19_shot_021549_021623</td>\n",
       "      <td>[[0, 2], [0, 4]]</td>\n",
       "      <td>[man, baby]</td>\n",
       "      <td>[man_0_2, baby_0_4]</td>\n",
       "      <td>A10QQHTQZS9EG</td>\n",
       "      <td>{man_0_2, baby_0_4}</td>\n",
       "    </tr>\n",
       "    <tr>\n",
       "      <th>56106</th>\n",
       "      <td>384PI804XT115GM8CJ8T8NN9HF0S0J</td>\n",
       "      <td>3ABAOCJ4R94J8UG8JI1KM0K09EXQMJ</td>\n",
       "      <td>s_02_e_08_shot_013570_013644</td>\n",
       "      <td>[[0, 10], [0, 3]]</td>\n",
       "      <td>[seat, car]</td>\n",
       "      <td>[seat_0_10, car_0_3]</td>\n",
       "      <td>A3PTUHBS7DW5F7</td>\n",
       "      <td>{seat_0_10, car_0_3}</td>\n",
       "    </tr>\n",
       "    <tr>\n",
       "      <th>56107</th>\n",
       "      <td>3WZ36BJEV4G3432XZZA829FEA2DBTF</td>\n",
       "      <td>3ABAOCJ4R94J8UG8JI1KM0K09EXQMJ</td>\n",
       "      <td>s_02_e_08_shot_013570_013644</td>\n",
       "      <td>[[0, 10], [0, 3], [0, 9]]</td>\n",
       "      <td>[seat, car, passenger]</td>\n",
       "      <td>[seat_0_10, car_0_3, passenger_0_9]</td>\n",
       "      <td>A3BCKNE5CWHODZ</td>\n",
       "      <td>{seat_0_10, passenger_0_9, car_0_3}</td>\n",
       "    </tr>\n",
       "    <tr>\n",
       "      <th>56108</th>\n",
       "      <td>388U7OUMF81P41MVXU8OIDIDVDKR0X</td>\n",
       "      <td>3ABAOCJ4R94J8UG8JI1KM0K09EXQMJ</td>\n",
       "      <td>s_02_e_08_shot_013570_013644</td>\n",
       "      <td>[[0, 3]]</td>\n",
       "      <td>[car]</td>\n",
       "      <td>[car_0_3]</td>\n",
       "      <td>A24XHYQR4P3JBW</td>\n",
       "      <td>{car_0_3}</td>\n",
       "    </tr>\n",
       "  </tbody>\n",
       "</table>\n",
       "<p>4431 rows × 8 columns</p>\n",
       "</div>"
      ],
      "text/plain": [
       "                             asgmt_id                          hit_id  \\\n",
       "39     3QRYMNZ7FZH55CRU2PFHT4F8RQYNTL  304QEQWKZQKJK4WLF0MIZYINRA9O0T   \n",
       "40     3YJ6NA41JCGBUU726AE5VNXUT38JP8  304QEQWKZQKJK4WLF0MIZYINRA9O0T   \n",
       "41     3AQF3RZ559INFM318OOBAPEL5R26FN  304QEQWKZQKJK4WLF0MIZYINRA9O0T   \n",
       "84     3VHP9MDGROKCV3C2IF1EWP6V1EMFCZ  3THR0FZ95QTWH0L74T81XIABU8SOLA   \n",
       "85     3OS4RQUCRAFTLYKW4F5JL50DJTMFBS  3THR0FZ95QTWH0L74T81XIABU8SOLA   \n",
       "86     3G2UL9A02EEA0TOVQ5QZMX1474S67U  3THR0FZ95QTWH0L74T81XIABU8SOLA   \n",
       "93     3LWJHTCVCDMGP4MLNX29GUVC5T8FQP  3GL25Y6844U3HRHK5WWCG8GT6ISMXM   \n",
       "94     33SA9F9TRYUT3NIB4VH9Q1SYHTBWET  3GL25Y6844U3HRHK5WWCG8GT6ISMXM   \n",
       "95     3LRKMWOKB6H522B0MY6FN4DR1SR2ZP  3GL25Y6844U3HRHK5WWCG8GT6ISMXM   \n",
       "111    3YMTUJH0DTGJJ4HOKK0LUV9809HT4A  3VJ4PFXFJ47AYME03OVKNAMPIILUAF   \n",
       "112    3PMBY0YE2833UTLPFT1MMTKKYG2C9F  3VJ4PFXFJ47AYME03OVKNAMPIILUAF   \n",
       "113    32RIADZIST4I4449VKVVKQDMYRDS4W  3VJ4PFXFJ47AYME03OVKNAMPIILUAF   \n",
       "132    3NLZY2D53QP2PWWH9857B70W2O5QLE  3AQN9REUTGGPD21HXZJBGW08ZAUDY1   \n",
       "133    3DZQRBDBSMFXM8L5V6QCALLGKRE3SJ  3AQN9REUTGGPD21HXZJBGW08ZAUDY1   \n",
       "134    3018Q3ZVOJQL5EKDPW5H7JUQ4ZSAR3  3AQN9REUTGGPD21HXZJBGW08ZAUDY1   \n",
       "135    3C44YUNSI2PYR87AWESUSP2HOJLPDA  373L46LKP867WJCS3G4VAMGA6FIJKQ   \n",
       "136    3R2PKQ87NX89EGQJWC1D2IOZBKYIMR  373L46LKP867WJCS3G4VAMGA6FIJKQ   \n",
       "137    38BQUHLA9X0JA21MU7EIMFKLNT6OM1  373L46LKP867WJCS3G4VAMGA6FIJKQ   \n",
       "144    3N4BPTXIO9SJXJLG5HDB68K6GAWKU2  3ABAOCJ4R94J8UG8JI1KM0K09EYMQG   \n",
       "145    3RANCT1ZVGHI4GHMZ40I751GTGOUBT  3ABAOCJ4R94J8UG8JI1KM0K09EYMQG   \n",
       "146    31JLPPHS2VUIOGTCOP93QGBFN2NO3J  3ABAOCJ4R94J8UG8JI1KM0K09EYMQG   \n",
       "192    36NEMU28XGDRFBAOLT5S39X7QW1MW9  3MIVREZQVIYOI6G5Y6O47NSWK97QKJ   \n",
       "193    3VBEN272MLZYGKXTQLXWTFAPOXWGSJ  3MIVREZQVIYOI6G5Y6O47NSWK97QKJ   \n",
       "194    3LEP4MGT3H0WNE60D9ATX5XS7HWBD5  3MIVREZQVIYOI6G5Y6O47NSWK97QKJ   \n",
       "306    3ATTHHXXWBOK8SPNAJ3MDZ4XIPNXIX  30UZJB2POICTTMP0T882SQG3DRZ53B   \n",
       "307    3CFVK00FWML9FEDXUZR952J52PJ6LR  30UZJB2POICTTMP0T882SQG3DRZ53B   \n",
       "308    3VP0C6EFSHWTLWVIUBSO5FYU2U9M69  30UZJB2POICTTMP0T882SQG3DRZ53B   \n",
       "336    3OS4RQUCRAFTLYKW4F5JL50DJTTBFV  3IHWR4LC7EDR67QLC9MS8GSJYZQ8I9   \n",
       "337    3UXUOQ9OKFXBNV0YGI7B223Q3NQA7W  3IHWR4LC7EDR67QLC9MS8GSJYZQ8I9   \n",
       "338    3XIQGXAUMD8NJ88RRSZPMAEO48ZX7N  3IHWR4LC7EDR67QLC9MS8GSJYZQ8I9   \n",
       "...                               ...                             ...   \n",
       "55785  3JZQSN0I3RAPCFS7K1XXMGRAZ6KFGF  3L1EFR8WWU57AL75GTML5FA22EP9FJ   \n",
       "55786  3YOH7BII0A7JAYAGA7NG2UMPUHPVKM  3L1EFR8WWU57AL75GTML5FA22EP9FJ   \n",
       "55787  308XBLVESJ4QOOP5VA5D2UEWMHFRBH  3L1EFR8WWU57AL75GTML5FA22EP9FJ   \n",
       "55830  37ZHEEHM6XMB3A1D73S1FUPKXCK73H  3N2YPY1GI7YD1EKCOJ7BFFEZH5TEVM   \n",
       "55831  3YHH42UU5CFE13RISABSW19EPLHL0N  3N2YPY1GI7YD1EKCOJ7BFFEZH5TEVM   \n",
       "55832  37WLF8U1WQQYV8VF9ZF8Q26QDO8K6U  3N2YPY1GI7YD1EKCOJ7BFFEZH5TEVM   \n",
       "55920  3NL0RFNU0GNKGLR1QBMTT4MCHXDK4K  39AYGO6AFGKWGUIOGA2MTAS9E3X6N4   \n",
       "55921  3ZR9AIQJUC9I3VKXMICBAK733Z840Z  39AYGO6AFGKWGUIOGA2MTAS9E3X6N4   \n",
       "55922  3F1567XTNX57OUV8KB2H6Y912VK9QY  39AYGO6AFGKWGUIOGA2MTAS9E3X6N4   \n",
       "56022  3KJYX6QCMABOZE4YSMN41FMCFREVJA  3YLPJ8OXX9DND1SEZSWGUEZTKQ6X4Z   \n",
       "56023  3J2UYBXQQMCWIIOB565Q7IRHZPO06O  3YLPJ8OXX9DND1SEZSWGUEZTKQ6X4Z   \n",
       "56024  3TAYZSBPLM881QPMR6C7RBGOEC82SZ  3YLPJ8OXX9DND1SEZSWGUEZTKQ6X4Z   \n",
       "56034  3GNA64GUZF4ON7TWHLP0UI4ZGZ45Q6  3RBI0I35XF3RVAZK4ADZ3NEW8WZY3G   \n",
       "56035  3S06PH7KSS4VAGO8BCH4RTKJL4AD1R  3RBI0I35XF3RVAZK4ADZ3NEW8WZY3G   \n",
       "56036  3Y5140Z9DYGFZJNWOST5JMIUGPQPIB  3RBI0I35XF3RVAZK4ADZ3NEW8WZY3G   \n",
       "56052  3P1L2B7AD2PZ4KJ1UVD3M25WNNMOL3  3VEI3XUCZSXP5YSLODIC8UO0A56RPD   \n",
       "56053  36V4Q8R5ZL0MVEE29K6MBKFL2TVMQC  3VEI3XUCZSXP5YSLODIC8UO0A56RPD   \n",
       "56054  39ASUFLU6Y78SNN1E0DVSK65QURXEV  3VEI3XUCZSXP5YSLODIC8UO0A56RPD   \n",
       "56073  3I3WADAZ9R4L2VGG28XW5D9Z1ZG5OU  3FI30CQHVLJUFLTRDKXD2FSFXEOB6P   \n",
       "56074  3IXEICO793JXYRL238T0RTTMW296TY  3FI30CQHVLJUFLTRDKXD2FSFXEOB6P   \n",
       "56075  388U7OUMF81P41MVXU8OIDIDVESR07  3FI30CQHVLJUFLTRDKXD2FSFXEOB6P   \n",
       "56079  3DPNQGW4LMFDH66CO7SSJLHUG2V461  36JW4WBR07K0PRPOE5ADIW8QLQRFH7   \n",
       "56080  30LB5CDZNDAY6S8M7B214GKC4UGZ0B  36JW4WBR07K0PRPOE5ADIW8QLQRFH7   \n",
       "56081  3634BBTX0PU386Y2APX07S4QEJ5IF3  36JW4WBR07K0PRPOE5ADIW8QLQRFH7   \n",
       "56094  3MB8LZR5BGTGETYMW3LAFLON3JNLKT  3R0WOCG21N98WTHCNYMMDBUV3L9UD8   \n",
       "56095  39PAAFCODN0IDH034G183L9LDUGTVQ  3R0WOCG21N98WTHCNYMMDBUV3L9UD8   \n",
       "56096  33M4IA01QH1X1RS606XVRR5O5KRRXE  3R0WOCG21N98WTHCNYMMDBUV3L9UD8   \n",
       "56106  384PI804XT115GM8CJ8T8NN9HF0S0J  3ABAOCJ4R94J8UG8JI1KM0K09EXQMJ   \n",
       "56107  3WZ36BJEV4G3432XZZA829FEA2DBTF  3ABAOCJ4R94J8UG8JI1KM0K09EXQMJ   \n",
       "56108  388U7OUMF81P41MVXU8OIDIDVDKR0X  3ABAOCJ4R94J8UG8JI1KM0K09EXQMJ   \n",
       "\n",
       "                           image_id  \\\n",
       "39     s_03_e_27_shot_007161_007235   \n",
       "40     s_03_e_27_shot_007161_007235   \n",
       "41     s_03_e_27_shot_007161_007235   \n",
       "84     s_02_e_28_shot_023923_023997   \n",
       "85     s_02_e_28_shot_023923_023997   \n",
       "86     s_02_e_28_shot_023923_023997   \n",
       "93     s_05_e_15_shot_003142_003216   \n",
       "94     s_05_e_15_shot_003142_003216   \n",
       "95     s_05_e_15_shot_003142_003216   \n",
       "111    s_05_e_09_shot_015198_015272   \n",
       "112    s_05_e_09_shot_015198_015272   \n",
       "113    s_05_e_09_shot_015198_015272   \n",
       "132    s_04_e_26_shot_007036_007110   \n",
       "133    s_04_e_26_shot_007036_007110   \n",
       "134    s_04_e_26_shot_007036_007110   \n",
       "135    s_01_e_24_shot_024297_024371   \n",
       "136    s_01_e_24_shot_024297_024371   \n",
       "137    s_01_e_24_shot_024297_024371   \n",
       "144    s_05_e_08_shot_024828_024902   \n",
       "145    s_05_e_08_shot_024828_024902   \n",
       "146    s_05_e_08_shot_024828_024902   \n",
       "192    s_02_e_19_shot_040234_040308   \n",
       "193    s_02_e_19_shot_040234_040308   \n",
       "194    s_02_e_19_shot_040234_040308   \n",
       "306    s_05_e_03_shot_029034_029108   \n",
       "307    s_05_e_03_shot_029034_029108   \n",
       "308    s_05_e_03_shot_029034_029108   \n",
       "336    s_05_e_16_shot_004660_004734   \n",
       "337    s_05_e_16_shot_004660_004734   \n",
       "338    s_05_e_16_shot_004660_004734   \n",
       "...                             ...   \n",
       "55785  s_02_e_02_shot_005058_005132   \n",
       "55786  s_02_e_02_shot_005058_005132   \n",
       "55787  s_02_e_02_shot_005058_005132   \n",
       "55830  s_04_e_07_shot_023890_023964   \n",
       "55831  s_04_e_07_shot_023890_023964   \n",
       "55832  s_04_e_07_shot_023890_023964   \n",
       "55920  s_06_e_24_shot_034996_035070   \n",
       "55921  s_06_e_24_shot_034996_035070   \n",
       "55922  s_06_e_24_shot_034996_035070   \n",
       "56022  s_01_e_23_shot_015035_015109   \n",
       "56023  s_01_e_23_shot_015035_015109   \n",
       "56024  s_01_e_23_shot_015035_015109   \n",
       "56034  s_05_e_08_shot_033946_034020   \n",
       "56035  s_05_e_08_shot_033946_034020   \n",
       "56036  s_05_e_08_shot_033946_034020   \n",
       "56052  s_04_e_04_shot_027729_027803   \n",
       "56053  s_04_e_04_shot_027729_027803   \n",
       "56054  s_04_e_04_shot_027729_027803   \n",
       "56073  s_02_e_16_shot_019052_019126   \n",
       "56074  s_02_e_16_shot_019052_019126   \n",
       "56075  s_02_e_16_shot_019052_019126   \n",
       "56079  s_02_e_32_shot_027126_027200   \n",
       "56080  s_02_e_32_shot_027126_027200   \n",
       "56081  s_02_e_32_shot_027126_027200   \n",
       "56094  s_03_e_19_shot_021549_021623   \n",
       "56095  s_03_e_19_shot_021549_021623   \n",
       "56096  s_03_e_19_shot_021549_021623   \n",
       "56106  s_02_e_08_shot_013570_013644   \n",
       "56107  s_02_e_08_shot_013570_013644   \n",
       "56108  s_02_e_08_shot_013570_013644   \n",
       "\n",
       "                                             object_locs  \\\n",
       "39                                      [[0, 3], [0, 5]]   \n",
       "40                      [[0, 3], [0, 5], [1, 5], [1, 6]]   \n",
       "41                              [[0, 3], [0, 5], [1, 6]]   \n",
       "84                             [[0, 14], [0, 6], [0, 7]]   \n",
       "85                             [[0, 14], [0, 3], [0, 7]]   \n",
       "86                     [[0, 14], [0, 3], [0, 6], [0, 7]]   \n",
       "93                             [[0, 7], [1, 11], [1, 6]]   \n",
       "94                             [[0, 7], [1, 11], [1, 5]]   \n",
       "95                                      [[0, 7], [1, 6]]   \n",
       "111                                     [[0, 5], [1, 6]]   \n",
       "112                                             [[1, 6]]   \n",
       "113                             [[0, 5], [1, 2], [1, 6]]   \n",
       "132          [[0, 9], [1, 12], [1, 15], [1, 21], [1, 3]]   \n",
       "133                                    [[0, 9], [1, 15]]   \n",
       "134                  [[1, 12], [1, 15], [1, 21], [1, 3]]   \n",
       "135    [[1, 5], [2, 9], [3, 6], [4, 11], [4, 4], [4, ...   \n",
       "136    [[1, 5], [2, 9], [3, 12], [3, 6], [4, 11], [4,...   \n",
       "137    [[2, 9], [3, 12], [3, 6], [4, 11], [4, 4], [5,...   \n",
       "144                   [[0, 11], [1, 10], [1, 2], [1, 7]]   \n",
       "145    [[0, 10], [0, 11], [0, 7], [1, 10], [1, 13], [...   \n",
       "146          [[0, 10], [0, 11], [1, 10], [1, 2], [1, 7]]   \n",
       "192                                     [[1, 3], [1, 9]]   \n",
       "193                     [[1, 3], [1, 7], [1, 8], [1, 9]]   \n",
       "194             [[0, 4], [1, 3], [1, 7], [1, 8], [1, 9]]   \n",
       "306                     [[0, 3], [0, 6], [1, 6], [1, 9]]   \n",
       "307             [[0, 0], [0, 3], [0, 6], [1, 6], [1, 9]]   \n",
       "308                             [[0, 3], [0, 6], [1, 9]]   \n",
       "336                             [[0, 2], [0, 6], [1, 6]]   \n",
       "337                     [[0, 2], [0, 6], [1, 3], [1, 6]]   \n",
       "338                                             [[1, 6]]   \n",
       "...                                                  ...   \n",
       "55785  [[0, 10], [0, 16], [0, 19], [0, 5], [0, 8], [1...   \n",
       "55786  [[0, 16], [0, 19], [0, 5], [0, 8], [1, 12], [1...   \n",
       "55787  [[0, 10], [0, 15], [0, 16], [0, 19], [0, 4], [...   \n",
       "55830  [[1, 1], [1, 14], [1, 5], [1, 6], [2, 10], [2,...   \n",
       "55831                         [[1, 14], [1, 6], [2, 10]]   \n",
       "55832  [[1, 1], [1, 14], [1, 5], [1, 6], [2, 10], [2,...   \n",
       "55920                        [[0, 12], [0, 15], [0, 17]]   \n",
       "55921                        [[0, 12], [0, 15], [0, 18]]   \n",
       "55922               [[0, 12], [0, 15], [0, 17], [0, 18]]   \n",
       "56022           [[0, 7], [1, 3], [1, 6], [2, 7], [3, 6]]   \n",
       "56023                           [[1, 3], [2, 7], [3, 6]]   \n",
       "56024                   [[1, 3], [1, 6], [2, 7], [3, 6]]   \n",
       "56034               [[0, 12], [0, 17], [0, 20], [0, 21]]   \n",
       "56035       [[0, 12], [0, 17], [0, 20], [0, 21], [0, 9]]   \n",
       "56036                        [[0, 12], [0, 20], [0, 21]]   \n",
       "56052                                   [[1, 8], [1, 9]]   \n",
       "56053                                           [[1, 9]]   \n",
       "56054                                           [[0, 0]]   \n",
       "56073                                  [[0, 15], [0, 5]]   \n",
       "56074                 [[0, 12], [0, 15], [0, 5], [0, 8]]   \n",
       "56075                         [[0, 12], [0, 15], [0, 5]]   \n",
       "56079                                           [[0, 9]]   \n",
       "56080                                           [[0, 8]]   \n",
       "56081                                           [[0, 5]]   \n",
       "56094                                           [[0, 0]]   \n",
       "56095                                   [[0, 4], [1, 1]]   \n",
       "56096                                   [[0, 2], [0, 4]]   \n",
       "56106                                  [[0, 10], [0, 3]]   \n",
       "56107                          [[0, 10], [0, 3], [0, 9]]   \n",
       "56108                                           [[0, 3]]   \n",
       "\n",
       "                                            object_words  \\\n",
       "39                                       [hair, glasses]   \n",
       "40                          [hair, glasses, bank, vault]   \n",
       "41                                [hair, glasses, vault]   \n",
       "84                                 [coin, slot, machine]   \n",
       "85                               [coin, handle, machine]   \n",
       "86                         [coin, handle, slot, machine]   \n",
       "93                                    [head, desk, head]   \n",
       "94                                    [head, desk, bold]   \n",
       "95                                          [head, head]   \n",
       "111                                       [doorway, mug]   \n",
       "112                                                [mug]   \n",
       "113                             [doorway, creature, mug]   \n",
       "132                       [road, head, road, hand, head]   \n",
       "133                                         [road, road]   \n",
       "134                             [head, road, hand, head]   \n",
       "135    [back, feet, feet, mouth, feet,, water, feet, ...   \n",
       "136    [back, feet, ground, feet, mouth, feet,, water...   \n",
       "137    [feet, ground, feet, mouth, feet,, feet, water...   \n",
       "144                           [chair, spoon, food, bowl]   \n",
       "145    [high, chair, pebbles, spoon, pebbles, food, b...   \n",
       "146                     [high, chair, spoon, food, bowl]   \n",
       "192                                       [money, paper]   \n",
       "193                             [money, slip, of, paper]   \n",
       "194                       [room, money, slip, of, paper]   \n",
       "306                   [bowl, spaghetti, neck, spaghetti]   \n",
       "307             [None, bowl, spaghetti, neck, spaghetti]   \n",
       "308                         [bowl, spaghetti, spaghetti]   \n",
       "336                                 [shirt, stage, tank]   \n",
       "337                      [shirt, stage, something, tank]   \n",
       "338                                               [tank]   \n",
       "...                                                  ...   \n",
       "55785  [mustache, seat, car, shirt, cap, hat, dress, ...   \n",
       "55786           [seat, car, shirt, cap, hat, dress, car]   \n",
       "55787  [mustache, back, seat, car, blue, shirt, brown...   \n",
       "55830  [fingers, eyes, bowling, ball, ball,, bottom, ...   \n",
       "55831                                [eyes, ball, ball,]   \n",
       "55832     [fingers, eyes, bowling, ball, ball,, bowling]   \n",
       "55920                               [shirt, tie, goggle]   \n",
       "55921                              [shirt, tie, glasses]   \n",
       "55922                      [shirt, tie, goggle, glasses]   \n",
       "56022                  [doorway, hand, door, face, eyes]   \n",
       "56023                                 [hand, face, eyes]   \n",
       "56024                           [hand, door, face, eyes]   \n",
       "56034                           [hands, head, fire, pit]   \n",
       "56035                      [hands, head, fire, pit, man]   \n",
       "56036                                 [hands, fire, pit]   \n",
       "56052                                  [moving, objects]   \n",
       "56053                                          [objects]   \n",
       "56054                                             [None]   \n",
       "56073                                     [closet, arms]   \n",
       "56074                         [door, closet, arms, side]   \n",
       "56075                               [door, closet, arms]   \n",
       "56079                                            [field]   \n",
       "56080                                         [baseball]   \n",
       "56081                                           [umpire]   \n",
       "56094                                             [None]   \n",
       "56095                                       [baby, baby]   \n",
       "56096                                        [man, baby]   \n",
       "56106                                        [seat, car]   \n",
       "56107                             [seat, car, passenger]   \n",
       "56108                                              [car]   \n",
       "\n",
       "                                        object_words_raw       worker_id  \\\n",
       "39                               [hair_0_3, glasses_0_5]  A33VGSEJ44ORMF   \n",
       "40          [hair_0_3, glasses_0_5, bank_1_5, vault_1_6]    A6FV8PQVMV7V   \n",
       "41                    [hair_0_3, glasses_0_5, vault_1_6]  A1BLMGNR6HAEDZ   \n",
       "84                    [coin_0_14, slot_0_6, machine_0_7]  A3I7G2JAKO15P7   \n",
       "85                  [coin_0_14, handle_0_3, machine_0_7]   AOQ7MU1GAI5X1   \n",
       "86        [coin_0_14, handle_0_3, slot_0_6, machine_0_7]  A3H8288VHL1607   \n",
       "93                       [head_0_7, desk_1_11, head_1_6]  A1ZNN2X2B4ATTK   \n",
       "94                       [head_0_7, desk_1_11, bold_1_5]  A27FBMV6E4YO3T   \n",
       "95                                  [head_0_7, head_1_6]  A22VGT2F28LTWC   \n",
       "111                               [doorway_0_5, mug_1_6]  A2BOXK0KVXGKPU   \n",
       "112                                            [mug_1_6]  A1LWMYF4M8DWTV   \n",
       "113                 [doorway_0_5, creature_1_2, mug_1_6]  A27FBMV6E4YO3T   \n",
       "132    [road_0_9, head_1_12, road_1_15, hand_1_21, he...  A2BOXK0KVXGKPU   \n",
       "133                                [road_0_9, road_1_15]  A2HW364F4TCKL3   \n",
       "134          [head_1_12, road_1_15, hand_1_21, head_1_3]    AYCKPJ672UF2   \n",
       "135    [back_1_5, feet_2_9, feet_3_6, mouth_4_11, fee...  A1ZNN2X2B4ATTK   \n",
       "136    [back_1_5, feet_2_9, ground_3_12, feet_3_6, mo...  A2PJBSDDN22XIX   \n",
       "137    [feet_2_9, ground_3_12, feet_3_6, mouth_4_11, ...  A3NKTB1JU5AKIW   \n",
       "144         [chair_0_11, spoon_1_10, food_1_2, bowl_1_7]  A21VNYANQRZG2P   \n",
       "145    [high_0_10, chair_0_11, pebbles_0_7, spoon_1_1...   AFZMZWEJLYOV7   \n",
       "146    [high_0_10, chair_0_11, spoon_1_10, food_1_2, ...  A3BCKNE5CWHODZ   \n",
       "192                               [money_1_3, paper_1_9]  A24XHYQR4P3JBW   \n",
       "193             [money_1_3, slip_1_7, of_1_8, paper_1_9]  A22PVWOPGX9AG6   \n",
       "194    [room_0_4, money_1_3, slip_1_7, of_1_8, paper_...  A3GNQDFPZALU92   \n",
       "306    [bowl_0_3, spaghetti_0_6, neck_1_6, spaghetti_...  A28URN0B675OIE   \n",
       "307    [None_0_0, bowl_0_3, spaghetti_0_6, neck_1_6, ...  A10VQSMGPJFSMU   \n",
       "308             [bowl_0_3, spaghetti_0_6, spaghetti_1_9]  A39AXTTH0QVFA3   \n",
       "336                     [shirt_0_2, stage_0_6, tank_1_6]  A3MEH76L241PMF   \n",
       "337      [shirt_0_2, stage_0_6, something_1_3, tank_1_6]   AV5LKHUT4EG23   \n",
       "338                                           [tank_1_6]   A4XZS2EY43OLT   \n",
       "...                                                  ...             ...   \n",
       "55785  [mustache_0_10, seat_0_16, car_0_19, shirt_0_5...  A2PJBSDDN22XIX   \n",
       "55786  [seat_0_16, car_0_19, shirt_0_5, cap_0_8, hat_...  A1GEZDTJPG3Q7U   \n",
       "55787  [mustache_0_10, back_0_15, seat_0_16, car_0_19...  A3I7G2JAKO15P7   \n",
       "55830  [fingers_1_1, eyes_1_14, bowling_1_5, ball_1_6...   AGUF6B4Q9991D   \n",
       "55831                  [eyes_1_14, ball_1_6, ball,_2_10]  A27FBMV6E4YO3T   \n",
       "55832  [fingers_1_1, eyes_1_14, bowling_1_5, ball_1_6...   AED0N0TJKO38I   \n",
       "55920                [shirt_0_12, tie_0_15, goggle_0_17]   AL6DWYE72TPK2   \n",
       "55921               [shirt_0_12, tie_0_15, glasses_0_18]  A21VNYANQRZG2P   \n",
       "55922  [shirt_0_12, tie_0_15, goggle_0_17, glasses_0_18]  A3BCKNE5CWHODZ   \n",
       "56022  [doorway_0_7, hand_1_3, door_1_6, face_2_7, ey...  A27K37YQZDPER6   \n",
       "56023                     [hand_1_3, face_2_7, eyes_3_6]  A2J0W73DZ7I4RR   \n",
       "56024           [hand_1_3, door_1_6, face_2_7, eyes_3_6]  A3VTOW7WLPTBRR   \n",
       "56034       [hands_0_12, head_0_17, fire_0_20, pit_0_21]  A3O1IPK9F5WQNU   \n",
       "56035  [hands_0_12, head_0_17, fire_0_20, pit_0_21, m...  A1R6KJXNPC14AR   \n",
       "56036                  [hands_0_12, fire_0_20, pit_0_21]  A27FBMV6E4YO3T   \n",
       "56052                          [moving_1_8, objects_1_9]  A19OSCBF9NCOZB   \n",
       "56053                                      [objects_1_9]  A3D5AP4EMR8QTM   \n",
       "56054                                         [None_0_0]  A27H6WMJBXIOKI   \n",
       "56073                            [closet_0_15, arms_0_5]  A28URN0B675OIE   \n",
       "56074       [door_0_12, closet_0_15, arms_0_5, side_0_8]   A5AVDQDHU3IJJ   \n",
       "56075                 [door_0_12, closet_0_15, arms_0_5]  A3GNQDFPZALU92   \n",
       "56079                                        [field_0_9]   A4XZS2EY43OLT   \n",
       "56080                                     [baseball_0_8]  A3H8288VHL1607   \n",
       "56081                                       [umpire_0_5]  A10VQSMGPJFSMU   \n",
       "56094                                         [None_0_0]  A1VPRMVXM39Z2S   \n",
       "56095                               [baby_0_4, baby_1_1]  A28PHKFEFSK7RH   \n",
       "56096                                [man_0_2, baby_0_4]   A10QQHTQZS9EG   \n",
       "56106                               [seat_0_10, car_0_3]  A3PTUHBS7DW5F7   \n",
       "56107                [seat_0_10, car_0_3, passenger_0_9]  A3BCKNE5CWHODZ   \n",
       "56108                                          [car_0_3]  A24XHYQR4P3JBW   \n",
       "\n",
       "                                                 obj_set  \n",
       "39                               {hair_0_3, glasses_0_5}  \n",
       "40          {bank_1_5, hair_0_3, vault_1_6, glasses_0_5}  \n",
       "41                    {hair_0_3, vault_1_6, glasses_0_5}  \n",
       "84                    {machine_0_7, slot_0_6, coin_0_14}  \n",
       "85                  {machine_0_7, coin_0_14, handle_0_3}  \n",
       "86        {machine_0_7, slot_0_6, coin_0_14, handle_0_3}  \n",
       "93                       {head_0_7, desk_1_11, head_1_6}  \n",
       "94                       {bold_1_5, head_0_7, desk_1_11}  \n",
       "95                                  {head_0_7, head_1_6}  \n",
       "111                               {mug_1_6, doorway_0_5}  \n",
       "112                                            {mug_1_6}  \n",
       "113                 {creature_1_2, mug_1_6, doorway_0_5}  \n",
       "132    {road_0_9, head_1_3, head_1_12, road_1_15, han...  \n",
       "133                                {road_0_9, road_1_15}  \n",
       "134          {hand_1_21, head_1_3, head_1_12, road_1_15}  \n",
       "135    {mouth_4_11, back_1_5, feet_2_9, water_6_10, f...  \n",
       "136    {mouth_4_11, back_1_5, feet_2_9, water_6_10, f...  \n",
       "137    {mouth_4_11, feet_2_9, water_6_10, feet,_4_4, ...  \n",
       "144         {bowl_1_7, spoon_1_10, food_1_2, chair_0_11}  \n",
       "145    {pebbles_1_13, chair_0_11, pebbles_0_7, spoon_...  \n",
       "146    {chair_0_11, bowl_1_7, spoon_1_10, high_0_10, ...  \n",
       "192                               {paper_1_9, money_1_3}  \n",
       "193             {paper_1_9, money_1_3, of_1_8, slip_1_7}  \n",
       "194    {money_1_3, room_0_4, paper_1_9, slip_1_7, of_...  \n",
       "306    {spaghetti_1_9, neck_1_6, bowl_0_3, spaghetti_...  \n",
       "307    {spaghetti_1_9, bowl_0_3, neck_1_6, None_0_0, ...  \n",
       "308             {spaghetti_1_9, bowl_0_3, spaghetti_0_6}  \n",
       "336                     {tank_1_6, shirt_0_2, stage_0_6}  \n",
       "337      {something_1_3, shirt_0_2, tank_1_6, stage_0_6}  \n",
       "338                                           {tank_1_6}  \n",
       "...                                                  ...  \n",
       "55785  {dress_1_9, car_2_11, hat_1_12, car_0_19, seat...  \n",
       "55786  {dress_1_9, car_2_11, hat_1_12, car_0_19, seat...  \n",
       "55787  {dress_1_9, car_2_11, brown_0_7, hat_1_12, bac...  \n",
       "55830  {bowling_2_9, fingers_1_1, ball,_2_10, ball_1_...  \n",
       "55831                  {ball,_2_10, eyes_1_14, ball_1_6}  \n",
       "55832  {bowling_2_9, fingers_1_1, ball,_2_10, ball_1_...  \n",
       "55920                {shirt_0_12, tie_0_15, goggle_0_17}  \n",
       "55921               {glasses_0_18, shirt_0_12, tie_0_15}  \n",
       "55922  {glasses_0_18, shirt_0_12, tie_0_15, goggle_0_17}  \n",
       "56022  {hand_1_3, door_1_6, face_2_7, eyes_3_6, doorw...  \n",
       "56023                     {hand_1_3, eyes_3_6, face_2_7}  \n",
       "56024           {hand_1_3, door_1_6, eyes_3_6, face_2_7}  \n",
       "56034       {pit_0_21, fire_0_20, hands_0_12, head_0_17}  \n",
       "56035  {fire_0_20, head_0_17, man_0_9, hands_0_12, pi...  \n",
       "56036                  {pit_0_21, fire_0_20, hands_0_12}  \n",
       "56052                          {moving_1_8, objects_1_9}  \n",
       "56053                                      {objects_1_9}  \n",
       "56054                                         {None_0_0}  \n",
       "56073                            {arms_0_5, closet_0_15}  \n",
       "56074       {arms_0_5, closet_0_15, door_0_12, side_0_8}  \n",
       "56075                 {arms_0_5, closet_0_15, door_0_12}  \n",
       "56079                                        {field_0_9}  \n",
       "56080                                     {baseball_0_8}  \n",
       "56081                                       {umpire_0_5}  \n",
       "56094                                         {None_0_0}  \n",
       "56095                               {baby_0_4, baby_1_1}  \n",
       "56096                                {man_0_2, baby_0_4}  \n",
       "56106                               {seat_0_10, car_0_3}  \n",
       "56107                {seat_0_10, passenger_0_9, car_0_3}  \n",
       "56108                                          {car_0_3}  \n",
       "\n",
       "[4431 rows x 8 columns]"
      ]
     },
     "execution_count": 15,
     "metadata": {},
     "output_type": "execute_result"
    }
   ],
   "source": [
    "noncon_df"
   ]
  },
  {
   "cell_type": "code",
   "execution_count": 16,
   "metadata": {
    "run_control": {
     "frozen": false,
     "read_only": false
    }
   },
   "outputs": [
    {
     "name": "stdout",
     "output_type": "stream",
     "text": [
      "s_01_e_02_shot_017248_017322\n",
      "s_01_e_02_shot_027313_027387\n",
      "s_01_e_03_shot_008921_008995\n",
      "s_01_e_04_shot_015576_015650\n",
      "s_01_e_09_shot_031124_031198\n",
      "s_01_e_10_shot_029480_029554\n",
      "s_01_e_16_shot_030508_030582\n",
      "s_01_e_22_shot_031146_031220\n",
      "s_01_e_24_shot_021263_021337\n",
      "s_02_e_04_shot_031999_032073\n",
      "s_02_e_19_shot_028556_028630\n",
      "s_02_e_21_shot_003891_003965\n",
      "s_02_e_21_shot_008404_008478\n",
      "s_02_e_29_shot_002101_002175\n",
      "s_02_e_31_shot_032690_032764\n",
      "s_02_e_32_shot_027126_027200\n",
      "s_03_e_01_shot_000066_000140\n",
      "s_03_e_08_shot_002662_002736\n",
      "s_03_e_09_shot_020383_020457\n",
      "s_03_e_13_shot_004697_004771\n",
      "s_03_e_15_shot_036883_036957\n",
      "s_03_e_18_shot_027192_027266\n",
      "s_03_e_27_shot_030162_030236\n",
      "s_04_e_08_shot_036289_036363\n",
      "s_04_e_13_shot_021985_022059\n",
      "s_04_e_13_shot_030382_030456\n",
      "s_04_e_16_shot_013013_013087\n",
      "s_04_e_16_shot_037365_037439\n",
      "s_04_e_17_shot_011691_011765\n",
      "s_04_e_17_shot_033375_033449\n",
      "s_04_e_20_shot_034738_034812\n",
      "s_04_e_23_shot_016093_016167\n",
      "s_04_e_24_shot_032241_032315\n",
      "s_05_e_01_shot_012332_012406\n",
      "s_05_e_04_shot_019866_019940\n",
      "s_05_e_05_shot_033924_033998\n",
      "s_05_e_09_shot_040271_040345\n",
      "s_05_e_11_shot_007505_007579\n",
      "s_05_e_15_shot_011449_011523\n",
      "s_05_e_18_shot_021681_021755\n",
      "s_05_e_20_shot_029689_029763\n",
      "s_05_e_23_shot_017215_017289\n",
      "s_06_e_01_shot_025571_025645\n",
      "s_06_e_15_shot_020557_020631\n",
      "s_06_e_17_shot_001727_001801\n",
      "s_06_e_19_shot_029311_029385\n",
      "s_06_e_20_shot_012078_012152\n",
      "s_06_e_21_shot_010439_010513\n",
      "s_06_e_25_shot_032391_032465\n"
     ]
    }
   ],
   "source": [
    "object_data = {}\n",
    "for vid, cld in combined_lookup.items():\n",
    "    try:\n",
    "        spans, object_decriptors =  distill_objects(cld)\n",
    "        object_data[vid] = {\n",
    "            'spans': spans,\n",
    "            'descriptors': object_decriptors\n",
    "        }\n",
    "    except IndexError:\n",
    "        print(vid)"
   ]
  },
  {
   "cell_type": "code",
   "execution_count": 19,
   "metadata": {
    "run_control": {
     "frozen": false,
     "read_only": false
    }
   },
   "outputs": [],
   "source": [
    "pickle_this(object_data, 'prod_2_3_4_object_hit_res_10_20.pkl')"
   ]
  },
  {
   "cell_type": "markdown",
   "metadata": {},
   "source": [
    "## create subtask frames"
   ]
  },
  {
   "cell_type": "code",
   "execution_count": 28,
   "metadata": {
    "run_control": {
     "frozen": false,
     "read_only": false
    }
   },
   "outputs": [],
   "source": [
    "latest_subtask_vids = unpickle_this('../../build_dataset/prod_2_3_4_have_4a_need_4b.pkl')"
   ]
  },
  {
   "cell_type": "code",
   "execution_count": 20,
   "metadata": {},
   "outputs": [],
   "source": [
    " def save_subtask_data(vid):\n",
    "    try:\n",
    "        keyframes = vid.display_keyframes()\n",
    "        three_frame_filename = vid.gid() + '_task4b.png'\n",
    "        keyframes.save('./subtask_frames/' + three_frame_filename)\n",
    "    except:\n",
    "        print(vid.gid())"
   ]
  },
  {
   "cell_type": "code",
   "execution_count": 27,
   "metadata": {
    "run_control": {
     "frozen": false,
     "read_only": false
    }
   },
   "outputs": [
    {
     "name": "stderr",
     "output_type": "stream",
     "text": [
      "100%|██████████| 2/2 [00:01<00:00,  1.45it/s]\n"
     ]
    }
   ],
   "source": [
    "for vid in tqdm(latest_subtask_vids[:2]):\n",
    "    try:\n",
    "        keyframes = vid.display_keyframes()\n",
    "        three_frame_filename = vid.gid() + '_task4b.png'\n",
    "        keyframes.save('./subtask_frames/' + three_frame_filename)\n",
    "    except:\n",
    "        print(vid.gid())"
   ]
  },
  {
   "cell_type": "code",
   "execution_count": null,
   "metadata": {},
   "outputs": [],
   "source": []
  },
  {
   "cell_type": "code",
   "execution_count": null,
   "metadata": {},
   "outputs": [],
   "source": []
  },
  {
   "cell_type": "code",
   "execution_count": null,
   "metadata": {},
   "outputs": [],
   "source": []
  },
  {
   "cell_type": "markdown",
   "metadata": {
    "heading_collapsed": true
   },
   "source": [
    "# review"
   ]
  },
  {
   "cell_type": "code",
   "execution_count": 434,
   "metadata": {
    "hidden": true,
    "run_control": {
     "frozen": false,
     "marked": false,
     "read_only": false
    }
   },
   "outputs": [
    {
     "name": "stdout",
     "output_type": "stream",
     "text": [
      "['couch', 'head']\n",
      "living room\n",
      "['fred', 'barney']\n",
      "Fred and Barney are having a conversation on the couch in the living room. Fred turns his head with a disdained look.\n"
     ]
    }
   ],
   "source": [
    "random_video = random.choice(videos_w_objs)\n",
    "\n",
    "print(random_video.vid_data['objects']['descriptors'])\n",
    "print(random_video.vid_data['setting'])\n",
    "print([c.char_data['characterName'] for c in random_video.vid_data['characters']])\n",
    "print(random_video.vid_data['description'])\n",
    "\n",
    "# random_video.display_gif()"
   ]
  },
  {
   "cell_type": "markdown",
   "metadata": {
    "hidden": true
   },
   "source": [
    "filter setting"
   ]
  },
  {
   "cell_type": "code",
   "execution_count": null,
   "metadata": {
    "hidden": true,
    "run_control": {
     "frozen": false,
     "read_only": false
    }
   },
   "outputs": [],
   "source": []
  },
  {
   "cell_type": "code",
   "execution_count": null,
   "metadata": {
    "hidden": true,
    "run_control": {
     "frozen": false,
     "read_only": false
    }
   },
   "outputs": [],
   "source": []
  },
  {
   "cell_type": "code",
   "execution_count": null,
   "metadata": {
    "hidden": true,
    "run_control": {
     "frozen": false,
     "read_only": false
    }
   },
   "outputs": [],
   "source": []
  },
  {
   "cell_type": "code",
   "execution_count": null,
   "metadata": {
    "hidden": true,
    "run_control": {
     "frozen": false,
     "read_only": false
    }
   },
   "outputs": [],
   "source": []
  },
  {
   "cell_type": "markdown",
   "metadata": {
    "heading_collapsed": true
   },
   "source": [
    "# hide"
   ]
  },
  {
   "cell_type": "code",
   "execution_count": 391,
   "metadata": {
    "hidden": true,
    "run_control": {
     "frozen": false,
     "read_only": false
    }
   },
   "outputs": [],
   "source": [
    "def rejoin_formatted_desc(description, replacement_span):\n",
    "    tokenized_description = [sent.split() for sent in sent_tokenize(td1)]\n",
    "    replace_word = tokenized_description[replacement_span[0]][replacement_span[1]]\n",
    "    tokenized_description[replacement_span[0]][replacement_span[1]]  = '<target>' + replace_word + '</target>'\n",
    "    joined_desc = ' '.join([' '.join([w for w in sent]) for sent in tokenized_description])\n",
    "    return joined_desc"
   ]
  },
  {
   "cell_type": "code",
   "execution_count": null,
   "metadata": {
    "hidden": true,
    "run_control": {
     "frozen": false,
     "read_only": false
    }
   },
   "outputs": [],
   "source": [
    "s4a_go_vids = unpickle_this('../../build_dataset/s4a_rem_batch_3.pkl')"
   ]
  },
  {
   "cell_type": "code",
   "execution_count": null,
   "metadata": {
    "hidden": true,
    "run_control": {
     "frozen": false,
     "read_only": false
    }
   },
   "outputs": [],
   "source": [
    "# new_vids = set(new_4a_assignemnts_update.keys()).difference(set(new_4a_assignemnts.keys()))"
   ]
  },
  {
   "cell_type": "code",
   "execution_count": null,
   "metadata": {
    "hidden": true,
    "run_control": {
     "frozen": false,
     "read_only": false
    }
   },
   "outputs": [],
   "source": [
    "test_res = unpickle_this('./sample_s4a_results.pkl')\n",
    "\n",
    "first_test_batch = unpickle_this('test_batch_1.pkl')\n",
    "first_prod_batch = unpickle_this('first_prod_batch.pkl')"
   ]
  },
  {
   "cell_type": "code",
   "execution_count": null,
   "metadata": {
    "hidden": true,
    "run_control": {
     "frozen": false,
     "read_only": false
    }
   },
   "outputs": [],
   "source": [
    "# noncon_lookup = noncon_subsets_choices.to_dict()\n",
    "# noncon_lookup_exists = {k: v for k, v in noncon_lookup.items()}"
   ]
  },
  {
   "cell_type": "code",
   "execution_count": null,
   "metadata": {
    "hidden": true,
    "run_control": {
     "frozen": false,
     "read_only": false
    }
   },
   "outputs": [],
   "source": [
    "obj_arr = cons_df['con_objects'].apply(lambda x: np.array([ob.split('_')[0] for ob in x])).values\n",
    "obj_series = pd.Series(np.hstack(obj_arr))\n",
    "obj_series.shape"
   ]
  },
  {
   "cell_type": "code",
   "execution_count": null,
   "metadata": {
    "hidden": true,
    "run_control": {
     "frozen": false,
     "read_only": false
    }
   },
   "outputs": [],
   "source": [
    "# videos_w_objs = [vid for vid in dataset if vid.gid() in video_object_lookup if vid.vid_data['objects']['descriptors'][0] != 'None']"
   ]
  },
  {
   "cell_type": "code",
   "execution_count": null,
   "metadata": {
    "hidden": true,
    "run_control": {
     "frozen": false,
     "read_only": false
    }
   },
   "outputs": [],
   "source": [
    "# setting_lookup = {vid.gid(): vid.setting() for vid in dataset}\n",
    "\n",
    "# combined_lookup_no_settings_raw = {k: [v for v in vals if v.split('_') != setting_lookup[k]] for k, vals in combined_lookup.items()} \n",
    "\n",
    "# combined_lookup_no_settings = {k: v for k, v in combined_lookup_no_settings_raw.items() if v}\n",
    "\n",
    "# vids_with_parts = {k: vals for k, vals in combined_lookup.items() if set([v.split('_')[0] for v in vals]).intersection(set(['hands', 'eyes', 'arms', 'fingers']))} \n",
    "\n",
    "# vids_with_parts_ids = set(vids_with_parts.keys())\n",
    "\n",
    "# pickle_this(vids_with_parts_ids, 'ids_to_target.pkl')"
   ]
  },
  {
   "cell_type": "code",
   "execution_count": 12,
   "metadata": {
    "hidden": true,
    "run_control": {
     "frozen": false,
     "read_only": false
    }
   },
   "outputs": [],
   "source": [
    "# no_con_df[['image_id', 'description', 'object_words']].to_csv('stage4a_test_1_no_con.csv', index=False)"
   ]
  },
  {
   "cell_type": "code",
   "execution_count": null,
   "metadata": {
    "collapsed": true,
    "hidden": true,
    "run_control": {
     "frozen": false,
     "read_only": false
    }
   },
   "outputs": [],
   "source": [
    "# all_objs = [obj.split('_')[0].lower() for obl in combined_lookup.values() for obj in obl]\n",
    "\n",
    "# all_obj_ser = pd.Series(all_objs)\n",
    "\n",
    "# plural_objs = [ob for ob in all_objs if ob[-1] == 's' and ob[-2] != 's']\n",
    "\n",
    "# pd.Series(plural_objs).value_counts()[:100]"
   ]
  },
  {
   "cell_type": "code",
   "execution_count": null,
   "metadata": {
    "collapsed": true,
    "hidden": true,
    "run_control": {
     "frozen": false,
     "read_only": false
    }
   },
   "outputs": [],
   "source": []
  },
  {
   "cell_type": "code",
   "execution_count": null,
   "metadata": {
    "collapsed": true,
    "hidden": true,
    "run_control": {
     "frozen": false,
     "read_only": false
    }
   },
   "outputs": [],
   "source": []
  },
  {
   "cell_type": "code",
   "execution_count": null,
   "metadata": {
    "collapsed": true,
    "hidden": true,
    "run_control": {
     "frozen": false,
     "read_only": false
    }
   },
   "outputs": [],
   "source": []
  },
  {
   "cell_type": "code",
   "execution_count": 267,
   "metadata": {
    "collapsed": true,
    "hidden": true,
    "run_control": {
     "frozen": false,
     "read_only": false
    }
   },
   "outputs": [],
   "source": [
    "def clean_response(resp_str):\n",
    "    resp_str = resp_str.lower()\n",
    "    resp_str = resp_str.replace('\\n', ' ')\n",
    "    resp_str = resp_str.strip()\n",
    "    return resp_str"
   ]
  },
  {
   "cell_type": "code",
   "execution_count": 268,
   "metadata": {
    "collapsed": true,
    "hidden": true,
    "run_control": {
     "frozen": false,
     "read_only": false
    }
   },
   "outputs": [],
   "source": [
    "def select_string(resp_row):\n",
    "    resp_mode = st.stats.mode(resp_row)\n",
    "    if resp_mode.count[0] > 1:\n",
    "        return resp_mode.mode[0]\n",
    "    else:\n",
    "        sorted_resp = sorted(resp_row.values.tolist(), key=lambda x: len(x))\n",
    "        superset_resp = [resp for resp in sorted_resp[1:] if sorted_resp[0] in resp]\n",
    "        if superset_resp:\n",
    "            response_freqs = {k: setting_freq_lookup[k] for k in superset_resp + [sorted_resp[0]]} \n",
    "        else:\n",
    "            response_freqs = {k: setting_freq_lookup[k] for k in sorted_resp} \n",
    "        return sorted(response_freqs.items(), key=lambda x: x[1], reverse=True)[0][0]\n",
    "    "
   ]
  },
  {
   "cell_type": "code",
   "execution_count": 269,
   "metadata": {
    "collapsed": true,
    "hidden": true,
    "run_control": {
     "frozen": false,
     "read_only": false
    },
    "scrolled": true
   },
   "outputs": [],
   "source": [
    "consensus_settings = settings_per_turker.iloc[:,1:].apply(select_string, axis=1)"
   ]
  },
  {
   "cell_type": "code",
   "execution_count": 270,
   "metadata": {
    "hidden": true,
    "run_control": {
     "frozen": false,
     "read_only": false
    }
   },
   "outputs": [
    {
     "data": {
      "text/plain": [
       "0           room\n",
       "1    living room\n",
       "2        doorway\n",
       "3           room\n",
       "4        outside\n",
       "dtype: object"
      ]
     },
     "execution_count": 270,
     "metadata": {},
     "output_type": "execute_result"
    }
   ],
   "source": [
    "consensus_settings.head()"
   ]
  },
  {
   "cell_type": "code",
   "execution_count": 271,
   "metadata": {
    "collapsed": true,
    "hidden": true,
    "run_control": {
     "frozen": false,
     "read_only": false
    }
   },
   "outputs": [],
   "source": [
    "cleaned_settings_per_turker = pd.concat([settings_per_turker['image_id'], settings_per_turker.iloc[:,1:].applymap(clean_response)], axis=1)"
   ]
  },
  {
   "cell_type": "code",
   "execution_count": 272,
   "metadata": {
    "collapsed": true,
    "hidden": true,
    "run_control": {
     "frozen": false,
     "read_only": false
    }
   },
   "outputs": [],
   "source": [
    "cleaned_settings_per_turker['consensus'] = consensus_settings"
   ]
  },
  {
   "cell_type": "code",
   "execution_count": 273,
   "metadata": {
    "collapsed": true,
    "hidden": true,
    "run_control": {
     "frozen": false,
     "read_only": false
    }
   },
   "outputs": [],
   "source": [
    "gif_uris = grouped_by_image['gif_uri'].agg(np.max)"
   ]
  },
  {
   "cell_type": "code",
   "execution_count": 274,
   "metadata": {
    "collapsed": true,
    "hidden": true,
    "run_control": {
     "frozen": false,
     "read_only": false
    }
   },
   "outputs": [],
   "source": [
    "cleaned_settings_per_turker = pd.merge(pd.DataFrame(gif_uris).reset_index(), cleaned_settings_per_turker)"
   ]
  },
  {
   "cell_type": "code",
   "execution_count": 275,
   "metadata": {
    "hidden": true,
    "run_control": {
     "frozen": false,
     "read_only": false
    }
   },
   "outputs": [
    {
     "data": {
      "text/plain": [
       "(10893, 6)"
      ]
     },
     "execution_count": 275,
     "metadata": {},
     "output_type": "execute_result"
    }
   ],
   "source": [
    "cleaned_settings_per_turker.shape"
   ]
  },
  {
   "cell_type": "code",
   "execution_count": 276,
   "metadata": {
    "collapsed": true,
    "hidden": true,
    "run_control": {
     "frozen": false,
     "read_only": false
    }
   },
   "outputs": [],
   "source": [
    "cleaned_settings_per_turker.sample(200).to_csv('stage_3a_prod_2.csv')"
   ]
  },
  {
   "cell_type": "code",
   "execution_count": 277,
   "metadata": {
    "hidden": true,
    "run_control": {
     "frozen": false,
     "read_only": false
    }
   },
   "outputs": [
    {
     "data": {
      "text/plain": [
       "bin: 100-inf    10089\n",
       "bin: 21-100       522\n",
       "bin: 11-20        140\n",
       "bin: 1-5           72\n",
       "bin: 6-10          70\n",
       "dtype: int64"
      ]
     },
     "execution_count": 277,
     "metadata": {},
     "output_type": "execute_result"
    }
   ],
   "source": [
    "consensus_settings.apply(lambda x: bin_settings_lookup[x]).value_counts()"
   ]
  },
  {
   "cell_type": "code",
   "execution_count": 280,
   "metadata": {
    "collapsed": true,
    "hidden": true,
    "run_control": {
     "frozen": false,
     "marked": false,
     "read_only": false
    }
   },
   "outputs": [],
   "source": [
    "prod_1_setting = cleaned_settings_per_turker[['image_id', 'consensus']]"
   ]
  },
  {
   "cell_type": "code",
   "execution_count": 281,
   "metadata": {
    "collapsed": true,
    "hidden": true,
    "run_control": {
     "frozen": false,
     "read_only": false
    }
   },
   "outputs": [],
   "source": [
    "prod_1_setting.index = prod_1_setting['image_id']"
   ]
  },
  {
   "cell_type": "code",
   "execution_count": 283,
   "metadata": {
    "collapsed": true,
    "hidden": true,
    "run_control": {
     "frozen": false,
     "read_only": false
    }
   },
   "outputs": [],
   "source": [
    "pickle_this(prod_1_setting['consensus'].to_dict(), 'stage3_prod1_2_settings.pkl')"
   ]
  }
 ],
 "metadata": {
  "kernelspec": {
   "display_name": "Python 3",
   "language": "python",
   "name": "python3"
  },
  "language_info": {
   "codemirror_mode": {
    "name": "ipython",
    "version": 3
   },
   "file_extension": ".py",
   "mimetype": "text/x-python",
   "name": "python",
   "nbconvert_exporter": "python",
   "pygments_lexer": "ipython3",
   "version": "3.6.3"
  }
 },
 "nbformat": 4,
 "nbformat_minor": 1
}
