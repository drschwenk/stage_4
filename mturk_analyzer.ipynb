{
 "cells": [
  {
   "cell_type": "markdown",
   "metadata": {
    "heading_collapsed": true
   },
   "source": [
    "# Table of Contents\n",
    "* [Stage 4 - load data](#Stage-4---load-data)\n",
    "* [process data](#process-data)\n",
    "* [hide](#hide)\n"
   ]
  },
  {
   "cell_type": "code",
   "execution_count": 1,
   "metadata": {
    "hidden": true,
    "run_control": {
     "frozen": false,
     "read_only": false
    }
   },
   "outputs": [],
   "source": [
    "%%capture\n",
    "from __future__ import division\n",
    "import numpy as np\n",
    "import pandas as pd\n",
    "import scipy.stats as st\n",
    "import itertools\n",
    "import math\n",
    "from collections import Counter, defaultdict\n",
    "%load_ext autoreload\n",
    "%autoreload 2\n",
    "\n",
    "import matplotlib as mpl\n",
    "mpl.use(\"Agg\")\n",
    "import matplotlib.pylab as plt\n",
    "#%matplotlib notebook\n",
    "%matplotlib inline\n",
    "%load_ext base16_mplrc\n",
    "%base16_mplrc light solarized\n",
    "plt.rcParams['figure.figsize'] = (20.0, 10.0)\n",
    "\n",
    "import re\n",
    "import pickle\n",
    "import boto\n",
    "from copy import deepcopy\n",
    "import json\n",
    "import os\n",
    "import random\n",
    "import jinja2\n",
    "from tqdm import tqdm\n",
    "from IPython.core.display import HTML\n",
    "\n",
    "import PIL.Image as Image\n",
    "import requests\n",
    "\n",
    "from boto.mturk.qualification import PercentAssignmentsApprovedRequirement, Qualifications, Requirement\n",
    "\n",
    "from keysTkingdom import mturk_ai2\n",
    "from keysTkingdom import aws_tokes\n",
    "from keysTkingdom import mturk_aristo\n",
    "\n",
    "from amt_utils.mturk import pickle_this, unpickle_this\n",
    "\n",
    "import os\n",
    "import jinja2\n",
    "import argparse\n",
    "from jinja2 import Environment, FileSystemLoader\n",
    "\n",
    "j2env = jinja2.Environment()\n",
    "\n",
    "from amt_utils.bboxes import cluster_from_nms\n",
    "from amt_utils.bboxes import draw_animation_seq\n",
    "from amt_utils.bboxes import cluster_from_annos\n",
    "from amt_utils.bboxes import create_subtask_data\n",
    "from amt_utils.bboxes import draw_image_and_labels\n",
    "from amt_utils.bboxes import select_labels\n",
    "from amt_utils.bboxes import cluster_and_label\n",
    "import warnings\n",
    "warnings.filterwarnings('ignore')"
   ]
  },
  {
   "cell_type": "code",
   "execution_count": null,
   "metadata": {
    "hidden": true,
    "run_control": {
     "frozen": false,
     "read_only": false
    }
   },
   "outputs": [],
   "source": []
  },
  {
   "cell_type": "markdown",
   "metadata": {},
   "source": [
    "# Stage 4 - load data "
   ]
  },
  {
   "cell_type": "code",
   "execution_count": 2,
   "metadata": {
    "run_control": {
     "frozen": false,
     "read_only": false
    }
   },
   "outputs": [],
   "source": [
    "test_res = unpickle_this('./sample_s4a_results.pkl')"
   ]
  },
  {
   "cell_type": "code",
   "execution_count": 3,
   "metadata": {
    "run_control": {
     "frozen": false,
     "read_only": false
    }
   },
   "outputs": [],
   "source": [
    "first_test_batch = unpickle_this('test_batch_1.pkl')\n",
    "first_prod_batch = unpickle_this('first_prod_batch.pkl')"
   ]
  },
  {
   "cell_type": "code",
   "execution_count": 436,
   "metadata": {
    "run_control": {
     "frozen": false,
     "read_only": false
    }
   },
   "outputs": [],
   "source": [
    "dataset = unpickle_this('./pickled_data/dataset_full8500_0p4p5.pkl')"
   ]
  },
  {
   "cell_type": "code",
   "execution_count": 13,
   "metadata": {
    "run_control": {
     "frozen": false,
     "read_only": false
    }
   },
   "outputs": [],
   "source": [
    "current_batch = {vid.gid(): vid.description() for vid in dataset}"
   ]
  },
  {
   "cell_type": "markdown",
   "metadata": {},
   "source": [
    "# process data"
   ]
  },
  {
   "cell_type": "markdown",
   "metadata": {
    "heading_collapsed": true
   },
   "source": [
    "## df manip"
   ]
  },
  {
   "cell_type": "code",
   "execution_count": 6,
   "metadata": {
    "code_folding": [],
    "hidden": true,
    "run_control": {
     "frozen": false,
     "read_only": false
    }
   },
   "outputs": [],
   "source": [
    "def create_result(assmt):\n",
    "    result = {}\n",
    "    raw_result = json.loads(assmt.answers[0][0].fields[0])\n",
    "    result['image_id'] = raw_result['image_url']\n",
    "    result['object_words_raw'] = sorted([w.replace('None', 'None_0_0') for w in raw_result['description']], key=lambda x: ''.join(x.split('_')[1:]))\n",
    "    obj_words = [word.split('_')[0] for word in result['object_words_raw']]\n",
    "    obj_word_location = [word.split('_')[1:] for word in result['object_words_raw']]\n",
    "    result['object_words'] = obj_words\n",
    "    result['object_locs'] = obj_word_location\n",
    "    result['asgmt_id'] = assmt.AssignmentId\n",
    "    result['hit_id'] = assmt.HITId\n",
    "    result['worker_id'] = assmt.WorkerId\n",
    "    return result"
   ]
  },
  {
   "cell_type": "code",
   "execution_count": 7,
   "metadata": {
    "hidden": true,
    "run_control": {
     "frozen": false,
     "read_only": false
    }
   },
   "outputs": [],
   "source": [
    "assignments = [item for sublist in first_prod_batch.values() for item in sublist]\n",
    "assignment_results = [create_result(ar) for ar in assignments]"
   ]
  },
  {
   "cell_type": "code",
   "execution_count": 8,
   "metadata": {
    "hidden": true,
    "run_control": {
     "frozen": false,
     "read_only": false
    }
   },
   "outputs": [],
   "source": [
    "st4_df = pd.DataFrame(assignment_results)\n",
    "st4_df['obj_set'] = st4_df['object_words_raw'].apply(lambda x: set(x))"
   ]
  },
  {
   "cell_type": "code",
   "execution_count": 9,
   "metadata": {
    "hidden": true,
    "run_control": {
     "frozen": false,
     "read_only": false
    }
   },
   "outputs": [],
   "source": [
    "grouped_by_image = st4_df.groupby('image_id')"
   ]
  },
  {
   "cell_type": "code",
   "execution_count": 10,
   "metadata": {
    "hidden": true,
    "run_control": {
     "frozen": false,
     "read_only": false
    }
   },
   "outputs": [],
   "source": [
    "agged_on_mode = grouped_by_image.agg(lambda x: st.mode(x))\n",
    "agged_on_mode['mode_count'] = agged_on_mode['obj_set'].apply(lambda x: x[1][0])\n",
    "cons_df = agged_on_mode[agged_on_mode['mode_count'].isin([2, 3])]\n",
    "agged_noncon_df = agged_on_mode[agged_on_mode['mode_count'].isin([1])]\n",
    "noncon_vids = set(agged_noncon_df.index.tolist())"
   ]
  },
  {
   "cell_type": "code",
   "execution_count": 14,
   "metadata": {
    "hidden": true,
    "run_control": {
     "frozen": false,
     "read_only": false
    }
   },
   "outputs": [],
   "source": [
    "cons_df['image_id'] = cons_df.index\n",
    "cons_df['description'] = cons_df['image_id'].apply(lambda x: current_batch[x])"
   ]
  },
  {
   "cell_type": "code",
   "execution_count": 15,
   "metadata": {
    "hidden": true,
    "run_control": {
     "frozen": false,
     "read_only": false
    }
   },
   "outputs": [],
   "source": [
    "cons_df['con_objects'] = cons_df['obj_set'].apply(lambda x: sorted(list(x[0][0]), key=lambda x: (x.split('_')[1], x.split('_')[2] )))"
   ]
  },
  {
   "cell_type": "code",
   "execution_count": 16,
   "metadata": {
    "hidden": true,
    "run_control": {
     "frozen": false,
     "read_only": false
    }
   },
   "outputs": [],
   "source": [
    "noncon_df = st4_df[st4_df['image_id'].isin(noncon_vids)]"
   ]
  },
  {
   "cell_type": "code",
   "execution_count": 17,
   "metadata": {
    "hidden": true,
    "run_control": {
     "frozen": false,
     "read_only": false
    }
   },
   "outputs": [],
   "source": [
    "noncon_df['description'] = noncon_df['image_id'].apply(lambda x: current_batch[x])\n",
    "noncon_df['description'] = noncon_df['image_id'].apply(lambda x: current_batch[x])"
   ]
  },
  {
   "cell_type": "code",
   "execution_count": 18,
   "metadata": {
    "hidden": true,
    "run_control": {
     "frozen": false,
     "read_only": false
    }
   },
   "outputs": [
    {
     "data": {
      "text/plain": [
       "0.9209797951840576"
      ]
     },
     "execution_count": 18,
     "metadata": {},
     "output_type": "execute_result"
    }
   ],
   "source": [
    "cons_df.shape[0] / agged_on_mode.shape[0]"
   ]
  },
  {
   "cell_type": "code",
   "execution_count": 19,
   "metadata": {
    "hidden": true,
    "run_control": {
     "frozen": false,
     "read_only": false
    }
   },
   "outputs": [],
   "source": [
    "obj_arr = cons_df['con_objects'].apply(lambda x: np.array([ob.split('_')[0] for ob in x])).values"
   ]
  },
  {
   "cell_type": "code",
   "execution_count": 20,
   "metadata": {
    "hidden": true,
    "run_control": {
     "frozen": false,
     "marked": false,
     "read_only": false
    }
   },
   "outputs": [],
   "source": [
    "obj_series = pd.Series(np.hstack(obj_arr))"
   ]
  },
  {
   "cell_type": "code",
   "execution_count": 21,
   "metadata": {
    "hidden": true,
    "run_control": {
     "frozen": false,
     "read_only": false
    }
   },
   "outputs": [
    {
     "data": {
      "text/plain": [
       "(10349,)"
      ]
     },
     "execution_count": 21,
     "metadata": {},
     "output_type": "execute_result"
    }
   ],
   "source": [
    "obj_series.shape"
   ]
  },
  {
   "cell_type": "code",
   "execution_count": 262,
   "metadata": {
    "hidden": true
   },
   "outputs": [
    {
     "data": {
      "text/html": [
       "<div>\n",
       "<style>\n",
       "    .dataframe thead tr:only-child th {\n",
       "        text-align: right;\n",
       "    }\n",
       "\n",
       "    .dataframe thead th {\n",
       "        text-align: left;\n",
       "    }\n",
       "\n",
       "    .dataframe tbody tr th {\n",
       "        vertical-align: top;\n",
       "    }\n",
       "</style>\n",
       "<table border=\"1\" class=\"dataframe\">\n",
       "  <thead>\n",
       "    <tr style=\"text-align: right;\">\n",
       "      <th></th>\n",
       "      <th>asgmt_id</th>\n",
       "      <th>hit_id</th>\n",
       "      <th>image_id</th>\n",
       "      <th>object_locs</th>\n",
       "      <th>object_words</th>\n",
       "      <th>object_words_raw</th>\n",
       "      <th>worker_id</th>\n",
       "      <th>obj_set</th>\n",
       "      <th>description</th>\n",
       "    </tr>\n",
       "  </thead>\n",
       "  <tbody>\n",
       "    <tr>\n",
       "      <th>11179</th>\n",
       "      <td>3KJYX6QCMABOZE4YSMN41FMCBJMJVM</td>\n",
       "      <td>3G4VVJO6P0G3IUFQYT9F7I2MEH0KP8</td>\n",
       "      <td>s_01_e_01_shot_010120_010194</td>\n",
       "      <td>[[1, 11]]</td>\n",
       "      <td>[hand]</td>\n",
       "      <td>[hand_1_11]</td>\n",
       "      <td>A1DTK3VD0CAM5V</td>\n",
       "      <td>{hand_1_11}</td>\n",
       "      <td>Fred is in a room speaking to the sky. Fred th...</td>\n",
       "    </tr>\n",
       "    <tr>\n",
       "      <th>11180</th>\n",
       "      <td>3L4D84MIL0SJHD9ENX60MEV334DHJW</td>\n",
       "      <td>3G4VVJO6P0G3IUFQYT9F7I2MEH0KP8</td>\n",
       "      <td>s_01_e_01_shot_010120_010194</td>\n",
       "      <td>[[0, 8], [1, 12], [1, 7]]</td>\n",
       "      <td>[sky, expression, ground]</td>\n",
       "      <td>[sky_0_8, expression_1_12, ground_1_7]</td>\n",
       "      <td>A22VGT2F28LTWC</td>\n",
       "      <td>{sky_0_8, expression_1_12, ground_1_7}</td>\n",
       "      <td>Fred is in a room speaking to the sky. Fred th...</td>\n",
       "    </tr>\n",
       "    <tr>\n",
       "      <th>11181</th>\n",
       "      <td>3SB4CE2TJWV52A6PYVB9W1GE183AX5</td>\n",
       "      <td>3G4VVJO6P0G3IUFQYT9F7I2MEH0KP8</td>\n",
       "      <td>s_01_e_01_shot_010120_010194</td>\n",
       "      <td>[[0, 8], [1, 11], [1, 7]]</td>\n",
       "      <td>[sky, hand, ground]</td>\n",
       "      <td>[sky_0_8, hand_1_11, ground_1_7]</td>\n",
       "      <td>A1LWMYF4M8DWTV</td>\n",
       "      <td>{sky_0_8, hand_1_11, ground_1_7}</td>\n",
       "      <td>Fred is in a room speaking to the sky. Fred th...</td>\n",
       "    </tr>\n",
       "  </tbody>\n",
       "</table>\n",
       "</div>"
      ],
      "text/plain": [
       "                             asgmt_id                          hit_id  \\\n",
       "11179  3KJYX6QCMABOZE4YSMN41FMCBJMJVM  3G4VVJO6P0G3IUFQYT9F7I2MEH0KP8   \n",
       "11180  3L4D84MIL0SJHD9ENX60MEV334DHJW  3G4VVJO6P0G3IUFQYT9F7I2MEH0KP8   \n",
       "11181  3SB4CE2TJWV52A6PYVB9W1GE183AX5  3G4VVJO6P0G3IUFQYT9F7I2MEH0KP8   \n",
       "\n",
       "                           image_id                object_locs  \\\n",
       "11179  s_01_e_01_shot_010120_010194                  [[1, 11]]   \n",
       "11180  s_01_e_01_shot_010120_010194  [[0, 8], [1, 12], [1, 7]]   \n",
       "11181  s_01_e_01_shot_010120_010194  [[0, 8], [1, 11], [1, 7]]   \n",
       "\n",
       "                    object_words                        object_words_raw  \\\n",
       "11179                     [hand]                             [hand_1_11]   \n",
       "11180  [sky, expression, ground]  [sky_0_8, expression_1_12, ground_1_7]   \n",
       "11181        [sky, hand, ground]        [sky_0_8, hand_1_11, ground_1_7]   \n",
       "\n",
       "            worker_id                                 obj_set  \\\n",
       "11179  A1DTK3VD0CAM5V                             {hand_1_11}   \n",
       "11180  A22VGT2F28LTWC  {sky_0_8, expression_1_12, ground_1_7}   \n",
       "11181  A1LWMYF4M8DWTV        {sky_0_8, hand_1_11, ground_1_7}   \n",
       "\n",
       "                                             description  \n",
       "11179  Fred is in a room speaking to the sky. Fred th...  \n",
       "11180  Fred is in a room speaking to the sky. Fred th...  \n",
       "11181  Fred is in a room speaking to the sky. Fred th...  "
      ]
     },
     "execution_count": 262,
     "metadata": {},
     "output_type": "execute_result"
    }
   ],
   "source": [
    "noncon_df[noncon_df['image_id'] == 's_01_e_01_shot_010120_010194']"
   ]
  },
  {
   "cell_type": "code",
   "execution_count": 257,
   "metadata": {
    "hidden": true
   },
   "outputs": [],
   "source": [
    "def overlap(row):\n",
    "    try:\n",
    "        return list(row[0].intersection(row[1]).union(row[1].intersection(row[2])))\n",
    "    except TypeError:\n",
    "        return {}"
   ]
  },
  {
   "cell_type": "code",
   "execution_count": 258,
   "metadata": {
    "hidden": true
   },
   "outputs": [],
   "source": [
    "grouped_by_image = noncon_df.groupby('image_id')\n",
    "noncon_grouped = grouped_by_image['obj_set'].apply(lambda x: pd.Series(x.values)).unstack()"
   ]
  },
  {
   "cell_type": "code",
   "execution_count": 259,
   "metadata": {
    "hidden": true
   },
   "outputs": [],
   "source": [
    "noncon_subsets_choices = noncon_grouped.head(46).apply(lambda x: overlap(x), axis=1)"
   ]
  },
  {
   "cell_type": "code",
   "execution_count": 207,
   "metadata": {
    "hidden": true
   },
   "outputs": [],
   "source": [
    "noncon_lookup = noncon_subsets_choices.to_dict()"
   ]
  },
  {
   "cell_type": "code",
   "execution_count": 209,
   "metadata": {
    "hidden": true
   },
   "outputs": [],
   "source": [
    "noncon_lookup\n",
    "noncon_lookup_exists = {k: v for k, v in noncon_lookup.items()}"
   ]
  },
  {
   "cell_type": "code",
   "execution_count": 247,
   "metadata": {
    "hidden": true,
    "run_control": {
     "frozen": false,
     "read_only": false
    }
   },
   "outputs": [],
   "source": [
    "# print(obj_series.value_counts()[:20])"
   ]
  },
  {
   "cell_type": "code",
   "execution_count": 246,
   "metadata": {
    "hidden": true,
    "run_control": {
     "frozen": false,
     "read_only": false
    },
    "scrolled": false
   },
   "outputs": [],
   "source": [
    "# obj_series.value_counts()[20:80]"
   ]
  },
  {
   "cell_type": "code",
   "execution_count": 81,
   "metadata": {
    "hidden": true,
    "run_control": {
     "frozen": false,
     "read_only": false
    }
   },
   "outputs": [],
   "source": [
    "val_counts = obj_series.value_counts()"
   ]
  },
  {
   "cell_type": "code",
   "execution_count": 83,
   "metadata": {
    "hidden": true,
    "run_control": {
     "frozen": false,
     "read_only": false
    }
   },
   "outputs": [],
   "source": [
    "# _ = val_counts[val_counts < 100].hist(bins=20)"
   ]
  },
  {
   "cell_type": "markdown",
   "metadata": {},
   "source": [
    "## build objects"
   ]
  },
  {
   "cell_type": "code",
   "execution_count": 92,
   "metadata": {
    "run_control": {
     "frozen": false,
     "read_only": false
    }
   },
   "outputs": [],
   "source": [
    "vid_objs = cons_df['con_objects'].to_dict()"
   ]
  },
  {
   "cell_type": "code",
   "execution_count": 123,
   "metadata": {
    "run_control": {
     "frozen": false,
     "read_only": false
    }
   },
   "outputs": [],
   "source": [
    "def distill_objects(obj_idx_list):\n",
    "    combined_objects = []\n",
    "    object_coords = []\n",
    "    for word_position in obj_idx_list:\n",
    "        split_components = word_position.split('_')\n",
    "        word, sent_n, word_n = split_components[0], int(split_components[1]), int(split_components[2])\n",
    "        object_coords.append((word, sent_n, word_n))\n",
    "    object_coords = sorted(object_coords, key= lambda x: (x[1], x[2]))\n",
    "    combined_objects.append(object_coords[0])\n",
    "    for idx in range(1, len(object_coords)):\n",
    "        this_word, this_sent, this_wn = object_coords[idx]\n",
    "        last_word, last_sent, last_wn = combined_objects[-1]\n",
    "        if this_sent == last_sent and last_wn + 1 == this_wn:            \n",
    "            combined_objects[-1] = (' '.join([last_word, this_word]), this_sent, this_wn)\n",
    "        else:\n",
    "            combined_objects.append((this_word, this_sent, this_wn))\n",
    "    return [w[1:] for w in combined_objects], [w[0] for w in combined_objects]"
   ]
  },
  {
   "cell_type": "code",
   "execution_count": 124,
   "metadata": {},
   "outputs": [],
   "source": [
    "test_obs = ['newspapers_0_11', 'street_0_17', 'newspaper_1_6', 'cart_1_7']\n",
    "_, object_phrases = distill_objects(test_obs)"
   ]
  },
  {
   "cell_type": "code",
   "execution_count": 264,
   "metadata": {},
   "outputs": [],
   "source": [
    "noncon_lookup = noncon_subsets_choices.to_dict()"
   ]
  },
  {
   "cell_type": "code",
   "execution_count": 125,
   "metadata": {},
   "outputs": [],
   "source": [
    "video_object_lookup = cons_df['con_objects'].to_dict()"
   ]
  },
  {
   "cell_type": "code",
   "execution_count": 126,
   "metadata": {
    "run_control": {
     "marked": false
    }
   },
   "outputs": [],
   "source": [
    "cons_df['combined_objects'] = cons_df['con_objects'].apply(distill_objects)"
   ]
  },
  {
   "cell_type": "code",
   "execution_count": 265,
   "metadata": {},
   "outputs": [],
   "source": [
    "combined_lookup = {**video_object_lookup, **noncon_lookup}"
   ]
  },
  {
   "cell_type": "code",
   "execution_count": 416,
   "metadata": {},
   "outputs": [],
   "source": [
    "setting_lookup = {vid.gid(): vid.setting() for vid in dataset}"
   ]
  },
  {
   "cell_type": "code",
   "execution_count": 421,
   "metadata": {},
   "outputs": [],
   "source": [
    "combined_lookup_no_settings_raw = {k: [v for v in vals if v.split('_') != setting_lookup[k]] for k, vals in combined_lookup.items()} "
   ]
  },
  {
   "cell_type": "code",
   "execution_count": 423,
   "metadata": {},
   "outputs": [],
   "source": [
    "combined_lookup_no_settings = {k: v for k, v in combined_lookup_no_settings_raw.items() if v}"
   ]
  },
  {
   "cell_type": "code",
   "execution_count": 424,
   "metadata": {},
   "outputs": [
    {
     "data": {
      "text/plain": [
       "6695"
      ]
     },
     "execution_count": 424,
     "metadata": {},
     "output_type": "execute_result"
    }
   ],
   "source": [
    "len(combined_lookup_no_settings)"
   ]
  },
  {
   "cell_type": "code",
   "execution_count": 409,
   "metadata": {},
   "outputs": [],
   "source": [
    "vids_with_parts = {k: vals for k, vals in combined_lookup.items() if set([v.split('_')[0] for v in vals]).intersection(set(['hands', 'eyes', 'arms', 'fingers']))} "
   ]
  },
  {
   "cell_type": "code",
   "execution_count": 412,
   "metadata": {},
   "outputs": [],
   "source": [
    "vids_with_parts_ids = set(vids_with_parts.keys())"
   ]
  },
  {
   "cell_type": "code",
   "execution_count": 415,
   "metadata": {},
   "outputs": [],
   "source": [
    "pickle_this(vids_with_parts_ids, 'ids_to_target.pkl')"
   ]
  },
  {
   "cell_type": "code",
   "execution_count": null,
   "metadata": {},
   "outputs": [],
   "source": []
  },
  {
   "cell_type": "code",
   "execution_count": null,
   "metadata": {},
   "outputs": [],
   "source": []
  },
  {
   "cell_type": "code",
   "execution_count": 283,
   "metadata": {},
   "outputs": [],
   "source": [
    "all_objs = [obj.split('_')[0].lower() for obl in combined_lookup.values() for obj in obl]"
   ]
  },
  {
   "cell_type": "code",
   "execution_count": 284,
   "metadata": {},
   "outputs": [],
   "source": [
    "all_obj_ser = pd.Series(all_objs)"
   ]
  },
  {
   "cell_type": "code",
   "execution_count": 291,
   "metadata": {},
   "outputs": [],
   "source": [
    "plural_objs = [ob for ob in all_objs if ob[-1] == 's' and ob[-2] != 's']"
   ]
  },
  {
   "cell_type": "code",
   "execution_count": 402,
   "metadata": {
    "scrolled": true
   },
   "outputs": [
    {
     "data": {
      "text/plain": [
       "hands         164\n",
       "eyes          119\n",
       "arms          104\n",
       "glasses        63\n",
       "clothes        37\n",
       "hips           29\n",
       "sunglasses     25\n",
       "hats           24\n",
       "shoulders      22\n",
       "chairs         20\n",
       "fingers        17\n",
       "cards          14\n",
       "horns          13\n",
       "flowers        13\n",
       "legs           11\n",
       "groceries      11\n",
       "dishes         11\n",
       "rocks           8\n",
       "heads           8\n",
       "bushes          7\n",
       "clubs           7\n",
       "couches         7\n",
       "gloves          6\n",
       "papers          6\n",
       "fists           5\n",
       "goggles         5\n",
       "stars           5\n",
       "curtains        5\n",
       "balls           5\n",
       "specs           4\n",
       "             ... \n",
       "skates          2\n",
       "cactus          2\n",
       "wheels          2\n",
       "candles         2\n",
       "toys            2\n",
       "towels          2\n",
       "trees           2\n",
       "helmets         2\n",
       "pictures        2\n",
       "noses           2\n",
       "ropes           2\n",
       "poles           2\n",
       "muscles         2\n",
       "circus          2\n",
       "beds            2\n",
       "bandages        2\n",
       "skis            2\n",
       "scarves         2\n",
       "rockets         2\n",
       "backs           2\n",
       "covers          2\n",
       "doors           2\n",
       "mugs            2\n",
       "bubbles         2\n",
       "sacks           1\n",
       "baseballs       1\n",
       "drumsticks      1\n",
       "trimmers        1\n",
       "vegetables      1\n",
       "buildings       1\n",
       "Length: 100, dtype: int64"
      ]
     },
     "execution_count": 402,
     "metadata": {},
     "output_type": "execute_result"
    }
   ],
   "source": [
    "pd.Series(plural_objs).value_counts()[:100]"
   ]
  },
  {
   "cell_type": "code",
   "execution_count": 297,
   "metadata": {},
   "outputs": [
    {
     "data": {
      "text/plain": [
       "{'descriptors': ['None'], 'spans': [(0, 0)]}"
      ]
     },
     "execution_count": 297,
     "metadata": {},
     "output_type": "execute_result"
    }
   ],
   "source": [
    "videos_w_objs[0].vid_data['objects']"
   ]
  },
  {
   "cell_type": "code",
   "execution_count": 298,
   "metadata": {},
   "outputs": [
    {
     "data": {
      "text/plain": [
       "6655"
      ]
     },
     "execution_count": 298,
     "metadata": {},
     "output_type": "execute_result"
    }
   ],
   "source": [
    "len(videos_w_objs)"
   ]
  },
  {
   "cell_type": "code",
   "execution_count": null,
   "metadata": {},
   "outputs": [],
   "source": []
  },
  {
   "cell_type": "code",
   "execution_count": 441,
   "metadata": {},
   "outputs": [],
   "source": [
    "object_data = {}\n",
    "for vid in dataset:\n",
    "    try:\n",
    "        spans, object_decriptors =  distill_objects(combined_lookup_no_settings[vid.gid()])\n",
    "        object_data[vid.gid()] = {\n",
    "            'spans': spans,\n",
    "            'descriptors': object_decriptors \n",
    "        }\n",
    "    except KeyError:\n",
    "        pass"
   ]
  },
  {
   "cell_type": "code",
   "execution_count": 438,
   "metadata": {
    "run_control": {
     "frozen": false,
     "read_only": false
    }
   },
   "outputs": [],
   "source": [
    "# selected_vid = [vid for vid in dataset if vid.gid() == 's_01_e_01_shot_002640_002714'][0]\n",
    "\n",
    "# selected_vid.vid_data['description']"
   ]
  },
  {
   "cell_type": "code",
   "execution_count": 439,
   "metadata": {},
   "outputs": [],
   "source": [
    "videos_w_objs = [vid for vid in dataset if vid.gid() in video_object_lookup if vid.vid_data['objects']['descriptors'][0] != 'None']"
   ]
  },
  {
   "cell_type": "code",
   "execution_count": 391,
   "metadata": {},
   "outputs": [],
   "source": [
    "def rejoin_formatted_desc(description, replacement_span):\n",
    "    tokenized_description = [sent.split() for sent in sent_tokenize(td1)]\n",
    "    replace_word = tokenized_description[replacement_span[0]][replacement_span[1]]\n",
    "    tokenized_description[replacement_span[0]][replacement_span[1]]  = '<target>' + replace_word + '</target>'\n",
    "    joined_desc = ' '.join([' '.join([w for w in sent]) for sent in tokenized_description])\n",
    "    return joined_desc"
   ]
  },
  {
   "cell_type": "code",
   "execution_count": null,
   "metadata": {},
   "outputs": [],
   "source": []
  },
  {
   "cell_type": "code",
   "execution_count": 397,
   "metadata": {},
   "outputs": [],
   "source": [
    "# for vid in tqdm(vids_w_objs[100:]):\n",
    "#     try:\n",
    "#         keyframes = vid.display_keyframes()\n",
    "#         three_frame_filename = vid.gid() + '_task4b.png'\n",
    "#         keyframes.save('./subtask_frames/' + three_frame_filename)\n",
    "#     except:\n",
    "#         print(vid.gid())"
   ]
  },
  {
   "cell_type": "code",
   "execution_count": 443,
   "metadata": {},
   "outputs": [],
   "source": [
    "pickle_this(object_data, 'obj_data.pkl')"
   ]
  },
  {
   "cell_type": "code",
   "execution_count": null,
   "metadata": {},
   "outputs": [],
   "source": []
  },
  {
   "cell_type": "code",
   "execution_count": null,
   "metadata": {},
   "outputs": [],
   "source": []
  },
  {
   "cell_type": "markdown",
   "metadata": {},
   "source": [
    "## review"
   ]
  },
  {
   "cell_type": "code",
   "execution_count": 434,
   "metadata": {
    "run_control": {
     "marked": true
    }
   },
   "outputs": [
    {
     "name": "stdout",
     "output_type": "stream",
     "text": [
      "['couch', 'head']\n",
      "living room\n",
      "['fred', 'barney']\n",
      "Fred and Barney are having a conversation on the couch in the living room. Fred turns his head with a disdained look.\n"
     ]
    }
   ],
   "source": [
    "random_video = random.choice(videos_w_objs)\n",
    "\n",
    "print(random_video.vid_data['objects']['descriptors'])\n",
    "print(random_video.vid_data['setting'])\n",
    "print([c.char_data['characterName'] for c in random_video.vid_data['characters']])\n",
    "print(random_video.vid_data['description'])\n",
    "\n",
    "# random_video.display_gif()"
   ]
  },
  {
   "cell_type": "markdown",
   "metadata": {},
   "source": [
    "filter setting"
   ]
  },
  {
   "cell_type": "code",
   "execution_count": null,
   "metadata": {},
   "outputs": [],
   "source": []
  },
  {
   "cell_type": "code",
   "execution_count": null,
   "metadata": {},
   "outputs": [],
   "source": []
  },
  {
   "cell_type": "code",
   "execution_count": null,
   "metadata": {},
   "outputs": [],
   "source": []
  },
  {
   "cell_type": "code",
   "execution_count": null,
   "metadata": {},
   "outputs": [],
   "source": []
  },
  {
   "cell_type": "code",
   "execution_count": null,
   "metadata": {},
   "outputs": [],
   "source": []
  },
  {
   "cell_type": "markdown",
   "metadata": {
    "heading_collapsed": true
   },
   "source": [
    "# hide"
   ]
  },
  {
   "cell_type": "code",
   "execution_count": null,
   "metadata": {
    "hidden": true,
    "run_control": {
     "frozen": false,
     "read_only": false
    }
   },
   "outputs": [],
   "source": []
  },
  {
   "cell_type": "code",
   "execution_count": 12,
   "metadata": {
    "hidden": true,
    "run_control": {
     "frozen": false,
     "read_only": false
    }
   },
   "outputs": [],
   "source": [
    "# no_con_df[['image_id', 'description', 'object_words']].to_csv('stage4a_test_1_no_con.csv', index=False)"
   ]
  },
  {
   "cell_type": "code",
   "execution_count": null,
   "metadata": {
    "collapsed": true,
    "hidden": true,
    "run_control": {
     "frozen": false,
     "read_only": false
    }
   },
   "outputs": [],
   "source": []
  },
  {
   "cell_type": "code",
   "execution_count": null,
   "metadata": {
    "collapsed": true,
    "hidden": true,
    "run_control": {
     "frozen": false,
     "read_only": false
    }
   },
   "outputs": [],
   "source": []
  },
  {
   "cell_type": "code",
   "execution_count": null,
   "metadata": {
    "collapsed": true,
    "hidden": true,
    "run_control": {
     "frozen": false,
     "read_only": false
    }
   },
   "outputs": [],
   "source": []
  },
  {
   "cell_type": "code",
   "execution_count": null,
   "metadata": {
    "collapsed": true,
    "hidden": true,
    "run_control": {
     "frozen": false,
     "read_only": false
    }
   },
   "outputs": [],
   "source": []
  },
  {
   "cell_type": "code",
   "execution_count": 267,
   "metadata": {
    "collapsed": true,
    "hidden": true,
    "run_control": {
     "frozen": false,
     "read_only": false
    }
   },
   "outputs": [],
   "source": [
    "def clean_response(resp_str):\n",
    "    resp_str = resp_str.lower()\n",
    "    resp_str = resp_str.replace('\\n', ' ')\n",
    "    resp_str = resp_str.strip()\n",
    "    return resp_str"
   ]
  },
  {
   "cell_type": "code",
   "execution_count": 268,
   "metadata": {
    "collapsed": true,
    "hidden": true,
    "run_control": {
     "frozen": false,
     "read_only": false
    }
   },
   "outputs": [],
   "source": [
    "def select_string(resp_row):\n",
    "    resp_mode = st.stats.mode(resp_row)\n",
    "    if resp_mode.count[0] > 1:\n",
    "        return resp_mode.mode[0]\n",
    "    else:\n",
    "        sorted_resp = sorted(resp_row.values.tolist(), key=lambda x: len(x))\n",
    "        superset_resp = [resp for resp in sorted_resp[1:] if sorted_resp[0] in resp]\n",
    "        if superset_resp:\n",
    "            response_freqs = {k: setting_freq_lookup[k] for k in superset_resp + [sorted_resp[0]]} \n",
    "        else:\n",
    "            response_freqs = {k: setting_freq_lookup[k] for k in sorted_resp} \n",
    "        return sorted(response_freqs.items(), key=lambda x: x[1], reverse=True)[0][0]\n",
    "    "
   ]
  },
  {
   "cell_type": "code",
   "execution_count": 269,
   "metadata": {
    "collapsed": true,
    "hidden": true,
    "run_control": {
     "frozen": false,
     "read_only": false
    },
    "scrolled": true
   },
   "outputs": [],
   "source": [
    "consensus_settings = settings_per_turker.iloc[:,1:].apply(select_string, axis=1)"
   ]
  },
  {
   "cell_type": "code",
   "execution_count": 270,
   "metadata": {
    "hidden": true,
    "run_control": {
     "frozen": false,
     "read_only": false
    }
   },
   "outputs": [
    {
     "data": {
      "text/plain": [
       "0           room\n",
       "1    living room\n",
       "2        doorway\n",
       "3           room\n",
       "4        outside\n",
       "dtype: object"
      ]
     },
     "execution_count": 270,
     "metadata": {},
     "output_type": "execute_result"
    }
   ],
   "source": [
    "consensus_settings.head()"
   ]
  },
  {
   "cell_type": "code",
   "execution_count": 271,
   "metadata": {
    "collapsed": true,
    "hidden": true,
    "run_control": {
     "frozen": false,
     "read_only": false
    }
   },
   "outputs": [],
   "source": [
    "cleaned_settings_per_turker = pd.concat([settings_per_turker['image_id'], settings_per_turker.iloc[:,1:].applymap(clean_response)], axis=1)"
   ]
  },
  {
   "cell_type": "code",
   "execution_count": 272,
   "metadata": {
    "collapsed": true,
    "hidden": true,
    "run_control": {
     "frozen": false,
     "read_only": false
    }
   },
   "outputs": [],
   "source": [
    "cleaned_settings_per_turker['consensus'] = consensus_settings"
   ]
  },
  {
   "cell_type": "code",
   "execution_count": 273,
   "metadata": {
    "collapsed": true,
    "hidden": true,
    "run_control": {
     "frozen": false,
     "read_only": false
    }
   },
   "outputs": [],
   "source": [
    "gif_uris = grouped_by_image['gif_uri'].agg(np.max)"
   ]
  },
  {
   "cell_type": "code",
   "execution_count": 274,
   "metadata": {
    "collapsed": true,
    "hidden": true,
    "run_control": {
     "frozen": false,
     "read_only": false
    }
   },
   "outputs": [],
   "source": [
    "cleaned_settings_per_turker = pd.merge(pd.DataFrame(gif_uris).reset_index(), cleaned_settings_per_turker)"
   ]
  },
  {
   "cell_type": "code",
   "execution_count": 275,
   "metadata": {
    "hidden": true,
    "run_control": {
     "frozen": false,
     "read_only": false
    }
   },
   "outputs": [
    {
     "data": {
      "text/plain": [
       "(10893, 6)"
      ]
     },
     "execution_count": 275,
     "metadata": {},
     "output_type": "execute_result"
    }
   ],
   "source": [
    "cleaned_settings_per_turker.shape"
   ]
  },
  {
   "cell_type": "code",
   "execution_count": 276,
   "metadata": {
    "collapsed": true,
    "hidden": true,
    "run_control": {
     "frozen": false,
     "read_only": false
    }
   },
   "outputs": [],
   "source": [
    "cleaned_settings_per_turker.sample(200).to_csv('stage_3a_prod_2.csv')"
   ]
  },
  {
   "cell_type": "code",
   "execution_count": 277,
   "metadata": {
    "hidden": true,
    "run_control": {
     "frozen": false,
     "read_only": false
    }
   },
   "outputs": [
    {
     "data": {
      "text/plain": [
       "bin: 100-inf    10089\n",
       "bin: 21-100       522\n",
       "bin: 11-20        140\n",
       "bin: 1-5           72\n",
       "bin: 6-10          70\n",
       "dtype: int64"
      ]
     },
     "execution_count": 277,
     "metadata": {},
     "output_type": "execute_result"
    }
   ],
   "source": [
    "consensus_settings.apply(lambda x: bin_settings_lookup[x]).value_counts()"
   ]
  },
  {
   "cell_type": "code",
   "execution_count": 280,
   "metadata": {
    "collapsed": true,
    "hidden": true,
    "run_control": {
     "frozen": false,
     "marked": false,
     "read_only": false
    }
   },
   "outputs": [],
   "source": [
    "prod_1_setting = cleaned_settings_per_turker[['image_id', 'consensus']]"
   ]
  },
  {
   "cell_type": "code",
   "execution_count": 281,
   "metadata": {
    "collapsed": true,
    "hidden": true,
    "run_control": {
     "frozen": false,
     "read_only": false
    }
   },
   "outputs": [],
   "source": [
    "prod_1_setting.index = prod_1_setting['image_id']"
   ]
  },
  {
   "cell_type": "code",
   "execution_count": 283,
   "metadata": {
    "collapsed": true,
    "hidden": true,
    "run_control": {
     "frozen": false,
     "read_only": false
    }
   },
   "outputs": [],
   "source": [
    "pickle_this(prod_1_setting['consensus'].to_dict(), 'stage3_prod1_2_settings.pkl')"
   ]
  }
 ],
 "metadata": {
  "kernelspec": {
   "display_name": "Python 3",
   "language": "python",
   "name": "python3"
  },
  "language_info": {
   "codemirror_mode": {
    "name": "ipython",
    "version": 3
   },
   "file_extension": ".py",
   "mimetype": "text/x-python",
   "name": "python",
   "nbconvert_exporter": "python",
   "pygments_lexer": "ipython3",
   "version": "3.6.2"
  }
 },
 "nbformat": 4,
 "nbformat_minor": 1
}
