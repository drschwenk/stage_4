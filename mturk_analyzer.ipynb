{
 "cells": [
  {
   "cell_type": "markdown",
   "metadata": {
    "heading_collapsed": true
   },
   "source": [
    "# Table of Contents\n",
    "* [Stage 4 - load data](#Stage-4---load-data)\n",
    "* [Process data](#Process-data)\n",
    "\t* [create subtask frames](#create-subtask-frames)\n",
    "* [review](#review)\n",
    "* [hide](#hide)\n"
   ]
  },
  {
   "cell_type": "code",
   "execution_count": 1,
   "metadata": {
    "hidden": true,
    "run_control": {
     "frozen": false,
     "read_only": false
    }
   },
   "outputs": [],
   "source": [
    "%%capture\n",
    "from __future__ import division\n",
    "import numpy as np\n",
    "import pandas as pd\n",
    "import scipy.stats as st\n",
    "import itertools\n",
    "import math\n",
    "from collections import Counter, defaultdict\n",
    "%load_ext autoreload\n",
    "%autoreload 2\n",
    "\n",
    "import matplotlib as mpl\n",
    "mpl.use(\"Agg\")\n",
    "import matplotlib.pylab as plt\n",
    "#%matplotlib notebook\n",
    "%matplotlib inline\n",
    "%load_ext base16_mplrc\n",
    "%base16_mplrc light solarized\n",
    "plt.rcParams['figure.figsize'] = (20.0, 10.0)\n",
    "\n",
    "import re\n",
    "import pickle\n",
    "import boto\n",
    "from copy import deepcopy\n",
    "import json\n",
    "import os\n",
    "import random\n",
    "import jinja2\n",
    "from tqdm import tqdm\n",
    "from IPython.core.display import HTML\n",
    "\n",
    "import PIL.Image as Image\n",
    "import requests\n",
    "\n",
    "from boto.mturk.qualification import PercentAssignmentsApprovedRequirement, Qualifications, Requirement\n",
    "\n",
    "from keysTkingdom import mturk_ai2\n",
    "from keysTkingdom import aws_tokes\n",
    "from keysTkingdom import mturk_aristo\n",
    "\n",
    "from amt_utils.mturk import pickle_this, unpickle_this\n",
    "\n",
    "import os\n",
    "import jinja2\n",
    "import argparse\n",
    "from jinja2 import Environment, FileSystemLoader\n",
    "\n",
    "j2env = jinja2.Environment()\n",
    "\n",
    "from amt_utils.bboxes import cluster_from_nms\n",
    "from amt_utils.bboxes import draw_animation_seq\n",
    "from amt_utils.bboxes import cluster_from_annos\n",
    "from amt_utils.bboxes import create_subtask_data\n",
    "from amt_utils.bboxes import draw_image_and_labels\n",
    "from amt_utils.bboxes import select_labels\n",
    "from amt_utils.bboxes import cluster_and_label\n",
    "import warnings\n",
    "warnings.filterwarnings('ignore')"
   ]
  },
  {
   "cell_type": "markdown",
   "metadata": {
    "heading_collapsed": true
   },
   "source": [
    "# Stage 4 - load data "
   ]
  },
  {
   "cell_type": "code",
   "execution_count": 2,
   "metadata": {
    "hidden": true,
    "run_control": {
     "frozen": false,
     "read_only": false
    }
   },
   "outputs": [],
   "source": [
    "dataset = unpickle_this('../../build_dataset//prod_dataset_10_6.pkl')\n",
    "description_lookup = {vid.gid(): vid.description() for vid in dataset.data}\n",
    "\n",
    "new_4a_assignemnts_update = unpickle_this('additional_batch_1_4a_update.pkl')"
   ]
  },
  {
   "cell_type": "markdown",
   "metadata": {
    "heading_collapsed": true
   },
   "source": [
    "# Process data"
   ]
  },
  {
   "cell_type": "code",
   "execution_count": 3,
   "metadata": {
    "code_folding": [
     0,
     23
    ],
    "hidden": true,
    "run_control": {
     "frozen": false,
     "read_only": false
    }
   },
   "outputs": [],
   "source": [
    "def create_result(assmt):\n",
    "    result = {}\n",
    "    raw_result = json.loads(assmt.answers[0][0].fields[0])\n",
    "    result['image_id'] = raw_result['image_url']\n",
    "    result['object_words_raw'] = sorted([w.replace('None', 'None_0_0') for w in raw_result['description']], key=lambda x: ''.join(x.split('_')[1:]))\n",
    "    obj_words = [word.split('_')[0] for word in result['object_words_raw']]\n",
    "    obj_word_location = [word.split('_')[1:] for word in result['object_words_raw']]\n",
    "    result['object_words'] = obj_words\n",
    "    result['object_locs'] = obj_word_location\n",
    "    result['asgmt_id'] = assmt.AssignmentId\n",
    "    result['hit_id'] = assmt.HITId\n",
    "    result['worker_id'] = assmt.WorkerId\n",
    "    return result\n",
    "\n",
    "def overlap(row):\n",
    "    for idx in range(row.shape[0]):\n",
    "        if row[idx] == None:\n",
    "            row[idx] = set([])\n",
    "    try:\n",
    "        return list(row[0].intersection(row[1]).union(row[1].intersection(row[2])).union(row[0].intersection(row[2])))\n",
    "    except TypeError:\n",
    "        return {}\n",
    "\n",
    "def distill_objects(obj_idx_list):\n",
    "    combined_objects = []\n",
    "    object_coords = []\n",
    "    for word_position in obj_idx_list:\n",
    "        split_components = word_position.split('_')\n",
    "        word, sent_n, word_n = split_components[0], int(split_components[1]), int(split_components[2])\n",
    "        object_coords.append((word, sent_n, word_n))\n",
    "    object_coords = sorted(object_coords, key= lambda x: (x[1], x[2]))\n",
    "    combined_objects.append(object_coords[0])\n",
    "    for idx in range(1, len(object_coords)):\n",
    "        this_word, this_sent, this_wn = object_coords[idx]\n",
    "        last_word, last_sent, last_wn = combined_objects[-1]\n",
    "        if this_sent == last_sent and last_wn + 1 == this_wn:            \n",
    "            combined_objects[-1] = (' '.join([last_word, this_word]), this_sent, this_wn)\n",
    "        else:\n",
    "            combined_objects.append((this_word, this_sent, this_wn))\n",
    "    return [w[1:] for w in combined_objects], [w[0] for w in combined_objects]"
   ]
  },
  {
   "cell_type": "code",
   "execution_count": 4,
   "metadata": {
    "hidden": true,
    "run_control": {
     "frozen": false,
     "read_only": false
    }
   },
   "outputs": [],
   "source": [
    "assignments = [item for sublist in new_4a_assignemnts_update.values() for item in sublist]\n",
    "assignment_results = [create_result(ar) for ar in assignments]"
   ]
  },
  {
   "cell_type": "code",
   "execution_count": 5,
   "metadata": {
    "hidden": true,
    "run_control": {
     "frozen": false,
     "read_only": false
    }
   },
   "outputs": [],
   "source": [
    "st4_df = pd.DataFrame(assignment_results)\n",
    "st4_df['obj_set'] = st4_df['object_words_raw'].apply(lambda x: set(x))\n",
    "st4_df['description'] = st4_df['image_id'].apply(lambda x: description_lookup[x])\n",
    "\n",
    "grouped_by_image = st4_df.groupby('image_id')\n",
    "agged_on_mode = grouped_by_image.agg(lambda x: st.mode(x))\n",
    "agged_on_mode['mode_count'] = agged_on_mode['obj_set'].apply(lambda x: x[1][0])\n",
    "cons_df = agged_on_mode[agged_on_mode['mode_count'].isin([2, 3])]\n",
    "noncon_df = agged_on_mode[agged_on_mode['mode_count'].isin([1])]\n",
    "noncon_vids = set(noncon_df.index.tolist())\n",
    "\n",
    "cons_df['image_id'] = cons_df.index\n",
    "cons_df['description'] = cons_df['image_id'].apply(lambda x: description_lookup[x])\n",
    "cons_df['con_objects'] = cons_df['obj_set'].apply(lambda x: sorted(list(x[0][0]), key=lambda x: (x.split('_')[1], x.split('_')[2] )))\n",
    "noncon_df = st4_df[st4_df['image_id'].isin(noncon_vids)]\n",
    "\n",
    "temp_grouped_by_image = noncon_df.groupby('image_id')\n",
    "noncon_grouped = temp_grouped_by_image['obj_set'].apply(lambda x: pd.Series(x.values)).unstack()\n",
    "\n",
    "noncon_subsets_choices = noncon_grouped.apply(lambda x: overlap(x), axis=1)\n",
    "\n",
    "noncon_lookup = noncon_subsets_choices.to_dict()\n",
    "con_lookup = cons_df['con_objects'].to_dict()\n",
    "\n",
    "combined_lookup = {**con_lookup, **noncon_lookup}"
   ]
  },
  {
   "cell_type": "code",
   "execution_count": 6,
   "metadata": {
    "hidden": true,
    "run_control": {
     "frozen": false,
     "read_only": false
    }
   },
   "outputs": [
    {
     "name": "stdout",
     "output_type": "stream",
     "text": [
      "s_02_e_30_shot_027786_027860\n",
      "s_03_e_17_shot_000704_000778\n",
      "s_04_e_25_shot_009161_009235\n",
      "s_06_e_08_shot_034617_034691\n",
      "s_06_e_25_shot_021820_021894\n"
     ]
    }
   ],
   "source": [
    "object_data = {}\n",
    "for vid, cld in combined_lookup.items():\n",
    "    try:\n",
    "        spans, object_decriptors =  distill_objects(cld)\n",
    "        object_data[vid] = {\n",
    "            'spans': spans,\n",
    "            'descriptors': object_decriptors \n",
    "        }\n",
    "    except IndexError:\n",
    "        print(vid)"
   ]
  },
  {
   "cell_type": "code",
   "execution_count": 12,
   "metadata": {
    "hidden": true,
    "run_control": {
     "frozen": false,
     "read_only": false
    }
   },
   "outputs": [],
   "source": [
    "# pickle_this(object_data, 'latest_object_hit_res_10_8.pkl')"
   ]
  },
  {
   "cell_type": "markdown",
   "metadata": {
    "heading_collapsed": true,
    "hidden": true
   },
   "source": [
    "## create subtask frames"
   ]
  },
  {
   "cell_type": "code",
   "execution_count": 708,
   "metadata": {
    "hidden": true,
    "run_control": {
     "frozen": false,
     "read_only": false
    }
   },
   "outputs": [
    {
     "name": "stderr",
     "output_type": "stream",
     "text": [
      "100%|██████████| 1/1 [00:01<00:00,  1.04s/it]\n"
     ]
    }
   ],
   "source": [
    "for vid in tqdm(mv):\n",
    "    try:\n",
    "        keyframes = vid.display_keyframes()\n",
    "        three_frame_filename = vid.gid() + '_task4b.png'\n",
    "        keyframes.save('./subtask_frames/' + three_frame_filename)\n",
    "    except:\n",
    "        print(vid.gid())"
   ]
  },
  {
   "cell_type": "markdown",
   "metadata": {
    "heading_collapsed": true
   },
   "source": [
    "# review"
   ]
  },
  {
   "cell_type": "code",
   "execution_count": 434,
   "metadata": {
    "hidden": true,
    "run_control": {
     "frozen": false,
     "marked": false,
     "read_only": false
    }
   },
   "outputs": [
    {
     "name": "stdout",
     "output_type": "stream",
     "text": [
      "['couch', 'head']\n",
      "living room\n",
      "['fred', 'barney']\n",
      "Fred and Barney are having a conversation on the couch in the living room. Fred turns his head with a disdained look.\n"
     ]
    }
   ],
   "source": [
    "random_video = random.choice(videos_w_objs)\n",
    "\n",
    "print(random_video.vid_data['objects']['descriptors'])\n",
    "print(random_video.vid_data['setting'])\n",
    "print([c.char_data['characterName'] for c in random_video.vid_data['characters']])\n",
    "print(random_video.vid_data['description'])\n",
    "\n",
    "# random_video.display_gif()"
   ]
  },
  {
   "cell_type": "markdown",
   "metadata": {
    "hidden": true
   },
   "source": [
    "filter setting"
   ]
  },
  {
   "cell_type": "code",
   "execution_count": null,
   "metadata": {
    "hidden": true,
    "run_control": {
     "frozen": false,
     "read_only": false
    }
   },
   "outputs": [],
   "source": []
  },
  {
   "cell_type": "code",
   "execution_count": null,
   "metadata": {
    "hidden": true,
    "run_control": {
     "frozen": false,
     "read_only": false
    }
   },
   "outputs": [],
   "source": []
  },
  {
   "cell_type": "code",
   "execution_count": null,
   "metadata": {
    "hidden": true,
    "run_control": {
     "frozen": false,
     "read_only": false
    }
   },
   "outputs": [],
   "source": []
  },
  {
   "cell_type": "code",
   "execution_count": null,
   "metadata": {
    "hidden": true,
    "run_control": {
     "frozen": false,
     "read_only": false
    }
   },
   "outputs": [],
   "source": []
  },
  {
   "cell_type": "markdown",
   "metadata": {
    "heading_collapsed": true
   },
   "source": [
    "# hide"
   ]
  },
  {
   "cell_type": "code",
   "execution_count": 391,
   "metadata": {
    "hidden": true,
    "run_control": {
     "frozen": false,
     "read_only": false
    }
   },
   "outputs": [],
   "source": [
    "def rejoin_formatted_desc(description, replacement_span):\n",
    "    tokenized_description = [sent.split() for sent in sent_tokenize(td1)]\n",
    "    replace_word = tokenized_description[replacement_span[0]][replacement_span[1]]\n",
    "    tokenized_description[replacement_span[0]][replacement_span[1]]  = '<target>' + replace_word + '</target>'\n",
    "    joined_desc = ' '.join([' '.join([w for w in sent]) for sent in tokenized_description])\n",
    "    return joined_desc"
   ]
  },
  {
   "cell_type": "code",
   "execution_count": null,
   "metadata": {
    "hidden": true
   },
   "outputs": [],
   "source": [
    "s4a_go_vids = unpickle_this('../../build_dataset/s4a_rem_batch_3.pkl')"
   ]
  },
  {
   "cell_type": "code",
   "execution_count": null,
   "metadata": {
    "hidden": true
   },
   "outputs": [],
   "source": [
    "# new_vids = set(new_4a_assignemnts_update.keys()).difference(set(new_4a_assignemnts.keys()))"
   ]
  },
  {
   "cell_type": "code",
   "execution_count": null,
   "metadata": {
    "hidden": true
   },
   "outputs": [],
   "source": [
    "test_res = unpickle_this('./sample_s4a_results.pkl')\n",
    "\n",
    "first_test_batch = unpickle_this('test_batch_1.pkl')\n",
    "first_prod_batch = unpickle_this('first_prod_batch.pkl')"
   ]
  },
  {
   "cell_type": "code",
   "execution_count": null,
   "metadata": {
    "hidden": true
   },
   "outputs": [],
   "source": [
    "# noncon_lookup = noncon_subsets_choices.to_dict()\n",
    "# noncon_lookup_exists = {k: v for k, v in noncon_lookup.items()}"
   ]
  },
  {
   "cell_type": "code",
   "execution_count": null,
   "metadata": {
    "hidden": true
   },
   "outputs": [],
   "source": [
    "obj_arr = cons_df['con_objects'].apply(lambda x: np.array([ob.split('_')[0] for ob in x])).values\n",
    "obj_series = pd.Series(np.hstack(obj_arr))\n",
    "obj_series.shape"
   ]
  },
  {
   "cell_type": "code",
   "execution_count": null,
   "metadata": {
    "hidden": true
   },
   "outputs": [],
   "source": [
    "# videos_w_objs = [vid for vid in dataset if vid.gid() in video_object_lookup if vid.vid_data['objects']['descriptors'][0] != 'None']"
   ]
  },
  {
   "cell_type": "code",
   "execution_count": null,
   "metadata": {
    "hidden": true,
    "run_control": {
     "frozen": false,
     "read_only": false
    }
   },
   "outputs": [],
   "source": [
    "# setting_lookup = {vid.gid(): vid.setting() for vid in dataset}\n",
    "\n",
    "# combined_lookup_no_settings_raw = {k: [v for v in vals if v.split('_') != setting_lookup[k]] for k, vals in combined_lookup.items()} \n",
    "\n",
    "# combined_lookup_no_settings = {k: v for k, v in combined_lookup_no_settings_raw.items() if v}\n",
    "\n",
    "# vids_with_parts = {k: vals for k, vals in combined_lookup.items() if set([v.split('_')[0] for v in vals]).intersection(set(['hands', 'eyes', 'arms', 'fingers']))} \n",
    "\n",
    "# vids_with_parts_ids = set(vids_with_parts.keys())\n",
    "\n",
    "# pickle_this(vids_with_parts_ids, 'ids_to_target.pkl')"
   ]
  },
  {
   "cell_type": "code",
   "execution_count": 12,
   "metadata": {
    "hidden": true,
    "run_control": {
     "frozen": false,
     "read_only": false
    }
   },
   "outputs": [],
   "source": [
    "# no_con_df[['image_id', 'description', 'object_words']].to_csv('stage4a_test_1_no_con.csv', index=False)"
   ]
  },
  {
   "cell_type": "code",
   "execution_count": null,
   "metadata": {
    "collapsed": true,
    "hidden": true,
    "run_control": {
     "frozen": false,
     "read_only": false
    }
   },
   "outputs": [],
   "source": [
    "# all_objs = [obj.split('_')[0].lower() for obl in combined_lookup.values() for obj in obl]\n",
    "\n",
    "# all_obj_ser = pd.Series(all_objs)\n",
    "\n",
    "# plural_objs = [ob for ob in all_objs if ob[-1] == 's' and ob[-2] != 's']\n",
    "\n",
    "# pd.Series(plural_objs).value_counts()[:100]"
   ]
  },
  {
   "cell_type": "code",
   "execution_count": null,
   "metadata": {
    "collapsed": true,
    "hidden": true,
    "run_control": {
     "frozen": false,
     "read_only": false
    }
   },
   "outputs": [],
   "source": []
  },
  {
   "cell_type": "code",
   "execution_count": null,
   "metadata": {
    "collapsed": true,
    "hidden": true,
    "run_control": {
     "frozen": false,
     "read_only": false
    }
   },
   "outputs": [],
   "source": []
  },
  {
   "cell_type": "code",
   "execution_count": null,
   "metadata": {
    "collapsed": true,
    "hidden": true,
    "run_control": {
     "frozen": false,
     "read_only": false
    }
   },
   "outputs": [],
   "source": []
  },
  {
   "cell_type": "code",
   "execution_count": 267,
   "metadata": {
    "collapsed": true,
    "hidden": true,
    "run_control": {
     "frozen": false,
     "read_only": false
    }
   },
   "outputs": [],
   "source": [
    "def clean_response(resp_str):\n",
    "    resp_str = resp_str.lower()\n",
    "    resp_str = resp_str.replace('\\n', ' ')\n",
    "    resp_str = resp_str.strip()\n",
    "    return resp_str"
   ]
  },
  {
   "cell_type": "code",
   "execution_count": 268,
   "metadata": {
    "collapsed": true,
    "hidden": true,
    "run_control": {
     "frozen": false,
     "read_only": false
    }
   },
   "outputs": [],
   "source": [
    "def select_string(resp_row):\n",
    "    resp_mode = st.stats.mode(resp_row)\n",
    "    if resp_mode.count[0] > 1:\n",
    "        return resp_mode.mode[0]\n",
    "    else:\n",
    "        sorted_resp = sorted(resp_row.values.tolist(), key=lambda x: len(x))\n",
    "        superset_resp = [resp for resp in sorted_resp[1:] if sorted_resp[0] in resp]\n",
    "        if superset_resp:\n",
    "            response_freqs = {k: setting_freq_lookup[k] for k in superset_resp + [sorted_resp[0]]} \n",
    "        else:\n",
    "            response_freqs = {k: setting_freq_lookup[k] for k in sorted_resp} \n",
    "        return sorted(response_freqs.items(), key=lambda x: x[1], reverse=True)[0][0]\n",
    "    "
   ]
  },
  {
   "cell_type": "code",
   "execution_count": 269,
   "metadata": {
    "collapsed": true,
    "hidden": true,
    "run_control": {
     "frozen": false,
     "read_only": false
    },
    "scrolled": true
   },
   "outputs": [],
   "source": [
    "consensus_settings = settings_per_turker.iloc[:,1:].apply(select_string, axis=1)"
   ]
  },
  {
   "cell_type": "code",
   "execution_count": 270,
   "metadata": {
    "hidden": true,
    "run_control": {
     "frozen": false,
     "read_only": false
    }
   },
   "outputs": [
    {
     "data": {
      "text/plain": [
       "0           room\n",
       "1    living room\n",
       "2        doorway\n",
       "3           room\n",
       "4        outside\n",
       "dtype: object"
      ]
     },
     "execution_count": 270,
     "metadata": {},
     "output_type": "execute_result"
    }
   ],
   "source": [
    "consensus_settings.head()"
   ]
  },
  {
   "cell_type": "code",
   "execution_count": 271,
   "metadata": {
    "collapsed": true,
    "hidden": true,
    "run_control": {
     "frozen": false,
     "read_only": false
    }
   },
   "outputs": [],
   "source": [
    "cleaned_settings_per_turker = pd.concat([settings_per_turker['image_id'], settings_per_turker.iloc[:,1:].applymap(clean_response)], axis=1)"
   ]
  },
  {
   "cell_type": "code",
   "execution_count": 272,
   "metadata": {
    "collapsed": true,
    "hidden": true,
    "run_control": {
     "frozen": false,
     "read_only": false
    }
   },
   "outputs": [],
   "source": [
    "cleaned_settings_per_turker['consensus'] = consensus_settings"
   ]
  },
  {
   "cell_type": "code",
   "execution_count": 273,
   "metadata": {
    "collapsed": true,
    "hidden": true,
    "run_control": {
     "frozen": false,
     "read_only": false
    }
   },
   "outputs": [],
   "source": [
    "gif_uris = grouped_by_image['gif_uri'].agg(np.max)"
   ]
  },
  {
   "cell_type": "code",
   "execution_count": 274,
   "metadata": {
    "collapsed": true,
    "hidden": true,
    "run_control": {
     "frozen": false,
     "read_only": false
    }
   },
   "outputs": [],
   "source": [
    "cleaned_settings_per_turker = pd.merge(pd.DataFrame(gif_uris).reset_index(), cleaned_settings_per_turker)"
   ]
  },
  {
   "cell_type": "code",
   "execution_count": 275,
   "metadata": {
    "hidden": true,
    "run_control": {
     "frozen": false,
     "read_only": false
    }
   },
   "outputs": [
    {
     "data": {
      "text/plain": [
       "(10893, 6)"
      ]
     },
     "execution_count": 275,
     "metadata": {},
     "output_type": "execute_result"
    }
   ],
   "source": [
    "cleaned_settings_per_turker.shape"
   ]
  },
  {
   "cell_type": "code",
   "execution_count": 276,
   "metadata": {
    "collapsed": true,
    "hidden": true,
    "run_control": {
     "frozen": false,
     "read_only": false
    }
   },
   "outputs": [],
   "source": [
    "cleaned_settings_per_turker.sample(200).to_csv('stage_3a_prod_2.csv')"
   ]
  },
  {
   "cell_type": "code",
   "execution_count": 277,
   "metadata": {
    "hidden": true,
    "run_control": {
     "frozen": false,
     "read_only": false
    }
   },
   "outputs": [
    {
     "data": {
      "text/plain": [
       "bin: 100-inf    10089\n",
       "bin: 21-100       522\n",
       "bin: 11-20        140\n",
       "bin: 1-5           72\n",
       "bin: 6-10          70\n",
       "dtype: int64"
      ]
     },
     "execution_count": 277,
     "metadata": {},
     "output_type": "execute_result"
    }
   ],
   "source": [
    "consensus_settings.apply(lambda x: bin_settings_lookup[x]).value_counts()"
   ]
  },
  {
   "cell_type": "code",
   "execution_count": 280,
   "metadata": {
    "collapsed": true,
    "hidden": true,
    "run_control": {
     "frozen": false,
     "marked": false,
     "read_only": false
    }
   },
   "outputs": [],
   "source": [
    "prod_1_setting = cleaned_settings_per_turker[['image_id', 'consensus']]"
   ]
  },
  {
   "cell_type": "code",
   "execution_count": 281,
   "metadata": {
    "collapsed": true,
    "hidden": true,
    "run_control": {
     "frozen": false,
     "read_only": false
    }
   },
   "outputs": [],
   "source": [
    "prod_1_setting.index = prod_1_setting['image_id']"
   ]
  },
  {
   "cell_type": "code",
   "execution_count": 283,
   "metadata": {
    "collapsed": true,
    "hidden": true,
    "run_control": {
     "frozen": false,
     "read_only": false
    }
   },
   "outputs": [],
   "source": [
    "pickle_this(prod_1_setting['consensus'].to_dict(), 'stage3_prod1_2_settings.pkl')"
   ]
  }
 ],
 "metadata": {
  "kernelspec": {
   "display_name": "Python 3",
   "language": "python",
   "name": "python3"
  },
  "language_info": {
   "codemirror_mode": {
    "name": "ipython",
    "version": 3
   },
   "file_extension": ".py",
   "mimetype": "text/x-python",
   "name": "python",
   "nbconvert_exporter": "python",
   "pygments_lexer": "ipython3",
   "version": "3.6.2"
  }
 },
 "nbformat": 4,
 "nbformat_minor": 1
}
